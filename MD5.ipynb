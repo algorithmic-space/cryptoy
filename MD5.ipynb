{
 "cells": [
  {
   "cell_type": "markdown",
   "metadata": {},
   "source": [
    "# MD5\n",
    "** Implementation of the RFC-1321 MD5 Algorithm **\n",
    "\n",
    "*... in Python*\n",
    "\n",
    "MD5 was proposed in 1991 by Professor Ronald Rivest (The R of the RSA) to replace the MD4 algorithm. The MD5 is a digest algorithm that works on a sequence of 512 bit blocks of data to finally produce a 128 bit hash. This is a one way function as there is no way to recover the original message from the MD5 hash. As of 2012, the MD5 was considered cryptographically broken and unsutable for security applications.\n",
    "\n",
    "This implementation of MD5 is for demonstrattion purposes to understand and see the MD5 algorithm in action with all intermediate steps."
   ]
  },
  {
   "cell_type": "markdown",
   "metadata": {},
   "source": [
    "### Define and Select Test Cases"
   ]
  },
  {
   "cell_type": "code",
   "execution_count": 1,
   "metadata": {},
   "outputs": [],
   "source": [
    "test_case=[[\"\",\"d41d8cd98f00b204e9800998ecf8427e\"],\\\n",
    "           [\"a\",\"0cc175b9c0f1b6a831c399e269772661\"],\\\n",
    "           [\"abc\",\"900150983cd24fb0d6963f7d28e17f72\"],\\\n",
    "           [\"message digest\",\"f96b697d7cb7938d525a2f31aaf161d0\"],\\\n",
    "           [\"abcdefghijklmnopqrstuvwxyz\",\"c3fcd3d76192e4007dfb496cca67e13b\"],\\\n",
    "           [\"ABCDEFGHIJKLMNOPQRSTUVWXYZabcdefghijklmnopqrstuvwxyz0123456789\",\"d174ab98d277d9f5a5611c2c9f419d9f\"],\\\n",
    "           [\"12345678901234567890123456789012345678901234567890123456789012345678901234567890\",\"57edf4a22be3c955ac49da2e2107b67a\"]]\n",
    "use_test_case = 3\n",
    "##\n",
    "message = test_case[use_test_case][0]\n",
    "ref_hash = test_case[use_test_case][1]"
   ]
  },
  {
   "cell_type": "markdown",
   "metadata": {},
   "source": [
    "### Step 1 - Append Padding Bits\n",
    "\n",
    "The messsage to be hashed is padded to have a length equal to 8 bytes {64 bits} less than being a multiple of 64 bytes {512 bits}. The padding step is performed even if the message length is already of desired length. The padding bit string used is `1` followed by `0` - `100...000`\n",
    "\n",
    "The message length is eventually 56 bytes {448 bits}, 120 bytes {960 bits}, 184 bytes {1472 bits}, 248 bytes {1984 bits} and so on."
   ]
  },
  {
   "cell_type": "code",
   "execution_count": 2,
   "metadata": {},
   "outputs": [
    {
     "name": "stdout",
     "output_type": "stream",
     "text": [
      "Message Length : 14 bytes {112 bits}\n"
     ]
    }
   ],
   "source": [
    "message_len = len(message)\n",
    "message_len_bits = message_len * 8\n",
    "print(\"Message Length : \" + str(message_len) + \" bytes {\" + str(message_len_bits) + \" bits}\")"
   ]
  },
  {
   "cell_type": "code",
   "execution_count": 3,
   "metadata": {},
   "outputs": [],
   "source": [
    "# Encode string to bytes\n",
    "message_b = message.encode('utf-8')"
   ]
  },
  {
   "cell_type": "code",
   "execution_count": 4,
   "metadata": {},
   "outputs": [
    {
     "name": "stdout",
     "output_type": "stream",
     "text": [
      "Padding Length : 42 bytes {336 bits}\n"
     ]
    }
   ],
   "source": [
    "# Calculate padding length\n",
    "padding_len=56-message_len%64\n",
    "padding_len=64 if (padding_len==0) else padding_len\n",
    "print(\"Padding Length : \" + str(padding_len) + \" bytes {\" + str(padding_len * 8) + \" bits}\")"
   ]
  },
  {
   "cell_type": "code",
   "execution_count": 5,
   "metadata": {},
   "outputs": [
    {
     "name": "stdout",
     "output_type": "stream",
     "text": [
      "Padded Message :\n",
      "b'message digest\\x80\\x00\\x00\\x00\\x00\\x00\\x00\\x00\\x00\\x00\\x00\\x00\\x00\\x00\\x00\\x00\\x00\\x00\\x00\\x00\\x00\\x00\\x00\\x00\\x00\\x00\\x00\\x00\\x00\\x00\\x00\\x00\\x00\\x00\\x00\\x00\\x00\\x00\\x00\\x00\\x00\\x00'\n",
      "\n",
      "length(paddedMessage)      : 56 bytes {448 bits}\n",
      "length(paddedMessage) % 64 : 56 bytes {448 bits}\n"
     ]
    }
   ],
   "source": [
    "# Display Padded Message, length and calculation.\n",
    "message_mod448 = message_b + b'\\x80' + b'\\x00' * (padding_len-1)\n",
    "print(\"Padded Message :\\n\"+str(message_mod448))\n",
    "print(\"\\nlength(paddedMessage)      : \"+str(len(message_mod448))+\" bytes {\"+str(len(message_mod448*8))+\" bits}\\nlength(paddedMessage) % 64 : \"+str(len(message_mod448)%64)+\" bytes {\"+str((len(message_mod448)%64) * 8)+\" bits}\" )"
   ]
  },
  {
   "cell_type": "markdown",
   "metadata": {},
   "source": [
    "### Step 2 - Append Length\n",
    "\n",
    "The bit length of the original message is appened to this _64 bits short of %512 bit_ message. This bit length is appeneded as an 8 byte {64 bits} little endian integer.\n",
    "\n",
    "So, a message of length 14 bytes (_try test case # 3_) would have a bit length of 112 bits and the appended 64 bit little endian bit length would be `0x7000000000000000` (as hex) or `b'p\\x00\\x00\\x00\\x00\\x00\\x00\\x00'` (as a byte string). If the message length is $> 2^{64}$ bits, only the lower 64 bits are used for padding."
   ]
  },
  {
   "cell_type": "code",
   "execution_count": 6,
   "metadata": {},
   "outputs": [
    {
     "name": "stdout",
     "output_type": "stream",
     "text": [
      "LSB64(len(unPaddedMessage)) : b'p\\x00\\x00\\x00\\x00\\x00\\x00\\x00'\n",
      "length( paddedMessage | LSB64(len(unPaddedMessage)) ) : 64 bytes {512 bits}\n",
      "\n",
      "Padded Message | LSB64(len(unPaddedMessage)) :\n",
      "b'message digest\\x80\\x00\\x00\\x00\\x00\\x00\\x00\\x00\\x00\\x00\\x00\\x00\\x00\\x00\\x00\\x00\\x00\\x00\\x00\\x00\\x00\\x00\\x00\\x00\\x00\\x00\\x00\\x00\\x00\\x00\\x00\\x00\\x00\\x00\\x00\\x00\\x00\\x00\\x00\\x00\\x00\\x00p\\x00\\x00\\x00\\x00\\x00\\x00\\x00'\n"
     ]
    }
   ],
   "source": [
    "# Append Length\n",
    "processed_message=message_mod448+(message_len_bits%2**64).to_bytes(8,byteorder='little')\n",
    "print(\"LSB64(len(unPaddedMessage)) : \"+str((message_len_bits%2**64).to_bytes(8,byteorder='little')))\n",
    "print(\"length( paddedMessage | LSB64(len(unPaddedMessage)) ) : \"+str(len(processed_message))+\" bytes {\"+str(len(processed_message)*8)+\" bits}\")\n",
    "print(\"\\nPadded Message | LSB64(len(unPaddedMessage)) :\\n\"+str(processed_message))"
   ]
  },
  {
   "cell_type": "markdown",
   "metadata": {},
   "source": [
    "### Step 3 - Initilize MD Buffer"
   ]
  },
  {
   "cell_type": "code",
   "execution_count": 7,
   "metadata": {},
   "outputs": [],
   "source": [
    "A = 0x67452301\n",
    "B = 0xEFCDAB89\n",
    "C = 0x98BADCFE\n",
    "D = 0x10325476"
   ]
  },
  {
   "cell_type": "markdown",
   "metadata": {},
   "source": [
    "### Step 4 - Process Message in 16-Word Blocks"
   ]
  },
  {
   "cell_type": "code",
   "execution_count": 8,
   "metadata": {},
   "outputs": [],
   "source": [
    "# Auxulary functions that take in 3x 32bit words and return 1x32bit word.\n",
    "\n",
    "def F(X, Y, Z):\n",
    "    return ((X&Y) | ((~X) & Z))\n",
    "\n",
    "def G(X, Y, Z):\n",
    "    return ((X&Z) | (Y & (~Z)))\n",
    "\n",
    "def H(X, Y, Z):\n",
    "    return (X^Y^Z)\n",
    "\n",
    "def I(X, Y, Z):\n",
    "    return ( Y^(X|(~Z)) )"
   ]
  },
  {
   "cell_type": "code",
   "execution_count": 9,
   "metadata": {},
   "outputs": [],
   "source": [
    "# Sine Table\n",
    "sine_T=[0xD76AA478, 0xE8C7B756, 0x242070DB, 0xC1BDCEEE, 0xF57C0FAF, 0x4787C62A, 0xA8304613, 0xFD469501, 0x698098D8, 0x8B44F7AF, 0xFFFF5BB1, 0x895CD7BE, 0x6B901122, 0xFD987193, 0xA679438E, 0x49B40821, 0xF61E2562, 0xC040B340, 0x265E5A51, 0xE9B6C7AA, 0xD62F105D, 0x02441453, 0xD8A1E681, 0xE7D3FBC8, 0x21E1CDE6, 0xC33707D6, 0xF4D50D87, 0x455A14ED, 0xA9E3E905, 0xFCEFA3F8, 0x676F02D9, 0x8D2A4C8A, 0xFFFA3942, 0x8771F681, 0x6d9d6122, 0xFDE5380C, 0xA4BEEA44, 0x4BDECFA9, 0xF6BB4B60, 0xBEBFBC70, 0x289B7EC6, 0xEAA127FA, 0xD4EF3085, 0x04881D05, 0xD9D4D039, 0xE6DB99E5, 0x1FA27CF8, 0xC4AC5665, 0xF4292244, 0x432AFF97, 0xAB9423A7, 0xFC93A039, 0x655B59C3, 0x8F0CCC92, 0xFFEFF47D, 0x85845DD1, 0x6FA87E4F, 0xFE2CE6E0, 0xA3014314, 0x4E0811A1, 0xF7537E82, 0xBD3AF235, 0x2AD7D2BB, 0xEB86D391]"
   ]
  },
  {
   "cell_type": "code",
   "execution_count": 10,
   "metadata": {},
   "outputs": [],
   "source": [
    "# Rotate Left\n",
    "def rotl(x,s):\n",
    "    return ( (x<<s) | x>>(32-s))"
   ]
  },
  {
   "cell_type": "code",
   "execution_count": 11,
   "metadata": {},
   "outputs": [],
   "source": [
    "# Shift Table\n",
    "R1_s=[7,12,17,22]*4\n",
    "R2_s=[5, 9,14,20]*4\n",
    "R3_s=[4,11,16,23]*4\n",
    "R4_s=[6,10,15,21]*4\n",
    "\n",
    "# K table (to use a sub-string of the message)\n",
    "R1_k = [0, 1, 2, 3, 4, 5, 6, 7, 8, 9, 10, 11, 12, 13, 14, 15]\n",
    "R2_k = [1, 6, 11, 0, 5, 10, 15, 4, 9, 14, 3, 8, 13, 2, 7, 12]\n",
    "R3_k = [5, 8, 11, 14, 1, 4, 7, 10, 13, 0, 3, 6, 9, 12, 15, 2]\n",
    "R4_k = [0, 7, 14, 5, 12, 3, 10, 1, 8, 15, 6, 13, 4, 11, 2, 9]"
   ]
  },
  {
   "cell_type": "code",
   "execution_count": 12,
   "metadata": {},
   "outputs": [],
   "source": [
    "\n",
    "def bytereverse(num32):\n",
    "    rev_byte=0;\n",
    "    for i in range(0,16):\n",
    "        #print(hex(num32)+\" \"+hex(rev_byte))\n",
    "        rev_byte = rev_byte << 8\n",
    "        \n",
    "        low_order_byte = num32 & 0xFF\n",
    "        rev_byte = rev_byte | low_order_byte\n",
    "        \n",
    "        num32 = num32 >> 8\n",
    "    return rev_byte"
   ]
  },
  {
   "cell_type": "code",
   "execution_count": 13,
   "metadata": {},
   "outputs": [],
   "source": [
    "## Round Functions\n",
    "def round1(a, b, c, d, X, k, sine_i, s):\n",
    "    Xk = int.from_bytes(X[4*k:4*k+4],byteorder='little')\n",
    "    #print(hex(F(b,c,d)))\n",
    "    FN = F(b,c,d)\n",
    "    a = (a + FN + Xk + sine_i) & 0xFFFFFFFF\n",
    "    a = ((rotl(a , s)& 0xFFFFFFFF) + b) & 0xFFFFFFFF\n",
    "    round_output(4,k,s,sine_i,FN)\n",
    "    return a \n",
    "\n",
    "def round2(a, b, c, d, X, k, sine_i, s):\n",
    "    Xk = int.from_bytes(X[4*k:4*k+4],byteorder='little')\n",
    "    #print(hex(G(b,c,d)))\n",
    "    FN = G(b,c,d)\n",
    "    a = (a + FN + Xk + sine_i) & 0xFFFFFFFF\n",
    "    a = ((rotl(a , s)& 0xFFFFFFFF) + b) & 0xFFFFFFFF\n",
    "    round_output(4,k,s,sine_i,FN)\n",
    "    return a \n",
    "\n",
    "def round3(a, b, c, d, X, k, sine_i, s):\n",
    "    Xk = int.from_bytes(X[4*k:4*k+4],byteorder='little')\n",
    "    #print(hex(H(b,c,d)))\n",
    "    FN = H(b,c,d)\n",
    "    a = (a + FN + Xk + sine_i) & 0xFFFFFFFF\n",
    "    a = ((rotl(a , s)& 0xFFFFFFFF) + b) & 0xFFFFFFFF\n",
    "    round_output(4,k,s,sine_i,FN)\n",
    "    return a\n",
    "\n",
    "def round4(a, b, c, d, X, k, sine_i, s):\n",
    "    Xk = int.from_bytes(X[4*k:4*k+4],byteorder='little')\n",
    "    #print(hex(I(b,c,d)))\n",
    "    FN = I(b,c,d)\n",
    "    a = (a + FN + Xk + sine_i) & 0xFFFFFFFF\n",
    "    a = ((rotl(a , s)& 0xFFFFFFFF) + b) & 0xFFFFFFFF\n",
    "    round_output(4,k,s,sine_i,FN)\n",
    "    return a\n",
    "\n",
    "def round_output(R,k,s,sine_i,FN):\n",
    "    print(\"     R\"+str(R)+\" | K = \"+\"{:2d}\".format(k)+\" | s = \"+\"{:2d}\".format(s)+\" | sine = \"+\"{:8x}\".format(sine_i)+\" | {:9x}\".format(FN))\n",
    "    return None"
   ]
  },
  {
   "cell_type": "code",
   "execution_count": 14,
   "metadata": {
    "scrolled": true
   },
   "outputs": [
    {
     "name": "stdout",
     "output_type": "stream",
     "text": [
      "PROCESSING bytes 0...64\n",
      "\n",
      "Message chunk being processed :\n",
      "b'message digest\\x80\\x00\\x00\\x00\\x00\\x00\\x00\\x00\\x00\\x00\\x00\\x00\\x00\\x00\\x00\\x00\\x00\\x00\\x00\\x00\\x00\\x00\\x00\\x00\\x00\\x00\\x00\\x00\\x00\\x00\\x00\\x00\\x00\\x00\\x00\\x00\\x00\\x00\\x00\\x00\\x00\\x00p\\x00\\x00\\x00\\x00\\x00\\x00\\x00' \n",
      "\n",
      "*** ROUND 1 ***\n",
      "     R4 | K =  0 | s =  7 | sine = d76aa478 |  98badcfe\n",
      "     R4 | K =  1 | s = 12 | sine = e8c7b756 |  cee8c9d8\n",
      "     R4 | K =  2 | s = 17 | sine = 242070db |  4fcf9fab\n",
      "     R4 | K =  3 | s = 22 | sine = c1bdceee |  cea2fdba\n",
      "     R4 | K =  4 | s =  7 | sine = f57c0faf |  d232f032\n",
      "     R4 | K =  5 | s = 12 | sine = 4787c62a |  b8112052\n",
      "     R4 | K =  6 | s = 17 | sine = a8304613 |  b910cd94\n",
      "     R4 | K =  7 | s = 22 | sine = fd469501 |  faebd384\n",
      "     R4 | K =  8 | s =  7 | sine = 698098d8 |  b889c502\n",
      "     R4 | K =  9 | s = 12 | sine = 8b44f7af |  c40734e9\n",
      "     R4 | K = 10 | s = 17 | sine = ffff5bb1 |  dc86d4dd\n",
      "     R4 | K = 11 | s = 22 | sine = 895cd7be |  bbfed5d8\n",
      "     R4 | K = 12 | s =  7 | sine = 6b901122 |  c730c270\n",
      "     R4 | K = 13 | s = 12 | sine = fd987193 |  47f08068\n",
      "     R4 | K = 14 | s = 17 | sine = a679438e |  5ff83d7a\n",
      "     R4 | K = 15 | s = 22 | sine = 49b40821 |  23cc5bb7\n",
      "\n",
      "*** ROUND 2 ***\n",
      "     R4 | K =  1 | s =  5 | sine = f61e2562 |  8761b45a\n",
      "     R4 | K =  6 | s =  9 | sine = c040b340 |  3564a692\n",
      "     R4 | K = 11 | s = 14 | sine = 265e5a51 |  5d14a7a2\n",
      "     R4 | K =  0 | s = 20 | sine = e9b6c7aa |  700eea03\n",
      "     R4 | K =  5 | s =  5 | sine = d62f105d |  76d5fbe9\n",
      "     R4 | K = 10 | s =  9 | sine =  2441453 |  b41c7bec\n",
      "     R4 | K = 15 | s = 14 | sine = d8a1e681 |  3d39fb18\n",
      "     R4 | K =  4 | s = 20 | sine = e7d3fbc8 |  1937dd3e\n",
      "     R4 | K =  9 | s =  5 | sine = 21e1cde6 |  ad348f3c\n",
      "     R4 | K = 14 | s =  9 | sine = c33707d6 |  76c59359\n",
      "     R4 | K =  3 | s = 14 | sine = f4d50d87 |  f3779552\n",
      "     R4 | K =  8 | s = 20 | sine = 455a14ed |  f13f76f6\n",
      "     R4 | K = 13 | s =  5 | sine = a9e3e905 |  30e3f756\n",
      "     R4 | K =  2 | s =  9 | sine = fcefa3f8 |  446fef01\n",
      "     R4 | K =  7 | s = 14 | sine = 676f02d9 |  c62f1514\n",
      "     R4 | K = 12 | s = 20 | sine = 8d2a4c8a |  887c7d14\n",
      "\n",
      "*** ROUND 3 ***\n",
      "     R4 | K =  5 | s =  4 | sine = fffa3942 |  fed874a8\n",
      "     R4 | K =  8 | s = 11 | sine = 8771f681 |  cbae3a77\n",
      "     R4 | K = 11 | s = 16 | sine = 6d9d6122 |  4f100601\n",
      "     R4 | K = 14 | s = 23 | sine = fde5380c |  e7098c51\n",
      "     R4 | K =  1 | s =  4 | sine = a4beea44 |  eb0bc965\n",
      "     R4 | K =  4 | s = 11 | sine = 4bdecfa9 |  d81e85e1\n",
      "     R4 | K =  7 | s = 16 | sine = f6bb4b60 |  f63d14f2\n",
      "     R4 | K = 10 | s = 23 | sine = bebfbc70 |  a7c6fe80\n",
      "     R4 | K = 13 | s =  4 | sine = 289b7ec6 |  970ba528\n",
      "     R4 | K =  0 | s = 11 | sine = eaa127fa |  c784f883\n",
      "     R4 | K =  3 | s = 16 | sine = d4ef3085 |  7ec71e92\n",
      "     R4 | K =  6 | s = 23 | sine =  4881d05 |  386244e5\n",
      "     R4 | K =  9 | s =  4 | sine = d9d4d039 |  8e4ac738\n",
      "     R4 | K = 12 | s = 11 | sine = e6db99e5 |  d4a65b14\n",
      "     R4 | K = 15 | s = 16 | sine = 1fa27cf8 |  19f8ef11\n",
      "     R4 | K =  2 | s = 23 | sine = c4ac5665 |  dead7c0e\n",
      "\n",
      "*** ROUND 4 ***\n",
      "     R4 | K =  0 | s =  6 | sine = f4292244 | -9ea9fab6\n",
      "     R4 | K =  7 | s = 10 | sine = 432aff97 |  -132006b\n",
      "     R4 | K = 14 | s = 15 | sine = ab9423a7 | -94d8ff23\n",
      "     R4 | K =  5 | s = 21 | sine = fc93a039 | -3b3384de\n",
      "     R4 | K = 12 | s =  6 | sine = 655b59c3 | -2071b7bc\n",
      "     R4 | K =  3 | s = 10 | sine = 8f0ccc92 | -ed8ac245\n",
      "     R4 | K = 10 | s = 15 | sine = ffeff47d | -f650e06e\n",
      "     R4 | K =  1 | s = 21 | sine = 85845dd1 | -5d8e1fb1\n",
      "     R4 | K =  8 | s =  6 | sine = 6fa87e4f | -62d43e11\n",
      "     R4 | K = 15 | s = 10 | sine = fe2ce6e0 | -9046d5de\n",
      "     R4 | K =  6 | s = 15 | sine = a3014314 |  -53d6e37\n",
      "     R4 | K = 13 | s = 21 | sine = 4e0811a1 | -d3f685cf\n",
      "     R4 | K =  4 | s =  6 | sine = f7537e82 | -71d47aa6\n",
      "     R4 | K = 11 | s = 10 | sine = bd3af235 |  -60ff534\n",
      "     R4 | K =  2 | s = 15 | sine = 2ad7d2bb | -31340afb\n",
      "     R4 | K =  9 | s = 21 | sine = eb86d391 | -c62f9d9d\n",
      "\n",
      "*** MD Buffers after processing chunk ***\n",
      "[D C B A] = [d061f1aa 312f5a52 8d93b77c 7d696bf9]\n",
      "\n",
      "\n"
     ]
    }
   ],
   "source": [
    "# Loop though the various 512 bit blocks of a long message.\n",
    "for i in range(0,len(processed_message),64):\n",
    "    print(\"PROCESSING bytes \"+str(i)+\"...\"+str(i+64))\n",
    "    X  = processed_message[i:i+64]\n",
    "    print(\"\\nMessage chunk being processed :\\n\"+str(X)+\" \\n\")\n",
    "    AA = A\n",
    "    BB = B\n",
    "    CC = C\n",
    "    DD = D\n",
    "    \n",
    "    #round 1\n",
    "    print(\"*** ROUND 1 ***\")\n",
    "    A = round1(A, B, C, D, X, R1_k[0], sine_T[0], R1_s[0])\n",
    "    D = round1(D, A, B, C, X, R1_k[1], sine_T[1], R1_s[1])\n",
    "    C = round1(C, D, A, B, X, R1_k[2], sine_T[2], R1_s[2])\n",
    "    B = round1(B, C, D, A, X, R1_k[3], sine_T[3], R1_s[3])\n",
    "    \n",
    "    A = round1(A, B, C, D, X, R1_k[4], sine_T[4], R1_s[4])\n",
    "    D = round1(D, A, B, C, X, R1_k[5], sine_T[5], R1_s[5])\n",
    "    C = round1(C, D, A, B, X, R1_k[6], sine_T[6], R1_s[6])\n",
    "    B = round1(B, C, D, A, X, R1_k[7], sine_T[7], R1_s[7])\n",
    "    \n",
    "    A = round1(A, B, C, D, X, R1_k[8], sine_T[8], R1_s[8])\n",
    "    D = round1(D, A, B, C, X, R1_k[9], sine_T[9], R1_s[9])\n",
    "    C = round1(C, D, A, B, X, R1_k[10], sine_T[10], R1_s[10])\n",
    "    B = round1(B, C, D, A, X, R1_k[11], sine_T[11], R1_s[11])\n",
    "    \n",
    "    A = round1(A, B, C, D, X, R1_k[12], sine_T[12], R1_s[12])\n",
    "    D = round1(D, A, B, C, X, R1_k[13], sine_T[13], R1_s[13])\n",
    "    C = round1(C, D, A, B, X, R1_k[14], sine_T[14], R1_s[14])\n",
    "    B = round1(B, C, D, A, X, R1_k[15], sine_T[15], R1_s[15])\n",
    "    \n",
    "    print(\"\\n*** ROUND 2 ***\")\n",
    "    A = round2(A, B, C, D, X, R2_k[0], sine_T[16], R2_s[0])\n",
    "    D = round2(D, A, B, C, X, R2_k[1], sine_T[17], R2_s[1])\n",
    "    C = round2(C, D, A, B, X, R2_k[2], sine_T[18], R2_s[2])\n",
    "    B = round2(B, C, D, A, X, R2_k[3], sine_T[19], R2_s[3])\n",
    "    \n",
    "    A = round2(A, B, C, D, X, R2_k[4], sine_T[20], R2_s[4])\n",
    "    D = round2(D, A, B, C, X, R2_k[5], sine_T[21], R2_s[5])\n",
    "    C = round2(C, D, A, B, X, R2_k[6], sine_T[22], R2_s[6])\n",
    "    B = round2(B, C, D, A, X, R2_k[7], sine_T[23], R2_s[7])\n",
    "    \n",
    "    A = round2(A, B, C, D, X, R2_k[8], sine_T[24], R2_s[8])\n",
    "    D = round2(D, A, B, C, X, R2_k[9], sine_T[25], R2_s[9])\n",
    "    C = round2(C, D, A, B, X, R2_k[10], sine_T[26], R2_s[10])\n",
    "    B = round2(B, C, D, A, X, R2_k[11], sine_T[27], R2_s[11])\n",
    "    \n",
    "    A = round2(A, B, C, D, X, R2_k[12], sine_T[28], R2_s[12])\n",
    "    D = round2(D, A, B, C, X, R2_k[13], sine_T[29], R2_s[13])\n",
    "    C = round2(C, D, A, B, X, R2_k[14], sine_T[30], R2_s[14])\n",
    "    B = round2(B, C, D, A, X, R2_k[15], sine_T[31], R2_s[15])\n",
    "    \n",
    "    print(\"\\n*** ROUND 3 ***\")\n",
    "    A = round3(A, B, C, D, X, R3_k[0], sine_T[32], R3_s[0])\n",
    "    D = round3(D, A, B, C, X, R3_k[1], sine_T[33], R3_s[1])\n",
    "    C = round3(C, D, A, B, X, R3_k[2], sine_T[34], R3_s[2])\n",
    "    B = round3(B, C, D, A, X, R3_k[3], sine_T[35], R3_s[3])\n",
    "    \n",
    "    A = round3(A, B, C, D, X, R3_k[4], sine_T[36], R3_s[4])\n",
    "    D = round3(D, A, B, C, X, R3_k[5], sine_T[37], R3_s[5])\n",
    "    C = round3(C, D, A, B, X, R3_k[6], sine_T[38], R3_s[6])\n",
    "    B = round3(B, C, D, A, X, R3_k[7], sine_T[39], R3_s[7])\n",
    "    \n",
    "    A = round3(A, B, C, D, X, R3_k[8], sine_T[40], R3_s[8])\n",
    "    D = round3(D, A, B, C, X, R3_k[9], sine_T[41], R3_s[9])\n",
    "    C = round3(C, D, A, B, X, R3_k[10], sine_T[42], R3_s[10])\n",
    "    B = round3(B, C, D, A, X, R3_k[11], sine_T[43], R3_s[11])\n",
    "    \n",
    "    A = round3(A, B, C, D, X, R3_k[12], sine_T[44], R3_s[12])\n",
    "    D = round3(D, A, B, C, X, R3_k[13], sine_T[45], R3_s[13])\n",
    "    C = round3(C, D, A, B, X, R3_k[14], sine_T[46], R3_s[14])\n",
    "    B = round3(B, C, D, A, X, R3_k[15], sine_T[47], R3_s[15])\n",
    "    \n",
    "    print(\"\\n*** ROUND 4 ***\")\n",
    "    A = round4(A, B, C, D, X, R4_k[0], sine_T[48], R4_s[0])    \n",
    "    D = round4(D, A, B, C, X, R4_k[1], sine_T[49], R4_s[1])    \n",
    "    C = round4(C, D, A, B, X, R4_k[2], sine_T[50], R4_s[2])    \n",
    "    B = round4(B, C, D, A, X, R4_k[3], sine_T[51], R4_s[3])    \n",
    "    \n",
    "    A = round4(A, B, C, D, X, R4_k[4], sine_T[52], R4_s[4])    \n",
    "    D = round4(D, A, B, C, X, R4_k[5], sine_T[53], R4_s[5])    \n",
    "    C = round4(C, D, A, B, X, R4_k[6], sine_T[54], R4_s[6])    \n",
    "    B = round4(B, C, D, A, X, R4_k[7], sine_T[55], R4_s[7])    \n",
    "    \n",
    "    A = round4(A, B, C, D, X, R4_k[8], sine_T[56], R4_s[8])    \n",
    "    D = round4(D, A, B, C, X, R4_k[9], sine_T[57], R4_s[9])    \n",
    "    C = round4(C, D, A, B, X, R4_k[10], sine_T[58], R4_s[10])\n",
    "    B = round4(B, C, D, A, X, R4_k[11], sine_T[59], R4_s[11])    \n",
    "    \n",
    "    A = round4(A, B, C, D, X, R4_k[12], sine_T[60], R4_s[12])\n",
    "    D = round4(D, A, B, C, X, R4_k[13], sine_T[61], R4_s[13])\n",
    "    C = round4(C, D, A, B, X, R4_k[14], sine_T[62], R4_s[14])\n",
    "    B = round4(B, C, D, A, X, R4_k[15], sine_T[63], R4_s[15])\n",
    "    \n",
    "    # Update the MD buffer after processing each 512 bit block.\n",
    "    A = (A + AA) & 0xFFFFFFFF\n",
    "    B = (B + BB) & 0xFFFFFFFF\n",
    "    C = (C + CC) & 0xFFFFFFFF\n",
    "    D = (D + DD) & 0xFFFFFFFF\n",
    "    \n",
    "    # Display Updated MD Buffers\n",
    "    print(\"\\n*** MD Buffers after processing chunk ***\\n[D C B A] = \"+\"[{:8x} {:8x} {:8x} {:8x}]\".format(D,C,B,A)+\"\\n\\n\")"
   ]
  },
  {
   "cell_type": "code",
   "execution_count": 15,
   "metadata": {},
   "outputs": [
    {
     "name": "stdout",
     "output_type": "stream",
     "text": [
      "OUTPUT      : 0xf96b697d7cb7938d525a2f31aaf161d0\n",
      "REF. Hash   : 0xf96b697d7cb7938d525a2f31aaf161d0\n"
     ]
    }
   ],
   "source": [
    "# Compute output hash from the MD buffers.\n",
    "output_int = D<<96 | C <<64 | B << 32 | A\n",
    "\n",
    "# The MD5 hash starts with the lowest order byte of A ... highest order byte of D\n",
    "print(\"OUTPUT      : \"+hex(bytereverse(output_int)))\n",
    "print(\"REF. Hash   : 0x\"+test_case[use_test_case][1])"
   ]
  },
  {
   "cell_type": "markdown",
   "metadata": {},
   "source": [
    "## Compare with Python's `hashlib`"
   ]
  },
  {
   "cell_type": "code",
   "execution_count": 16,
   "metadata": {},
   "outputs": [],
   "source": [
    "import hashlib"
   ]
  },
  {
   "cell_type": "code",
   "execution_count": 17,
   "metadata": {},
   "outputs": [
    {
     "name": "stdout",
     "output_type": "stream",
     "text": [
      "Hashlib MD5 : 0xf96b697d7cb7938d525a2f31aaf161d0\n"
     ]
    }
   ],
   "source": [
    "H = hashlib.new('md5')\n",
    "H.update(message_b)\n",
    "md5hash=H.hexdigest()\n",
    "print(\"Hashlib MD5 : 0x\"+md5hash)"
   ]
  },
  {
   "cell_type": "markdown",
   "metadata": {},
   "source": [
    "### References\n",
    "\n",
    "1. [RFC-1321](https://tools.ietf.org/html/rfc1321)\n",
    "2. [Wikipedia](https://en.wikipedia.org/wiki/MD5)\n",
    "3. [Rosetta Code](https://rosettacode.org/wiki/MD5/Implementation#Python)"
   ]
  }
 ],
 "metadata": {
  "kernelspec": {
   "display_name": "Python [conda env:anaconda3]",
   "language": "python",
   "name": "conda-env-anaconda3-py"
  },
  "language_info": {
   "codemirror_mode": {
    "name": "ipython",
    "version": 3
   },
   "file_extension": ".py",
   "mimetype": "text/x-python",
   "name": "python",
   "nbconvert_exporter": "python",
   "pygments_lexer": "ipython3",
   "version": "3.6.5"
  }
 },
 "nbformat": 4,
 "nbformat_minor": 2
}
