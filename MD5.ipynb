{
 "cells": [
  {
   "cell_type": "markdown",
   "metadata": {},
   "source": [
    "# MD5"
   ]
  },
  {
   "cell_type": "code",
   "execution_count": 1,
   "metadata": {},
   "outputs": [],
   "source": [
    "import time"
   ]
  },
  {
   "cell_type": "code",
   "execution_count": 2,
   "metadata": {},
   "outputs": [],
   "source": [
    "#message = \"The quick brown foxx jumps over the lazy dog very quickly and very brownly!  After all it was a quick fox and brown too!\"\n",
    "message = \"A\""
   ]
  },
  {
   "cell_type": "markdown",
   "metadata": {},
   "source": [
    "```\n",
    "\"A\"\n",
    "7FC56270E7A70FA81A5935B72EACBE29\n",
    "\n",
    "\"AA\"\n",
    "3B98E2DFFC6CB06A89DCB0D5C60A0206\n",
    "\n",
    "\"B\"\n",
    "9D5ED678FE57BCCA610140957AFAB571\n",
    "\n",
    "\"BB\"\n",
    "9D3D9048DB16A7EEE539E93E3618CBE7\n",
    "\n",
    "\"MD5\"\n",
    "7F138A09169B250E9DCB378140907378\n",
    "```"
   ]
  },
  {
   "cell_type": "markdown",
   "metadata": {},
   "source": [
    "### Step 1 - Append Padding Bits"
   ]
  },
  {
   "cell_type": "code",
   "execution_count": 3,
   "metadata": {},
   "outputs": [
    {
     "name": "stdout",
     "output_type": "stream",
     "text": [
      "Message Length : 1 bytes | 8 bits\n"
     ]
    }
   ],
   "source": [
    "message_len = len(message)\n",
    "message_len_bits = message_len * 8\n",
    "print(\"Message Length : \"+str(message_len)+\" bytes | \"+str(message_len_bits)+\" bits\")"
   ]
  },
  {
   "cell_type": "code",
   "execution_count": 4,
   "metadata": {},
   "outputs": [],
   "source": [
    "message_b = message.encode('utf-8')"
   ]
  },
  {
   "cell_type": "code",
   "execution_count": 5,
   "metadata": {},
   "outputs": [
    {
     "name": "stdout",
     "output_type": "stream",
     "text": [
      "Padding Length : 55bytes | 440 bits\n"
     ]
    }
   ],
   "source": [
    "padding_len=56-message_len%64\n",
    "padding_len=64 if (padding_len==0) else padding_len\n",
    "print(\"Padding Length : \"+str(padding_len)+\"bytes | \"+str(padding_len * 8)+\" bits\")"
   ]
  },
  {
   "cell_type": "code",
   "execution_count": 6,
   "metadata": {},
   "outputs": [
    {
     "name": "stdout",
     "output_type": "stream",
     "text": [
      "Padded Message :\n",
      "b'A\\x80\\x00\\x00\\x00\\x00\\x00\\x00\\x00\\x00\\x00\\x00\\x00\\x00\\x00\\x00\\x00\\x00\\x00\\x00\\x00\\x00\\x00\\x00\\x00\\x00\\x00\\x00\\x00\\x00\\x00\\x00\\x00\\x00\\x00\\x00\\x00\\x00\\x00\\x00\\x00\\x00\\x00\\x00\\x00\\x00\\x00\\x00\\x00\\x00\\x00\\x00\\x00\\x00\\x00\\x00'\n",
      "\n",
      "length(paddedMessage)      : 56 bytes | 448 bits\n",
      "length(paddedMessage) % 64 : 56 bytes | 448 bits\n"
     ]
    }
   ],
   "source": [
    "message_mod448 = message_b + b'\\x80' + b'\\x00' * (padding_len-1)\n",
    "print(\"Padded Message :\\n\"+str(message_mod448))\n",
    "print(\"\\nlength(paddedMessage)      : \"+str(len(message_mod448))+\" bytes | \"+str(len(message_mod448*8))+\" bits\\nlength(paddedMessage) % 64 : \"+str(len(message_mod448)%64)+\" bytes | \"+str((len(message_mod448)%64) * 8)+\" bits\" )"
   ]
  },
  {
   "cell_type": "markdown",
   "metadata": {},
   "source": [
    "### Step 2 - Append Length"
   ]
  },
  {
   "cell_type": "code",
   "execution_count": 7,
   "metadata": {},
   "outputs": [
    {
     "name": "stdout",
     "output_type": "stream",
     "text": [
      "LSB64(len(unPaddedMessage)) : b'\\x00\\x00\\x00\\x00\\x00\\x00\\x00\\x08'\n",
      "length( paddedMessage | LSB64(len(unPaddedMessage)) ) : 64 bytes | 512 bits\n",
      "\n",
      "Padded Message | LSB64(len(unPaddedMessage)) :\n",
      "b'A\\x80\\x00\\x00\\x00\\x00\\x00\\x00\\x00\\x00\\x00\\x00\\x00\\x00\\x00\\x00\\x00\\x00\\x00\\x00\\x00\\x00\\x00\\x00\\x00\\x00\\x00\\x00\\x00\\x00\\x00\\x00\\x00\\x00\\x00\\x00\\x00\\x00\\x00\\x00\\x00\\x00\\x00\\x00\\x00\\x00\\x00\\x00\\x00\\x00\\x00\\x00\\x00\\x00\\x00\\x00\\x08\\x00\\x00\\x00\\x00\\x00\\x00\\x00'\n"
     ]
    }
   ],
   "source": [
    "# Append Length\n",
    "processed_message=message_mod448+(message_len_bits%2**64).to_bytes(8,byteorder='little')\n",
    "print(\"LSB64(len(unPaddedMessage)) : \"+str((message_len_bits%2**64).to_bytes(8,byteorder='big')))\n",
    "print(\"length( paddedMessage | LSB64(len(unPaddedMessage)) ) : \"+str(len(processed_message))+\" bytes | \"+str(len(processed_message)*8)+\" bits\")\n",
    "print(\"\\nPadded Message | LSB64(len(unPaddedMessage)) :\\n\"+str(processed_message))"
   ]
  },
  {
   "cell_type": "markdown",
   "metadata": {},
   "source": [
    "### Step 3 - Initilize MD Buffer"
   ]
  },
  {
   "cell_type": "code",
   "execution_count": 8,
   "metadata": {},
   "outputs": [],
   "source": [
    "A = 0x67452301\n",
    "B = 0xEFCDAB89\n",
    "C = 0x98BADCFE\n",
    "D = 0x10325476"
   ]
  },
  {
   "cell_type": "markdown",
   "metadata": {},
   "source": [
    "### Step 4 - Process Message in 16-Word Blocks"
   ]
  },
  {
   "cell_type": "code",
   "execution_count": 9,
   "metadata": {},
   "outputs": [],
   "source": [
    "def F(X, Y, Z):\n",
    "    return ((X&Y) | ((~X) & Z))\n",
    "\n",
    "def G(X, Y, Z):\n",
    "    return ((X&Z) | (Y & (~Z)))\n",
    "\n",
    "def H(X, Y, Z):\n",
    "    return (X^Y^Z)\n",
    "\n",
    "def I(X, Y, Z):\n",
    "    return ( Y^(X|(~Z)) )"
   ]
  },
  {
   "cell_type": "code",
   "execution_count": 10,
   "metadata": {},
   "outputs": [],
   "source": [
    "# Sine Table\n",
    "sine_T=[0xD76AA478, 0xE8C7B756, 0x242070DB, 0xC1BDCEEE, 0xF57C0FAF, 0x4787C62A, 0xA8304613, 0xFD469501, 0x698098D8, 0x8B44F7AF, 0xFFFF5BB1, 0x895CD7BE, 0x6B901122, 0xFD987193, 0xA679438E, 0x49B40821, 0xF61E2562, 0xC040B340, 0x265E5A51, 0xE9B6C7AA, 0xD62F105D, 0x02441453, 0xD8A1E681, 0xE7D3FBC8, 0x21E1CDE6, 0xC33707D6, 0xF4D50D87, 0x455A14ED, 0xA9E3E905, 0xFCEFA3F8, 0x676F02D9, 0x8D2A4C8A, 0xFFFA3942, 0x8771F681, 0x6d9d6122, 0xFDE5380C, 0xA4BEEA44, 0x4BDECFA9, 0xF6BB4B60, 0xBEBFBC70, 0x289B7EC6, 0xEAA127FA, 0xD4EF3085, 0x04881D05, 0xD9D4D039, 0xE6DB99E5, 0x1FA27CF8, 0xC4AC5665, 0xF4292244, 0x432AFF97, 0xAB9423A7, 0xFC93A039, 0x655B59C3, 0x8F0CCC92, 0xFFEFF47D, 0x85845DD1, 0x6FA87E4F, 0xFE2CE6E0, 0xA3014314, 0x4E0811A1, 0xF7537E82, 0xBD3AF235, 0x2AD7D2BB, 0xEB86D391]"
   ]
  },
  {
   "cell_type": "code",
   "execution_count": 11,
   "metadata": {},
   "outputs": [
    {
     "name": "stdout",
     "output_type": "stream",
     "text": [
      "0xfde5380c 0xa4beea44 0x4bdecfa9\n"
     ]
    }
   ],
   "source": [
    "print(hex(sine_T[35]),hex(sine_T[36]),hex(sine_T[37]))"
   ]
  },
  {
   "cell_type": "code",
   "execution_count": 12,
   "metadata": {},
   "outputs": [],
   "source": [
    "# Rotate Left\n",
    "def rotl(x,s):\n",
    "    return ( (x<<s) | x>>(32-s))"
   ]
  },
  {
   "cell_type": "code",
   "execution_count": 13,
   "metadata": {},
   "outputs": [],
   "source": [
    "# Shift Table\n",
    "R1_s=[7,12,17,22]*4\n",
    "R2_s=[5, 9,14,20]*4\n",
    "R3_s=[4,11,16,23]*4\n",
    "R4_s=[6,10,15,21]*4\n",
    "\n",
    "# K table\n",
    "R1_k = [0, 1, 2, 3, 4, 5, 6, 7, 8, 9, 10, 11, 12, 13, 14, 15]\n",
    "R2_k = [1, 6, 11, 0, 5, 10, 15, 4, 9, 14, 3, 8, 13, 2, 7, 12]\n",
    "R3_k = [5, 8, 11, 14, 1, 4, 7, 10, 13, 0, 3, 6, 9, 12, 15, 2]\n",
    "R4_k = [0, 7, 14, 5, 12, 3, 10, 1, 8, 15, 6, 13, 4, 11, 2, 9]"
   ]
  },
  {
   "cell_type": "code",
   "execution_count": 14,
   "metadata": {},
   "outputs": [],
   "source": [
    "def bytereverse(num32):\n",
    "    rev_byte=0;\n",
    "    for i in range(0,16):\n",
    "        #print(hex(num32)+\" \"+hex(rev_byte))\n",
    "        rev_byte = rev_byte << 8\n",
    "        \n",
    "        low_order_byte = num32 & 0xFF\n",
    "        rev_byte = rev_byte | low_order_byte\n",
    "        \n",
    "        num32 = num32 >> 8\n",
    "    return rev_byte"
   ]
  },
  {
   "cell_type": "code",
   "execution_count": 15,
   "metadata": {},
   "outputs": [],
   "source": [
    "## Round Functions\n",
    "def round1(a, b, c, d, X, k, sine_i, s):\n",
    "    Xk = int.from_bytes(X[4*k:4*k+4],byteorder='little')\n",
    "    #print(hex(F(b,c,d)))\n",
    "    FN = F(b,c,d)\n",
    "    a = (a + FN + Xk + sine_i) & 0xFFFFFFFF\n",
    "    a = ((rotl(a , s)& 0xFFFFFFFF) + b) & 0xFFFFFFFF\n",
    "    print(\"     R1 | K = \"+\"{:2d}\".format(k)+\" | s = \"+\"{:2d}\".format(s)+\" | sine = \"+\"{:8x}\".format(sine_i)+\" | {:8x}\".format(FN))\n",
    "    return a \n",
    "\n",
    "def round2(a, b, c, d, X, k, sine_i, s):\n",
    "    Xk = int.from_bytes(X[4*k:4*k+4],byteorder='little')\n",
    "    #print(hex(G(b,c,d)))\n",
    "    FN = G(b,c,d)\n",
    "    a = (a + FN + Xk + sine_i) & 0xFFFFFFFF\n",
    "    a = ((rotl(a , s)& 0xFFFFFFFF) + b) & 0xFFFFFFFF\n",
    "    print(\"     R2 | K = \"+\"{:2d}\".format(k)+\" | s = \"+\"{:2d}\".format(s)+\" | sine = \"+\"{:8x}\".format(sine_i)+\" | {:8x}\".format(FN))\n",
    "    return a \n",
    "\n",
    "def round3(a, b, c, d, X, k, sine_i, s):\n",
    "    Xk = int.from_bytes(X[4*k:4*k+4],byteorder='little')\n",
    "    #print(hex(H(b,c,d)))\n",
    "    FN = H(b,c,d)\n",
    "    a = (a + FN + Xk + sine_i) & 0xFFFFFFFF\n",
    "    a = ((rotl(a , s)& 0xFFFFFFFF) + b) & 0xFFFFFFFF\n",
    "    print(\"     R3 | K = \"+\"{:2d}\".format(k)+\" | s = \"+\"{:2d}\".format(s)+\" | sine = \"+\"{:8x}\".format(sine_i)+\" | {:8x}\".format(FN))\n",
    "    return a\n",
    "\n",
    "def round4(a, b, c, d, X, k, sine_i, s):\n",
    "    Xk = int.from_bytes(X[4*k:4*k+4],byteorder='little')\n",
    "    #print(hex(I(b,c,d)))\n",
    "    FN = I(b,c,d)\n",
    "    a = (a + FN + Xk + sine_i) & 0xFFFFFFFF\n",
    "    a = ((rotl(a , s)& 0xFFFFFFFF) + b) & 0xFFFFFFFF\n",
    "    print(\"     R4 | K = \"+\"{:2d}\".format(k)+\" | s = \"+\"{:2d}\".format(s)+\" | sine = \"+\"{:8x}\".format(sine_i)+\" | {:8x}\".format(FN))\n",
    "    return a"
   ]
  },
  {
   "cell_type": "code",
   "execution_count": 16,
   "metadata": {},
   "outputs": [
    {
     "name": "stdout",
     "output_type": "stream",
     "text": [
      "X :\n",
      "b'A\\x80\\x00\\x00\\x00\\x00\\x00\\x00\\x00\\x00\\x00\\x00\\x00\\x00\\x00\\x00\\x00\\x00\\x00\\x00\\x00\\x00\\x00\\x00\\x00\\x00\\x00\\x00\\x00\\x00\\x00\\x00\\x00\\x00\\x00\\x00\\x00\\x00\\x00\\x00\\x00\\x00\\x00\\x00\\x00\\x00\\x00\\x00\\x00\\x00\\x00\\x00\\x00\\x00\\x00\\x00\\x08\\x00\\x00\\x00\\x00\\x00\\x00\\x00'\n",
      "X_: b'A\\x80\\x00\\x00'\n",
      "X[k] : 1098907648\n",
      "0x41800000\n"
     ]
    }
   ],
   "source": [
    "i=0\n",
    "k=0\n",
    "X=processed_message[i:i+64]\n",
    "print(\"X :\\n\"+str(X))\n",
    "print(\"X_: \"+str(X[4*k:4*k+4]))\n",
    "Xk = int.from_bytes(X[4*k:4*k+4],byteorder='big')\n",
    "print(\"X[k] : \"+str(Xk))\n",
    "print(hex(Xk))"
   ]
  },
  {
   "cell_type": "code",
   "execution_count": 17,
   "metadata": {},
   "outputs": [
    {
     "name": "stdout",
     "output_type": "stream",
     "text": [
      "PROCESSING bytes 0...64\n",
      "     b'A\\x80\\x00\\x00\\x00\\x00\\x00\\x00\\x00\\x00\\x00\\x00\\x00\\x00\\x00\\x00\\x00\\x00\\x00\\x00\\x00\\x00\\x00\\x00\\x00\\x00\\x00\\x00\\x00\\x00\\x00\\x00\\x00\\x00\\x00\\x00\\x00\\x00\\x00\\x00\\x00\\x00\\x00\\x00\\x00\\x00\\x00\\x00\\x00\\x00\\x00\\x00\\x00\\x00\\x00\\x00\\x08\\x00\\x00\\x00\\x00\\x00\\x00\\x00' \n",
      "\n",
      "*** ROUND 1 ***\n",
      "     R1 | K =  0 | s =  7 | sine = d76aa478 | 98badcfe\n",
      "     R1 | K =  1 | s = 12 | sine = e8c7b756 | bddadb8a\n",
      "     R1 | K =  2 | s = 17 | sine = 242070db | ad488be8\n",
      "     R1 | K =  3 | s = 22 | sine = c1bdceee | a3704374\n",
      "     R1 | K =  4 | s =  7 | sine = f57c0faf | f3d877e0\n",
      "     R1 | K =  5 | s = 12 | sine = 4787c62a | a32d07b6\n",
      "     R1 | K =  6 | s = 17 | sine = a8304613 | 2225c0d7\n",
      "     R1 | K =  7 | s = 22 | sine = fd469501 | 60d9405e\n",
      "     R1 | K =  8 | s =  7 | sine = 698098d8 | b98f6aa6\n",
      "     R1 | K =  9 | s = 12 | sine = 8b44f7af | b94e48e0\n",
      "     R1 | K = 10 | s = 17 | sine = ffff5bb1 | fb6e5d60\n",
      "     R1 | K = 11 | s = 22 | sine = 895cd7be | 78754997\n",
      "     R1 | K = 12 | s =  7 | sine = 6b901122 | 4949b3d0\n",
      "     R1 | K = 13 | s = 12 | sine = fd987193 | 45895bd8\n",
      "     R1 | K = 14 | s = 17 | sine = a679438e | c8087aaf\n",
      "     R1 | K = 15 | s = 22 | sine = 49b40821 | 6b107148\n",
      "\n",
      "*** ROUND 2 ***\n",
      "     R2 | K =  1 | s =  5 | sine = f61e2562 | 794ca995\n",
      "     R2 | K =  6 | s =  9 | sine = c040b340 | 7ac9890a\n",
      "     R2 | K = 11 | s = 14 | sine = 265e5a51 | 66ebb800\n",
      "     R2 | K =  0 | s = 20 | sine = e9b6c7aa | e2cf3e74\n",
      "     R2 | K =  5 | s =  5 | sine = d62f105d | 734bfa9d\n",
      "     R2 | K = 10 | s =  9 | sine =  2441453 | 7b28bb16\n",
      "     R2 | K = 15 | s = 14 | sine = d8a1e681 | 5d1bb17a\n",
      "     R2 | K =  4 | s = 20 | sine = e7d3fbc8 | 981bdf1c\n",
      "     R2 | K =  9 | s =  5 | sine = 21e1cde6 | 58b8ce97\n",
      "     R2 | K = 14 | s =  9 | sine = c33707d6 | 6852c356\n",
      "     R2 | K =  3 | s = 14 | sine = f4d50d87 | efd36742\n",
      "     R2 | K =  8 | s = 20 | sine = 455a14ed | cfc67e33\n",
      "     R2 | K = 13 | s =  5 | sine = a9e3e905 |  f7e20d8\n",
      "     R2 | K =  2 | s =  9 | sine = fcefa3f8 |  61d0679\n",
      "     R2 | K =  7 | s = 14 | sine = 676f02d9 | 2848e67d\n",
      "     R2 | K = 12 | s = 20 | sine = 8d2a4c8a | ea64b041\n",
      "\n",
      "*** ROUND 3 ***\n",
      "     R3 | K =  5 | s =  4 | sine = fffa3942 | de19eebb\n",
      "     R3 | K =  8 | s = 11 | sine = 8771f681 | b05590a1\n",
      "     R3 | K = 11 | s = 16 | sine = 6d9d6122 |  7d6f7a3\n",
      "     R3 | K = 14 | s = 23 | sine = fde5380c | 9525161d\n",
      "     R3 | K =  1 | s =  4 | sine = a4beea44 | 53d34289\n",
      "     R3 | K =  4 | s = 11 | sine = 4bdecfa9 | ba8a9607\n",
      "     R3 | K =  7 | s = 16 | sine = f6bb4b60 | da81fb34\n",
      "     R3 | K = 10 | s = 23 | sine = bebfbc70 | 5ecdf3b9\n",
      "     R3 | K = 13 | s =  4 | sine = 289b7ec6 | 36367e14\n",
      "     R3 | K =  0 | s = 11 | sine = eaa127fa | 7d95c4e3\n",
      "     R3 | K =  3 | s = 16 | sine = d4ef3085 | 5f03ef68\n",
      "     R3 | K =  6 | s = 23 | sine =  4881d05 | 430f1b51\n",
      "     R3 | K =  9 | s =  4 | sine = d9d4d039 |  dc66b31\n",
      "     R3 | K = 12 | s = 11 | sine = e6db99e5 | ea623607\n",
      "     R3 | K = 15 | s = 16 | sine = 1fa27cf8 | 41d94ec1\n",
      "     R3 | K =  2 | s = 23 | sine = c4ac5665 | c052ea1d\n",
      "\n",
      "*** ROUND 4 ***\n",
      "     R4 | K =  0 | s =  6 | sine = f4292244 | -2d6c470\n",
      "     R4 | K =  7 | s = 10 | sine = 432aff97 | -fd250ff1\n",
      "     R4 | K = 14 | s = 15 | sine = ab9423a7 | -fc0ca91\n",
      "     R4 | K =  5 | s = 21 | sine = fc93a039 | -e8ab57a8\n",
      "     R4 | K = 12 | s =  6 | sine = 655b59c3 | -130e1e92\n",
      "     R4 | K =  3 | s = 10 | sine = 8f0ccc92 | -2fcce12f\n",
      "     R4 | K = 10 | s = 15 | sine = ffeff47d | -d442848e\n",
      "     R4 | K =  1 | s = 21 | sine = 85845dd1 | -fb362b51\n",
      "     R4 | K =  8 | s =  6 | sine = 6fa87e4f | -357954e5\n",
      "     R4 | K = 15 | s = 10 | sine = fe2ce6e0 | -482d7b7c\n",
      "     R4 | K =  6 | s = 15 | sine = a3014314 | -b6529488\n",
      "     R4 | K = 13 | s = 21 | sine = 4e0811a1 | -a83d7c5d\n",
      "     R4 | K =  4 | s =  6 | sine = f7537e82 | -746b1a2\n",
      "     R4 | K = 11 | s = 10 | sine = bd3af235 | -ef054e99\n",
      "     R4 | K =  2 | s = 15 | sine = 2ad7d2bb | -691ca27f\n",
      "     R4 | K =  9 | s = 21 | sine = eb86d391 | -1889d5db\n"
     ]
    }
   ],
   "source": [
    "for i in range(0,len(processed_message),64):\n",
    "    print(\"PROCESSING bytes \"+str(i)+\"...\"+str(i+64))\n",
    "    X  = processed_message[i:i+64]\n",
    "    print(\"     \"+str(X)+\" \\n\")\n",
    "    AA = A\n",
    "    BB = B\n",
    "    CC = C\n",
    "    DD = D\n",
    "    \n",
    "    #round 1\n",
    "    print(\"*** ROUND 1 ***\")\n",
    "    A = round1(A, B, C, D, X, R1_k[0], sine_T[0], R1_s[0])\n",
    "    #print(hex(A))\n",
    "    D = round1(D, A, B, C, X, R1_k[1], sine_T[1], R1_s[1])\n",
    "    #print(hex(D))\n",
    "    C = round1(C, D, A, B, X, R1_k[2], sine_T[2], R1_s[2])\n",
    "    #print(hex(C))\n",
    "    B = round1(B, C, D, A, X, R1_k[3], sine_T[3], R1_s[3])\n",
    "    #print(hex(D))\n",
    "    \n",
    "    A = round1(A, B, C, D, X, R1_k[4], sine_T[4], R1_s[4])\n",
    "    #print(hex(A))\n",
    "    D = round1(D, A, B, C, X, R1_k[5], sine_T[5], R1_s[5])\n",
    "    #print(hex(D))\n",
    "    C = round1(C, D, A, B, X, R1_k[6], sine_T[6], R1_s[6])\n",
    "    #print(hex(C))\n",
    "    B = round1(B, C, D, A, X, R1_k[7], sine_T[7], R1_s[7])\n",
    "    #print(hex(B))\n",
    "    \n",
    "    A = round1(A, B, C, D, X, R1_k[8], sine_T[8], R1_s[8])\n",
    "    #print(hex(A))\n",
    "    D = round1(D, A, B, C, X, R1_k[9], sine_T[9], R1_s[9])\n",
    "    #print(hex(D))\n",
    "    C = round1(C, D, A, B, X, R1_k[10], sine_T[10], R1_s[10])\n",
    "    #print(hex(C))\n",
    "    B = round1(B, C, D, A, X, R1_k[11], sine_T[11], R1_s[11])\n",
    "    #print(hex(B))\n",
    "    \n",
    "    A = round1(A, B, C, D, X, R1_k[12], sine_T[12], R1_s[12])\n",
    "    #print(hex(A))\n",
    "    D = round1(D, A, B, C, X, R1_k[13], sine_T[13], R1_s[13])\n",
    "    #print(hex(D))\n",
    "    C = round1(C, D, A, B, X, R1_k[14], sine_T[14], R1_s[14])\n",
    "    #print(hex(C))\n",
    "    B = round1(B, C, D, A, X, R1_k[15], sine_T[15], R1_s[15])\n",
    "    #print(hex(B))\n",
    "    \n",
    "    print(\"\\n*** ROUND 2 ***\")\n",
    "    A = round2(A, B, C, D, X, R2_k[0], sine_T[16], R2_s[0])\n",
    "    #print(hex(A))\n",
    "    D = round2(D, A, B, C, X, R2_k[1], sine_T[17], R2_s[1])\n",
    "    #print(hex(D))\n",
    "    C = round2(C, D, A, B, X, R2_k[2], sine_T[18], R2_s[2])\n",
    "    #print(hex(C))\n",
    "    B = round2(B, C, D, A, X, R2_k[3], sine_T[19], R2_s[3])\n",
    "    #print(hex(D))\n",
    "    \n",
    "    A = round2(A, B, C, D, X, R2_k[4], sine_T[20], R2_s[4])\n",
    "    #print(hex(A))\n",
    "    D = round2(D, A, B, C, X, R2_k[5], sine_T[21], R2_s[5])\n",
    "    #print(hex(D))\n",
    "    C = round2(C, D, A, B, X, R2_k[6], sine_T[22], R2_s[6])\n",
    "    #print(hex(C))\n",
    "    B = round2(B, C, D, A, X, R2_k[7], sine_T[23], R2_s[7])\n",
    "    #print(hex(B))\n",
    "    \n",
    "    A = round2(A, B, C, D, X, R2_k[8], sine_T[24], R2_s[8])\n",
    "    #print(hex(A))\n",
    "    D = round2(D, A, B, C, X, R2_k[9], sine_T[25], R2_s[9])\n",
    "    #print(hex(D))\n",
    "    C = round2(C, D, A, B, X, R2_k[10], sine_T[26], R2_s[10])\n",
    "    #print(hex(C))\n",
    "    B = round2(B, C, D, A, X, R2_k[11], sine_T[27], R2_s[11])\n",
    "    #print(hex(B))\n",
    "    \n",
    "    A = round2(A, B, C, D, X, R2_k[12], sine_T[28], R2_s[12])\n",
    "    #print(hex(A))\n",
    "    D = round2(D, A, B, C, X, R2_k[13], sine_T[29], R2_s[13])\n",
    "    #print(hex(D))\n",
    "    C = round2(C, D, A, B, X, R2_k[14], sine_T[30], R2_s[14])\n",
    "    #print(hex(C))\n",
    "    B = round2(B, C, D, A, X, R2_k[15], sine_T[31], R2_s[15])\n",
    "    #print(hex(B))\n",
    "    \n",
    "    print(\"\\n*** ROUND 3 ***\")\n",
    "    A = round3(A, B, C, D, X, R3_k[0], sine_T[32], R3_s[0])\n",
    "    #print(hex(A))\n",
    "    D = round3(D, A, B, C, X, R3_k[1], sine_T[33], R3_s[1])\n",
    "    #print(hex(D))\n",
    "    C = round3(C, D, A, B, X, R3_k[2], sine_T[34], R3_s[2])\n",
    "    #print(hex(C))\n",
    "    B = round3(B, C, D, A, X, R3_k[3], sine_T[35], R3_s[3])\n",
    "    #print(hex(D))\n",
    "    \n",
    "    A = round3(A, B, C, D, X, R3_k[4], sine_T[36], R3_s[4])\n",
    "    #print(hex(A))\n",
    "    D = round3(D, A, B, C, X, R3_k[5], sine_T[37], R3_s[5])\n",
    "    #print(hex(D))\n",
    "    C = round3(C, D, A, B, X, R3_k[6], sine_T[38], R3_s[6])\n",
    "    #print(hex(C))\n",
    "    B = round3(B, C, D, A, X, R3_k[7], sine_T[39], R3_s[7])\n",
    "    #print(hex(B))\n",
    "    \n",
    "    A = round3(A, B, C, D, X, R3_k[8], sine_T[40], R3_s[8])\n",
    "    #print(hex(A))\n",
    "    D = round3(D, A, B, C, X, R3_k[9], sine_T[41], R3_s[9])\n",
    "    #print(hex(D))\n",
    "    C = round3(C, D, A, B, X, R3_k[10], sine_T[42], R3_s[10])\n",
    "    #print(hex(C))\n",
    "    B = round3(B, C, D, A, X, R3_k[11], sine_T[43], R3_s[11])\n",
    "    #print(hex(B))\n",
    "    \n",
    "    A = round3(A, B, C, D, X, R3_k[12], sine_T[44], R3_s[12])\n",
    "    #print(hex(A))\n",
    "    D = round3(D, A, B, C, X, R3_k[13], sine_T[45], R3_s[13])\n",
    "    #print(hex(D))\n",
    "    C = round3(C, D, A, B, X, R3_k[14], sine_T[46], R3_s[14])\n",
    "    #print(hex(C))\n",
    "    B = round3(B, C, D, A, X, R3_k[15], sine_T[47], R3_s[15])\n",
    "    #print(hex(B))\n",
    "    \n",
    "    print(\"\\n*** ROUND 4 ***\")\n",
    "    A = round4(A, B, C, D, X, R4_k[0], sine_T[48], R4_s[0])\n",
    "    #print(hex(A))\n",
    "    D = round4(D, A, B, C, X, R4_k[1], sine_T[49], R4_s[1])\n",
    "    #print(hex(D))\n",
    "    C = round4(C, D, A, B, X, R4_k[2], sine_T[50], R4_s[2])\n",
    "    #print(hex(C))\n",
    "    B = round4(B, C, D, A, X, R4_k[3], sine_T[51], R4_s[3])\n",
    "    #print(hex(D))\n",
    "    \n",
    "    A = round4(A, B, C, D, X, R4_k[4], sine_T[52], R4_s[4])\n",
    "    #print(hex(A))\n",
    "    D = round4(D, A, B, C, X, R4_k[5], sine_T[53], R4_s[5])\n",
    "    #print(hex(D))\n",
    "    C = round4(C, D, A, B, X, R4_k[6], sine_T[54], R4_s[6])\n",
    "    #print(hex(C))\n",
    "    B = round4(B, C, D, A, X, R4_k[7], sine_T[55], R4_s[7])\n",
    "    #print(hex(B))\n",
    "    \n",
    "    A = round4(A, B, C, D, X, R4_k[8], sine_T[56], R4_s[8])\n",
    "    #print(hex(A))\n",
    "    D = round4(D, A, B, C, X, R4_k[9], sine_T[57], R4_s[9])\n",
    "    #print(hex(D))\n",
    "    C = round4(C, D, A, B, X, R4_k[10], sine_T[58], R4_s[10])\n",
    "    #print(hex(C))\n",
    "    B = round4(B, C, D, A, X, R4_k[11], sine_T[59], R4_s[11])\n",
    "    #print(hex(B))\n",
    "    \n",
    "    A = round4(A, B, C, D, X, R4_k[12], sine_T[60], R4_s[12])\n",
    "    #print(hex(A))\n",
    "    D = round4(D, A, B, C, X, R4_k[13], sine_T[61], R4_s[13])\n",
    "    #print(hex(D))\n",
    "    C = round4(C, D, A, B, X, R4_k[14], sine_T[62], R4_s[14])\n",
    "    #print(hex(C))\n",
    "    B = round4(B, C, D, A, X, R4_k[15], sine_T[63], R4_s[15])\n",
    "    #print(hex(B))\n",
    "    \n",
    "    A = (A + AA) & 0xFFFFFFFF\n",
    "    B = (B + BB) & 0xFFFFFFFF\n",
    "    C = (C + CC) & 0xFFFFFFFF\n",
    "    D = (D + DD) & 0xFFFFFFFF\n",
    "    #time.sleep(1)"
   ]
  },
  {
   "cell_type": "code",
   "execution_count": 18,
   "metadata": {},
   "outputs": [
    {
     "name": "stdout",
     "output_type": "stream",
     "text": [
      "OUTPUT1:   29beac2e b735591a a80fa7e7 7062c57f\n",
      "OUTPUT2: 0x29beac2eb735591aa80fa7e77062c57f\n",
      "OUTPUT2: 0x7fc56270e7a70fa81a5935b72eacbe29\n"
     ]
    }
   ],
   "source": [
    "output_int = D<<96 | C <<64 | B << 32 | A\n",
    "#print([hex(D),hex(C),hex(B),hex(A)])\n",
    "output = \"{:x} {:x} {:x} {:x}\".format(D,C,B,A)\n",
    "print(\"OUTPUT1:   \"+output)\n",
    "print(\"OUTPUT2: \"+hex(output_int))\n",
    "print(\"OUTPUT2: \"+hex(bytereverse(output_int)))"
   ]
  },
  {
   "cell_type": "code",
   "execution_count": 19,
   "metadata": {},
   "outputs": [
    {
     "data": {
      "text/plain": [
       "'7062c57f a80fa7e7 b735591a 29beac2e'"
      ]
     },
     "execution_count": 19,
     "metadata": {},
     "output_type": "execute_result"
    }
   ],
   "source": [
    "\"{:x} {:x} {:x} {:x}\".format(A,B,C,D)"
   ]
  }
 ],
 "metadata": {
  "kernelspec": {
   "display_name": "Python [conda env:anaconda3]",
   "language": "python",
   "name": "conda-env-anaconda3-py"
  },
  "language_info": {
   "codemirror_mode": {
    "name": "ipython",
    "version": 3
   },
   "file_extension": ".py",
   "mimetype": "text/x-python",
   "name": "python",
   "nbconvert_exporter": "python",
   "pygments_lexer": "ipython3",
   "version": "3.6.5"
  }
 },
 "nbformat": 4,
 "nbformat_minor": 2
}
