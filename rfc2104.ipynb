{
 "cells": [
  {
   "cell_type": "markdown",
   "metadata": {},
   "source": [
    "# Implementation of RFC 2104 - HMAC Algorithm\n",
    "___Hash-based Message Authentication___ or ___Key Hashed Message Authentication Algorithm___\n",
    "\n",
    "...in python\n",
    "\n",
    "* [RFC 2104](https://www.ietf.org/rfc/rfc2104.txt)\n",
    "* [Wikipedia](https://en.wikipedia.org/wiki/HMAC)\n",
    "* [Dr. Dobb's](http://www.drdobbs.com/security/the-hmac-algorithm/184410908)\n",
    "* [RFC 2202](https://tools.ietf.org/html/rfc2202.html) - test cases for RFC 2104.\n",
    "\n",
    "Here is an implementation of the RFC 2104 (HMAC Algorithm) in python. This is a demonstration of the working of the HMAC algorithm. This code is not production grade. For one, this code does not handle the case of $key\\: length > Block\\: Size$"
   ]
  },
  {
   "cell_type": "code",
   "execution_count": 1,
   "metadata": {},
   "outputs": [],
   "source": [
    "import hashlib\n",
    "import hmac"
   ]
  },
  {
   "cell_type": "code",
   "execution_count": 2,
   "metadata": {},
   "outputs": [],
   "source": [
    "### A few test cases from RFC2202\n",
    "# [hash_algo, key, key_len, data, reference hash]\n",
    "testCase=[\n",
    "    ['md5',0x0b0b0b0b0b0b0b0b0b0b0b0b0b0b0b0b,16,\"Hi There\",8,0x9294727a3638bb1c13f48ef8158bfc9d],\n",
    "    ['md5',\"Jefe\",4,\"what do ya want for nothing?\",28,0x750c783e6ab0b503eaa86e310a5db738],\n",
    "    ['md5',0x0c0c0c0c0c0c0c0c0c0c0c0c0c0c0c0c,16,\"Test With Truncation\",20,0x56461ef2342edc00f9bab995690efd4c],\n",
    "    ['sha1',0x0b0b0b0b0b0b0b0b0b0b0b0b0b0b0b0b0b0b0b0b,20,\"Hi There\",8,0xb617318655057264e28bc0b6fb378c8ef146be00],\n",
    "    ['sha1',\"Jefe\",4,\"what do ya want for nothing?\",28,0xeffcdf6ae5eb2fa2d27416d5f184df9c259a7c79],\n",
    "    ['sha1',0x0c0c0c0c0c0c0c0c0c0c0c0c0c0c0c0c0c0c0c0c,20,\"Test With Truncation\",20,0x4c1a03424b55e07fe7f27be1d58bb9324a9a5a04]\n",
    "]"
   ]
  },
  {
   "cell_type": "code",
   "execution_count": 3,
   "metadata": {},
   "outputs": [],
   "source": [
    "### Define key, message, Block size, hashing algorithm \n",
    "B = 64\n",
    "# Choose one of the test cases from above and transform the key and message from string/int to bytes\n",
    "use_test_case = 5\n",
    "hash_algo = testCase[use_test_case][0]\n",
    "if isinstance(testCase[use_test_case][1],bytes):\n",
    "    key = testCase[use_test_case][1]\n",
    "elif isinstance(testCase[use_test_case][1],str):\n",
    "    key = testCase[use_test_case][1].encode()\n",
    "else:\n",
    "    key = (testCase[use_test_case][1]).to_bytes(testCase[use_test_case][2],byteorder='big')\n",
    "\n",
    "if isinstance(testCase[use_test_case][3],bytes):\n",
    "    message = testCase[use_test_case][3]\n",
    "else:\n",
    "    message = testCase[use_test_case][3].encode()\n",
    "ref_hash = testCase[use_test_case][5]"
   ]
  },
  {
   "cell_type": "code",
   "execution_count": 4,
   "metadata": {},
   "outputs": [],
   "source": [
    "### hash (message) - Just to make the code easy to read\n",
    "def hash(M):\n",
    "    return hashlib.new(hash_algo, M).digest()"
   ]
  },
  {
   "cell_type": "code",
   "execution_count": 5,
   "metadata": {},
   "outputs": [],
   "source": [
    "### XOR Translation table\n",
    "trans_5C = bytes((x ^ 0x5C) for x in range(256))\n",
    "trans_36 = bytes((x ^ 0x36) for x in range(256))"
   ]
  },
  {
   "cell_type": "markdown",
   "metadata": {},
   "source": [
    "The frist step is to zero pad the key $K$ to the match the block size. The zero padding is done on the right. This zero padded key is refered to as $K'$. $K'$ is XORed with the inner pad (ipad) sequence (0x36363636 ... block length). $K'$ is also XORed with the outer pad (opad) sequence (0x5C5C5C ... block length)\n",
    "![Algorithm](https://upload.wikimedia.org/wikipedia/commons/thumb/7/7f/SHAhmac.svg/400px-SHAhmac.svg.png)Image from wikipedia"
   ]
  },
  {
   "cell_type": "code",
   "execution_count": 6,
   "metadata": {
    "scrolled": true
   },
   "outputs": [
    {
     "name": "stdout",
     "output_type": "stream",
     "text": [
      "Key XOR ipad(0x363636...):\n",
      "3a3a3a3a3a3a3a3a3a3a3a3a3a3a3a3a3a3a3a3a3636363636363636363636363636363636363636363636363636363636363636363636363636363636363636\n",
      "\n",
      "\n",
      "Key XOR opad(0x505050...):\n",
      "50505050505050505050505050505050505050505c5c5c5c5c5c5c5c5c5c5c5c5c5c5c5c5c5c5c5c5c5c5c5c5c5c5c5c5c5c5c5c5c5c5c5c5c5c5c5c5c5c5c5c\n"
     ]
    }
   ],
   "source": [
    "### Zero pad key to block length B\n",
    "# Ideally one should check to see if the key length > block size.\n",
    "# Zero pad the key on the right.\n",
    "K_zpad=key.ljust(B,b'\\0')\n",
    "# Xor with ipad and opad sequence\n",
    "K_ipad=K_zpad.translate(trans_36)\n",
    "K_opad=K_zpad.translate(trans_5C)\n",
    "\n",
    "# The paded key now looks like this...\n",
    "print(\"Key XOR ipad(0x363636...):\\n\"+K_ipad.hex())\n",
    "print(\"\\n\\nKey XOR opad(0x505050...):\\n\"+K_opad.hex())"
   ]
  },
  {
   "cell_type": "markdown",
   "metadata": {},
   "source": [
    "The message is appended to $K' \\bigoplus ipad$ and hashed."
   ]
  },
  {
   "cell_type": "code",
   "execution_count": 7,
   "metadata": {},
   "outputs": [
    {
     "name": "stdout",
     "output_type": "stream",
     "text": [
      "key XOR ipad || message:\n",
      "3a3a3a3a3a3a3a3a3a3a3a3a3a3a3a3a3a3a3a3a3636363636363636363636363636363636363636363636363636363636363636363636363636363636363636546573742057697468205472756e636174696f6e\n"
     ]
    }
   ],
   "source": [
    "### Append message\n",
    "part1=K_ipad+message\n",
    "print(\"key XOR ipad || message:\\n\"+part1.hex())"
   ]
  },
  {
   "cell_type": "markdown",
   "metadata": {},
   "source": [
    "$hash( ( K' \\bigoplus ipad ) \\parallel message )$"
   ]
  },
  {
   "cell_type": "code",
   "execution_count": 8,
   "metadata": {},
   "outputs": [
    {
     "name": "stdout",
     "output_type": "stream",
     "text": [
      "hash( key XOR ipad || message):\n",
      "ed4916d25d214f8be71e13e93e63c62061fb5862\n"
     ]
    }
   ],
   "source": [
    "### hash (key xor ipad || message )\n",
    "hash1=hash(part1)\n",
    "print(\"hash( key XOR ipad || message):\\n\"+hash1.hex())"
   ]
  },
  {
   "cell_type": "markdown",
   "metadata": {},
   "source": [
    "The hash from the previous step is appended to the $K' \\bigoplus opad$ and hashed again. This hash is the HMAC hash.\n",
    "\n",
    "$ hash( K' \\bigoplus opad \\parallel hash( ( K' \\bigoplus ipad ) \\parallel message ) ) $"
   ]
  },
  {
   "cell_type": "code",
   "execution_count": 9,
   "metadata": {},
   "outputs": [
    {
     "name": "stdout",
     "output_type": "stream",
     "text": [
      "(key KOR opad) || hash((key XOR ipad)||message):\n",
      "0x50505050505050505050505050505050505050505c5c5c5c5c5c5c5c5c5c5c5c5c5c5c5c5c5c5c5c5c5c5c5c5c5c5c5c5c5c5c5c5c5c5c5c5c5c5c5c5c5c5c5ced4916d25d214f8be71e13e93e63c62061fb5862\n",
      "\n",
      "Final Hash:\n",
      "0x4c1a03424b55e07fe7f27be1d58bb9324a9a5a04\n",
      "\n",
      "Reference Hash:\n",
      "0x4c1a03424b55e07fe7f27be1d58bb9324a9a5a04\n"
     ]
    }
   ],
   "source": [
    "### hash (key xor opad || hash ( (key xor ipad)||message ) )\n",
    "part2 = K_opad + hash1\n",
    "print(\"(key KOR opad) || hash((key XOR ipad)||message):\\n0x\"+part2.hex())\n",
    "hash_final = hash(part2)\n",
    "print(\"\\nFinal Hash:\\n0x\"+hash_final.hex())\n",
    "\n",
    "# Now verify our calculated hash with the hash from the test case\n",
    "print(\"\\nReference Hash:\\n\"+hex(ref_hash))"
   ]
  },
  {
   "cell_type": "markdown",
   "metadata": {},
   "source": [
    "## Compare with Python's HMAC Implementation"
   ]
  },
  {
   "cell_type": "code",
   "execution_count": 10,
   "metadata": {},
   "outputs": [
    {
     "name": "stdout",
     "output_type": "stream",
     "text": [
      "0x4c1a03424b55e07fe7f27be1d58bb9324a9a5a04\n"
     ]
    }
   ],
   "source": [
    "# Python\n",
    "pyH=hmac.new(key,message,digestmod=hash_algo)\n",
    "print(\"0x\"+pyH.hexdigest())"
   ]
  }
 ],
 "metadata": {
  "kernelspec": {
   "display_name": "Python [default]",
   "language": "python",
   "name": "python3"
  },
  "language_info": {
   "codemirror_mode": {
    "name": "ipython",
    "version": 3
   },
   "file_extension": ".py",
   "mimetype": "text/x-python",
   "name": "python",
   "nbconvert_exporter": "python",
   "pygments_lexer": "ipython3",
   "version": "3.6.5"
  }
 },
 "nbformat": 4,
 "nbformat_minor": 2
}
