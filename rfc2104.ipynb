{
 "cells": [
  {
   "cell_type": "markdown",
   "metadata": {},
   "source": [
    "# Implementation of RFC 2104 - HMAC Algorithm\n",
    "in python\n",
    "\n",
    "[RFC 2104](https://www.ietf.org/rfc/rfc2104.txt)"
   ]
  },
  {
   "cell_type": "code",
   "execution_count": 1,
   "metadata": {},
   "outputs": [],
   "source": [
    "import hashlib\n",
    "import hmac"
   ]
  },
  {
   "cell_type": "code",
   "execution_count": 2,
   "metadata": {},
   "outputs": [],
   "source": [
    "# Define key, message, Block size, algorithm\n",
    "\n",
    "hash_algo = \"sha1\"\n",
    "B = 64\n",
    "message = b'hello!'\n",
    "key = b'key'"
   ]
  },
  {
   "cell_type": "code",
   "execution_count": 3,
   "metadata": {},
   "outputs": [],
   "source": [
    "# hash () for an easy to read code\n",
    "def hash(M):\n",
    "    H = hashlib.new(hash_algo)\n",
    "    H.update(M)\n",
    "    b_hash = H.digest()\n",
    "    return b_hash"
   ]
  },
  {
   "cell_type": "code",
   "execution_count": 4,
   "metadata": {},
   "outputs": [],
   "source": [
    "# XOR Translation table\n",
    "trans_5C = bytes((x ^ 0x5C) for x in range(256))\n",
    "trans_36 = bytes((x ^ 0x36) for x in range(256))"
   ]
  },
  {
   "cell_type": "code",
   "execution_count": 5,
   "metadata": {},
   "outputs": [
    {
     "name": "stdout",
     "output_type": "stream",
     "text": [
      "b']SO6666666666666666666666666666666666666666666666666666666666666'\n",
      "b'79%\\\\\\\\\\\\\\\\\\\\\\\\\\\\\\\\\\\\\\\\\\\\\\\\\\\\\\\\\\\\\\\\\\\\\\\\\\\\\\\\\\\\\\\\\\\\\\\\\\\\\\\\\\\\\\\\\\\\\\\\\\\\\\\\\\\\\\\\\\\\\\\\\\\\\\\\\\\\\\\\\\\\\\\\\\\\\\\\\\\\\\\\\\\\\\\\\\\\\\\\\\\\\\\\\\\\\\\\\\\\\\\\\\\\\\\\\\\\\\\\\\\\'\n"
     ]
    }
   ],
   "source": [
    "# Zero pad key to block length B\n",
    "K_zpad=key.ljust(B,b'\\0')\n",
    "# Xor with ipad and opad sequence\n",
    "K_ipad=K_zpad.translate(trans_36)\n",
    "K_opad=K_zpad.translate(trans_5C)\n",
    "\n",
    "print(K_ipad)\n",
    "print(K_opad)"
   ]
  },
  {
   "cell_type": "code",
   "execution_count": 6,
   "metadata": {},
   "outputs": [
    {
     "name": "stdout",
     "output_type": "stream",
     "text": [
      "b']SO6666666666666666666666666666666666666666666666666666666666666hello!'\n"
     ]
    }
   ],
   "source": [
    "# concatinate message\n",
    "part1=K_ipad+message\n",
    "print(part1)"
   ]
  },
  {
   "cell_type": "markdown",
   "metadata": {},
   "source": [
    "$hash( ( key \\bigoplus ipad ) \\parallel message )$"
   ]
  },
  {
   "cell_type": "code",
   "execution_count": 7,
   "metadata": {},
   "outputs": [
    {
     "name": "stdout",
     "output_type": "stream",
     "text": [
      "b'<mw\\xea\\xc1\\xc2\\x84\\x1e\\xf0\\x95eH}]*_\\xc4\\xdd[\\x9a'\n"
     ]
    }
   ],
   "source": [
    "# hash (key xor ipad || message )\n",
    "hash1=hash(part1)\n",
    "print(hash1)"
   ]
  },
  {
   "cell_type": "markdown",
   "metadata": {},
   "source": [
    "$ hash( key \\bigoplus opad \\parallel hash( ( key \\bigoplus ipad ) \\parallel message ) ) $"
   ]
  },
  {
   "cell_type": "code",
   "execution_count": 8,
   "metadata": {},
   "outputs": [
    {
     "name": "stdout",
     "output_type": "stream",
     "text": [
      "b'79%\\\\\\\\\\\\\\\\\\\\\\\\\\\\\\\\\\\\\\\\\\\\\\\\\\\\\\\\\\\\\\\\\\\\\\\\\\\\\\\\\\\\\\\\\\\\\\\\\\\\\\\\\\\\\\\\\\\\\\\\\\\\\\\\\\\\\\\\\\\\\\\\\\\\\\\\\\\\\\\\\\\\\\\\\\\\\\\\\\\\\\\\\\\\\\\\\\\\\\\\\\\\\\\\\\\\\\\\\\\\\\\\\\\\\\\\\\\\\\\\\\\\<mw\\xea\\xc1\\xc2\\x84\\x1e\\xf0\\x95eH}]*_\\xc4\\xdd[\\x9a'\n",
      "b'\\x86R\\xc2\\xbb2\\xed\\x9c\\xdb\\x08^\\x8b\\xcc\\xea\\x99@\\xfcK\\rF\\xd5'\n"
     ]
    }
   ],
   "source": [
    "# hash (key xor opad || hash ( (key xor ipad)||message ) )\n",
    "part2 = K_opad + hash1\n",
    "print(part2)\n",
    "hash_final = hash(part2)\n",
    "print(hash_final)"
   ]
  },
  {
   "cell_type": "code",
   "execution_count": 9,
   "metadata": {},
   "outputs": [
    {
     "data": {
      "text/plain": [
       "'8652c2bb32ed9cdb085e8bccea9940fc4b0d46d5'"
      ]
     },
     "execution_count": 9,
     "metadata": {},
     "output_type": "execute_result"
    }
   ],
   "source": [
    "hash_final.hex()"
   ]
  },
  {
   "cell_type": "markdown",
   "metadata": {},
   "source": [
    "## Compare with Python's HMAC Implementation"
   ]
  },
  {
   "cell_type": "code",
   "execution_count": 10,
   "metadata": {},
   "outputs": [
    {
     "data": {
      "text/plain": [
       "'8652c2bb32ed9cdb085e8bccea9940fc4b0d46d5'"
      ]
     },
     "execution_count": 10,
     "metadata": {},
     "output_type": "execute_result"
    }
   ],
   "source": [
    "# Python\n",
    "pyH=hmac.new(key,message,digestmod=hash_algo)\n",
    "pyH.hexdigest()"
   ]
  },
  {
   "cell_type": "code",
   "execution_count": null,
   "metadata": {},
   "outputs": [],
   "source": []
  }
 ],
 "metadata": {
  "kernelspec": {
   "display_name": "Python [default]",
   "language": "python",
   "name": "python3"
  },
  "language_info": {
   "codemirror_mode": {
    "name": "ipython",
    "version": 3
   },
   "file_extension": ".py",
   "mimetype": "text/x-python",
   "name": "python",
   "nbconvert_exporter": "python",
   "pygments_lexer": "ipython3",
   "version": "3.6.5"
  }
 },
 "nbformat": 4,
 "nbformat_minor": 2
}
