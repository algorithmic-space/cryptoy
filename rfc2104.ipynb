{
 "cells": [
  {
   "cell_type": "markdown",
   "metadata": {},
   "source": [
    "# Implementation of RFC 2104 - HMAC Algorithm\n",
    "___Hash-based Message Authentication___ or ___Key Hashed Message Authentication Algorithm___\n",
    "\n",
    "...in python\n",
    "\n",
    "* [RFC 2104](https://www.ietf.org/rfc/rfc2104.txt)\n",
    "* [Wikipedia](https://en.wikipedia.org/wiki/HMAC)\n",
    "* [Dr. Dobb's](http://www.drdobbs.com/security/the-hmac-algorithm/184410908)"
   ]
  },
  {
   "cell_type": "code",
   "execution_count": 1,
   "metadata": {},
   "outputs": [],
   "source": [
    "import hashlib\n",
    "import hmac"
   ]
  },
  {
   "cell_type": "code",
   "execution_count": 2,
   "metadata": {},
   "outputs": [],
   "source": [
    "### Define key, message, Block size, hashing algorithm\n",
    "\n",
    "hash_algo = \"sha1\"\n",
    "B = 64\n",
    "message = b'hello!'\n",
    "key = b'key'"
   ]
  },
  {
   "cell_type": "code",
   "execution_count": 3,
   "metadata": {},
   "outputs": [],
   "source": [
    "### hash () for an easy to read code\n",
    "def hash(M):\n",
    "    return hashlib.new(hash_algo, M).digest()"
   ]
  },
  {
   "cell_type": "code",
   "execution_count": 4,
   "metadata": {},
   "outputs": [],
   "source": [
    "### XOR Translation table\n",
    "trans_5C = bytes((x ^ 0x5C) for x in range(256))\n",
    "trans_36 = bytes((x ^ 0x36) for x in range(256))"
   ]
  },
  {
   "cell_type": "code",
   "execution_count": 5,
   "metadata": {},
   "outputs": [
    {
     "name": "stdout",
     "output_type": "stream",
     "text": [
      "Key XOR ipad(0x363636...):\n",
      "5d534f36363636363636363636363636363636363636363636363636363636363636363636363636363636363636363636363636363636363636363636363636\n",
      "\n",
      "\n",
      "Key XOR opad(0x505050...):\n",
      "3739255c5c5c5c5c5c5c5c5c5c5c5c5c5c5c5c5c5c5c5c5c5c5c5c5c5c5c5c5c5c5c5c5c5c5c5c5c5c5c5c5c5c5c5c5c5c5c5c5c5c5c5c5c5c5c5c5c5c5c5c5c\n"
     ]
    }
   ],
   "source": [
    "### Zero pad key to block length B\n",
    "K_zpad=key.ljust(B,b'\\0')\n",
    "# Xor with ipad and opad sequence\n",
    "K_ipad=K_zpad.translate(trans_36)\n",
    "K_opad=K_zpad.translate(trans_5C)\n",
    "\n",
    "print(\"Key XOR ipad(0x363636...):\\n\"+K_ipad.hex())\n",
    "print(\"\\n\\nKey XOR opad(0x505050...):\\n\"+K_opad.hex())"
   ]
  },
  {
   "cell_type": "code",
   "execution_count": 6,
   "metadata": {},
   "outputs": [
    {
     "name": "stdout",
     "output_type": "stream",
     "text": [
      "key XOR ipad || message:\n",
      "5d534f3636363636363636363636363636363636363636363636363636363636363636363636363636363636363636363636363636363636363636363636363668656c6c6f21\n"
     ]
    }
   ],
   "source": [
    "### concatinate message\n",
    "part1=K_ipad+message\n",
    "print(\"key XOR ipad || message:\\n\"+part1.hex())"
   ]
  },
  {
   "cell_type": "markdown",
   "metadata": {},
   "source": [
    "$hash( ( key_{zp} \\bigoplus ipad ) \\parallel message )$"
   ]
  },
  {
   "cell_type": "code",
   "execution_count": 7,
   "metadata": {},
   "outputs": [
    {
     "name": "stdout",
     "output_type": "stream",
     "text": [
      "hash( key XOR ipad || message):\n",
      "3c6d77eac1c2841ef09565487d5d2a5fc4dd5b9a\n"
     ]
    }
   ],
   "source": [
    "### hash (key xor ipad || message )\n",
    "hash1=hash(part1)\n",
    "print(\"hash( key XOR ipad || message):\\n\"+hash1.hex())"
   ]
  },
  {
   "cell_type": "markdown",
   "metadata": {},
   "source": [
    "$ hash( key_{zp} \\bigoplus opad \\parallel hash( ( key_{zp} \\bigoplus ipad ) \\parallel message ) ) $"
   ]
  },
  {
   "cell_type": "code",
   "execution_count": 8,
   "metadata": {},
   "outputs": [
    {
     "name": "stdout",
     "output_type": "stream",
     "text": [
      "hash (key xor opad || hash ( (key XOR ipad)||message ) ):\n",
      "3739255c5c5c5c5c5c5c5c5c5c5c5c5c5c5c5c5c5c5c5c5c5c5c5c5c5c5c5c5c5c5c5c5c5c5c5c5c5c5c5c5c5c5c5c5c5c5c5c5c5c5c5c5c5c5c5c5c5c5c5c5c3c6d77eac1c2841ef09565487d5d2a5fc4dd5b9a\n",
      "\n",
      "\n",
      "Final Hash:\n",
      "8652c2bb32ed9cdb085e8bccea9940fc4b0d46d5\n"
     ]
    }
   ],
   "source": [
    "### hash (key xor opad || hash ( (key xor ipad)||message ) )\n",
    "part2 = K_opad + hash1\n",
    "print(\"hash (key xor opad || hash ( (key XOR ipad)||message ) ):\\n\"+part2.hex())\n",
    "hash_final = hash(part2)\n",
    "print(\"\\n\\nFinal Hash:\\n\"+hash_final.hex())"
   ]
  },
  {
   "cell_type": "markdown",
   "metadata": {},
   "source": [
    "## Compare with Python's HMAC Implementation"
   ]
  },
  {
   "cell_type": "code",
   "execution_count": 9,
   "metadata": {},
   "outputs": [
    {
     "data": {
      "text/plain": [
       "'8652c2bb32ed9cdb085e8bccea9940fc4b0d46d5'"
      ]
     },
     "execution_count": 9,
     "metadata": {},
     "output_type": "execute_result"
    }
   ],
   "source": [
    "# Python\n",
    "pyH=hmac.new(key,message,digestmod=hash_algo)\n",
    "pyH.hexdigest()"
   ]
  }
 ],
 "metadata": {
  "kernelspec": {
   "display_name": "Python [default]",
   "language": "python",
   "name": "python3"
  },
  "language_info": {
   "codemirror_mode": {
    "name": "ipython",
    "version": 3
   },
   "file_extension": ".py",
   "mimetype": "text/x-python",
   "name": "python",
   "nbconvert_exporter": "python",
   "pygments_lexer": "ipython3",
   "version": "3.6.5"
  }
 },
 "nbformat": 4,
 "nbformat_minor": 2
}
