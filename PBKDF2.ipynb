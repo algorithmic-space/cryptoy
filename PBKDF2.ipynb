{
 "cells": [
  {
   "cell_type": "markdown",
   "metadata": {},
   "source": [
    "# PBKDF2\n",
    "\n",
    "Password Based Key Derivation Function 2.\n",
    "\n",
    "Part of PKCS #5 v2.0 also published as [RFC-2898](https://tools.ietf.org/rfc/rfc2898.txt) and [NIST 800-132](https://csrc.nist.gov/publications/detail/sp/800-132/final)\n",
    "\n",
    "Passwords are used to decrypt or encrypt data. However, passwords used by humans are not suitable to be used as encryption. The Password Based Key Derivation Function derives an encryption key from a user password. The PBKDF is essentially `key = repeat(10000, hash(password+salt))`"
   ]
  },
  {
   "cell_type": "code",
   "execution_count": 1,
   "metadata": {},
   "outputs": [],
   "source": [
    "import math, hmac"
   ]
  },
  {
   "cell_type": "code",
   "execution_count": 2,
   "metadata": {},
   "outputs": [],
   "source": [
    "# Function to XOR Byte string instead fo converting to integer and back.\n",
    "def bytexor(b1, b2):\n",
    "    # pre-pad the byte strings with \\x00 to get both strings of equal length.\n",
    "    l1 = len(b1)\n",
    "    l2 = len(b2)\n",
    "    if (l1 > l2):\n",
    "        d = l1 - l2\n",
    "        zp = b'\\0x00' * d\n",
    "        b2 = zp + b2\n",
    "    else:\n",
    "        d = l2 - l1\n",
    "        zp = b'\\x00' * d\n",
    "        b1 = zp + b1\n",
    "    l = len(b1)\n",
    "\n",
    "    # Byte by byte XOR\n",
    "    xor_result = b''\n",
    "    for i in range(0, l):\n",
    "        x = b1[i] ^ b2[i]\n",
    "        xor_result = xor_result + x.to_bytes(1, byteorder='big')\n",
    "    return xor_result"
   ]
  },
  {
   "cell_type": "code",
   "execution_count": 3,
   "metadata": {},
   "outputs": [],
   "source": [
    "# Test for bytexor\n",
    "\n",
    "# A = b'\\x55\\xAA'\n",
    "# B = b'\\xAA\\x55'\n",
    "# print(bytexor(A, B))"
   ]
  },
  {
   "cell_type": "markdown",
   "metadata": {},
   "source": [
    "# KDF\n",
    "\n",
    "The long master key is derived by concatenating several hashes. Each hash block ($T_1, T_2, T_3 ... T_{len}$) that contributes to the master key ($MK$) is a result of several iterations ($C$) of hashing the password with a salt. The salt for the first round is specified and is concatenated with the block number $i$. For subsequent rounds, the output of the pseudorandom function is used as the salt.\n",
    "\n",
    "![Flow chart of PBKDF2](https://upload.wikimedia.org/wikipedia/commons/7/70/Pbkdf2_nist.png)\n",
    "\n",
    "For a desired key length of 25 octets and using SHA1-HMAC as the pseudorandom function, the hash length of SHA1-HMAC is 20 octets (`hLen = 20`). This would result in `len = 2`.\n",
    "\n",
    "$$\n",
    "len = \\big\\lceil{\\frac{dkLen}{hLen}}\\big\\rceil\n",
    "$$\n",
    "\n",
    "The master key is formed by concatenating $T_1 | T_2 | T_3 ... T_{len-1} | T_{len} \\langle MSB octet : MSBoctet -r \\rangle$\n",
    "\n",
    "So, we take the first pseudorandom hash, $T_1$ as is and concatenate it with the 5 higher order octets of $T_2$ to form the master key."
   ]
  },
  {
   "cell_type": "code",
   "execution_count": 4,
   "metadata": {},
   "outputs": [],
   "source": [
    "def KDF(password, salt, iterC, dkLen):\n",
    "    # Digest Length of the hashing function - 20 for SHA512\n",
    "    hLen = 20\n",
    "\n",
    "    # Throw an error if the key length requested is too long.\n",
    "    if (dkLen > 4294967295 * hLen):\n",
    "        raise ValueError('derived key too long')\n",
    "        return None\n",
    "\n",
    "    # Number of blocks (of hLen size hashes) in the derrived key.\n",
    "    l = math.ceil(dkLen / hLen)\n",
    "    print(\"Number of blocks for key length \" + str(dkLen) + \" = \" + str(l))\n",
    "    # Remainder - bits that the last processed blok contributes to the derived key\n",
    "    r = dkLen - (l - 1) * hLen\n",
    "    print(\"Octets included from the last block : \" + str(r) + \" bytes\")\n",
    "\n",
    "    # Derrived Key blocks list - T.\n",
    "    T = [b''] * l\n",
    "    # For each block,\n",
    "    for i in range(0, l):\n",
    "        print(\"i = \" + str(i))\n",
    "        T[i] = F(password, salt, iterC, i + 1)\n",
    "    masterKey = \"\"\n",
    "    if (l >= 2):\n",
    "        masterKey = \"\".join([kp.hex() for kp in T[0:l - 1]])\n",
    "    masterKey = masterKey + T[l - 1][0:r].hex()\n",
    "    return masterKey"
   ]
  },
  {
   "cell_type": "code",
   "execution_count": 5,
   "metadata": {},
   "outputs": [],
   "source": [
    "def F(password, salt, iterC, i):\n",
    "    # Start with a blank key.\n",
    "    K = b''\n",
    "    # Salt for the first iteration is user_specified_salt | block#\n",
    "    salt_in = salt + (i).to_bytes(length=4, byteorder='big')\n",
    "    for c in range(0, iterC):\n",
    "        PRF_out = PRF(password, salt_in)\n",
    "        # Salt for next iteration is output of the pseudorandom function from the last round.\n",
    "        salt_in = PRF_out\n",
    "        #print(\"POUT:\"+str(Pout))\n",
    "        K = bytexor(K, PRF_out)\n",
    "        print(\"   K : \" + K.hex() + \"\\n\")\n",
    "    return K"
   ]
  },
  {
   "cell_type": "code",
   "execution_count": 6,
   "metadata": {},
   "outputs": [],
   "source": [
    "# Pseudorandom Function - using SHA1-HMAC\n",
    "def PRF(password, salt):\n",
    "    #print(\"SALT: \"+str(salt))\n",
    "    H = hmac.new(password, salt, 'sha1')\n",
    "    #print(\"LD:\"+str(len(H.digest())))\n",
    "    print(\"   PRF(\" + str(password) + \", \" + str(salt) + \") \\n      = \" + str(H.digest()))\n",
    "    return H.digest()"
   ]
  },
  {
   "cell_type": "markdown",
   "metadata": {},
   "source": [
    "# PBKDF 1\n",
    "\n",
    "The difference between PBKDF1 and PBKDF2 are -\n",
    "\n",
    "**Hash Function instead of pseudorandom function**\n",
    "PBKDF1 used a hash function such as `MD2`, `MD5` or `SHA1` instead of the `PRF`. This was implemented as -\n",
    "\n",
    "$T_0 = hash(password | salt)$\n",
    "\n",
    "$T_1 = hash(password | T_0)$\n",
    "\n",
    "$T_2 = hash(password | T_1)$\n",
    "\n",
    "$...$\n",
    "\n",
    "$T_{len} = hash(password | T_{len-1})$\n",
    "\n",
    "PBKDF2 uses $T_n = PRF(password, T_{n-1})$. Which although may be functionally identical, is resistant to cryptanalysis.\n",
    "\n",
    "\n",
    "\n",
    "**Derived Key length limited by hash size**\n",
    "The derived key of the PBKDF1 was bound by the hash length of the function used - 20 for SHA1, 16 for MD2 and MD5."
   ]
  },
  {
   "cell_type": "markdown",
   "metadata": {},
   "source": [
    "## Test"
   ]
  },
  {
   "cell_type": "code",
   "execution_count": 7,
   "metadata": {},
   "outputs": [
    {
     "name": "stdout",
     "output_type": "stream",
     "text": [
      "Number of blocks for key length 45 = 3\n",
      "Octets included from the last block : 5 bytes\n",
      "i = 0\n",
      "   PRF(b'password', b'salt\\x00\\x00\\x00\\x01') \n",
      "      = b'\\x0c`\\xc8\\x0f\\x96\\x1f\\x0eq\\xf3\\xa9\\xb5$\\xaf`\\x12\\x06/\\xe07\\xa6'\n",
      "   K : 0c60c80f961f0e71f3a9b524af6012062fe037a6\n",
      "\n",
      "   PRF(b'password', b'\\x0c`\\xc8\\x0f\\x96\\x1f\\x0eq\\xf3\\xa9\\xb5$\\xaf`\\x12\\x06/\\xe07\\xa6') \n",
      "      = b'\\xe6\\x0c\\xc9BQ2a\\xfd>\\xb7l\\x0ea}S\\xf6\\xf7>\\xbe\\xf1'\n",
      "   K : ea6c014dc72d6f8ccd1ed92ace1d41f0d8de8957\n",
      "\n",
      "   PRF(b'password', b'\\xe6\\x0c\\xc9BQ2a\\xfd>\\xb7l\\x0ea}S\\xf6\\xf7>\\xbe\\xf1') \n",
      "      = b'\\x81\"\\'_\\x9b\\x08\\xa0\\xadc+3\\xf3\\x9b\\xe98\\x1a\\xf6\\xaf\\x7f\\xa8'\n",
      "   K : 6b4e26125c25cf21ae35ead955f479ea2e71f6ff\n",
      "\n",
      "   PRF(b'password', b'\\x81\"\\'_\\x9b\\x08\\xa0\\xadc+3\\xf3\\x9b\\xe98\\x1a\\xf6\\xaf\\x7f\\xa8') \n",
      "      = b'\\xaf\\x8c=\\xe0\\xe7\\xd3\\xda`\\xee\\xbb(}\\xc9}\\xc0,\\xb1\\x05\\xc6\\x99'\n",
      "   K : c4c21bf2bbf61541408ec2a49c89b9c69f743066\n",
      "\n",
      "i = 1\n",
      "   PRF(b'password', b'salt\\x00\\x00\\x00\\x02') \n",
      "      = b'\\xe0\\xf0\\xeb\\x94\\xfe\\x8f\\xc4k\\xdccqd\\xac.z\\x8e?\\x9d.\\x83'\n",
      "   K : e0f0eb94fe8fc46bdc637164ac2e7a8e3f9d2e83\n",
      "\n",
      "   PRF(b'password', b'\\xe0\\xf0\\xeb\\x94\\xfe\\x8f\\xc4k\\xdccqd\\xac.z\\x8e?\\x9d.\\x83') \n",
      "      = b'*\\x19\\xda\\xa2\\xd8\\xea\\xf3\\xc3\\x0b\\xdc:\\x12i>\\xeeB%}>2'\n",
      "   K : cae93136266537a8d7bf4b76c51094cc1ae010b1\n",
      "\n",
      "   PRF(b'password', b'*\\x19\\xda\\xa2\\xd8\\xea\\xf3\\xc3\\x0b\\xdc:\\x12i>\\xeeB%}>2') \n",
      "      = b\"T\\xa91\\x1f\\xd6-'F\\x19\\x8e~#\\xf6\\xab\\xba\\x1fR\\x06\\x14k\"\n",
      "   K : 9e400029f04810eece31355533bb2ed348e604da\n",
      "\n",
      "   PRF(b'password', b\"T\\xa91\\x1f\\xd6-'F\\x19\\x8e~#\\xf6\\xab\\xba\\x1fR\\x06\\x14k\") \n",
      "      = b'm\\x804\\xfeW\\xc1\\xb6|\\xe2\\xec\\x03uZR\\x86\\x11\\xf1\\xf1\\x15\\xbe'\n",
      "   K : f3c034d7a789a6922cdd362069e9a8c2b9171164\n",
      "\n",
      "i = 2\n",
      "   PRF(b'password', b'salt\\x00\\x00\\x00\\x03') \n",
      "      = b'\\xac\\xe5~\\rP\\xe5\\xe1\\x07\\x13g\\xc1y\\xbc\\x86\\xc7g\\xfc?x\\xdd'\n",
      "   K : ace57e0d50e5e1071367c179bc86c767fc3f78dd\n",
      "\n",
      "   PRF(b'password', b'\\xac\\xe5~\\rP\\xe5\\xe1\\x07\\x13g\\xc1y\\xbc\\x86\\xc7g\\xfc?x\\xdd') \n",
      "      = b'5\\xc6\\xa3\\xc9i\\xb91c\\xbf\\xd7\\xe2\\x86mk\\x12\\x88\\xb7\\xd7\\x87;'\n",
      "   K : 9923ddc4395cd064acb023ffd1edd5ef4be8ffe6\n",
      "\n",
      "   PRF(b'password', b'5\\xc6\\xa3\\xc9i\\xb91c\\xbf\\xd7\\xe2\\x86mk\\x12\\x88\\xb7\\xd7\\x87;') \n",
      "      = b'\\xe9_\\x19\\x92\\x16\\xd9.v\\xa0\\xec\\x1c\\xd7\\x7f\\xed\\xad\\xea\\x9e\\r\\x05\\xf7'\n",
      "   K : 707cc4562f85fe120c5c3f28ae007805d5e5fa11\n",
      "\n",
      "   PRF(b'password', b'\\xe9_\\x19\\x92\\x16\\xd9.v\\xa0\\xec\\x1c\\xd7\\x7f\\xed\\xad\\xea\\x9e\\r\\x05\\xf7') \n",
      "      = b'\\x85\"\\x13/\\xb6P\\x92)\\xbc\\x8fEYI\\xe3\\x0b\\xd3CK\\x87m'\n",
      "   K : f55ed77999d56c3bb0d37a71e7e373d696ae7d7c\n",
      "\n"
     ]
    }
   ],
   "source": [
    "# Self made test vector to demonstarte the steps of the PBKDF2.\n",
    "MK_test=KDF(b'password',b'salt',4,45)"
   ]
  },
  {
   "cell_type": "code",
   "execution_count": 8,
   "metadata": {},
   "outputs": [
    {
     "name": "stdout",
     "output_type": "stream",
     "text": [
      "c4c21bf2bbf61541408ec2a49c89b9c69f743066f3c034d7a789a6922cdd362069e9a8c2b9171164f55ed77999\n",
      "Len = 45\n"
     ]
    }
   ],
   "source": [
    "print(MK_test)\n",
    "print(\"Len = \"+str(int(len(MK_test)/2)))"
   ]
  },
  {
   "cell_type": "markdown",
   "metadata": {},
   "source": [
    "[RFC-6070](https://tools.ietf.org/rfc/rfc6070.txt) - Test vectors for PBKDF2."
   ]
  },
  {
   "cell_type": "code",
   "execution_count": 9,
   "metadata": {},
   "outputs": [
    {
     "name": "stdout",
     "output_type": "stream",
     "text": [
      "Number of blocks for key length 20 = 1\n",
      "Octets included from the last block : 20 bytes\n",
      "i = 0\n",
      "   PRF(b'password', b'salt\\x00\\x00\\x00\\x01') \n",
      "      = b'\\x0c`\\xc8\\x0f\\x96\\x1f\\x0eq\\xf3\\xa9\\xb5$\\xaf`\\x12\\x06/\\xe07\\xa6'\n",
      "   K : 0c60c80f961f0e71f3a9b524af6012062fe037a6\n",
      "\n"
     ]
    }
   ],
   "source": [
    "MK1 = KDF(b'password', b'salt', 1, 20)"
   ]
  },
  {
   "cell_type": "code",
   "execution_count": 10,
   "metadata": {},
   "outputs": [
    {
     "name": "stdout",
     "output_type": "stream",
     "text": [
      "0c60c80f961f0e71f3a9b524af6012062fe037a6\n",
      "Len = 20\n"
     ]
    }
   ],
   "source": [
    "print(MK1)\n",
    "print(\"Len = \"+str(int(len(MK1)/2)))"
   ]
  },
  {
   "cell_type": "code",
   "execution_count": 11,
   "metadata": {},
   "outputs": [
    {
     "name": "stdout",
     "output_type": "stream",
     "text": [
      "Number of blocks for key length 20 = 1\n",
      "Octets included from the last block : 20 bytes\n",
      "i = 0\n",
      "   PRF(b'password', b'salt\\x00\\x00\\x00\\x01') \n",
      "      = b'\\x0c`\\xc8\\x0f\\x96\\x1f\\x0eq\\xf3\\xa9\\xb5$\\xaf`\\x12\\x06/\\xe07\\xa6'\n",
      "   K : 0c60c80f961f0e71f3a9b524af6012062fe037a6\n",
      "\n",
      "   PRF(b'password', b'\\x0c`\\xc8\\x0f\\x96\\x1f\\x0eq\\xf3\\xa9\\xb5$\\xaf`\\x12\\x06/\\xe07\\xa6') \n",
      "      = b'\\xe6\\x0c\\xc9BQ2a\\xfd>\\xb7l\\x0ea}S\\xf6\\xf7>\\xbe\\xf1'\n",
      "   K : ea6c014dc72d6f8ccd1ed92ace1d41f0d8de8957\n",
      "\n"
     ]
    }
   ],
   "source": [
    "MK2 = KDF(b'password', b'salt', 2, 20)"
   ]
  },
  {
   "cell_type": "code",
   "execution_count": 12,
   "metadata": {},
   "outputs": [
    {
     "name": "stdout",
     "output_type": "stream",
     "text": [
      "ea6c014dc72d6f8ccd1ed92ace1d41f0d8de8957\n",
      "Len = 20\n"
     ]
    }
   ],
   "source": [
    "print(MK2)\n",
    "print(\"Len = \"+str(int(len(MK2)/2)))"
   ]
  },
  {
   "cell_type": "code",
   "execution_count": 13,
   "metadata": {},
   "outputs": [],
   "source": [
    "# MK3=KDF(b'password',b'salt',4096,20)"
   ]
  },
  {
   "cell_type": "code",
   "execution_count": 14,
   "metadata": {},
   "outputs": [],
   "source": [
    "# print(MK3)\n",
    "# print(\"Len = \"+str(int(len(MK3)/2)))"
   ]
  },
  {
   "cell_type": "code",
   "execution_count": 15,
   "metadata": {},
   "outputs": [],
   "source": [
    "# MK4=KDF(b'passwordPASSWORDpassword', b'saltSALTsaltSALTsaltSALTsaltSALTsalt', 4096, 25)"
   ]
  },
  {
   "cell_type": "code",
   "execution_count": 16,
   "metadata": {},
   "outputs": [],
   "source": [
    "# print(MK4)\n",
    "# print(\"Len = \"+str(int(len(MK4)/2)))"
   ]
  },
  {
   "cell_type": "code",
   "execution_count": 17,
   "metadata": {},
   "outputs": [],
   "source": [
    "# MK5=KDF(b'pass\\x00word', b'sa\\x00lt', 4096, 16)"
   ]
  },
  {
   "cell_type": "code",
   "execution_count": 18,
   "metadata": {},
   "outputs": [],
   "source": [
    "# print(MK5)\n",
    "# print(\"Len = \"+str(int(len(MK5)/2)))"
   ]
  },
  {
   "cell_type": "code",
   "execution_count": 19,
   "metadata": {},
   "outputs": [],
   "source": [
    "# MK6 = KDF(b'password', b'ATHENA.MIT.EDUraeburn', 1, 16)"
   ]
  },
  {
   "cell_type": "code",
   "execution_count": 20,
   "metadata": {},
   "outputs": [],
   "source": [
    "# print(MK6)\n",
    "# print(\"Len = \"+str(int(len(MK6)/2)))"
   ]
  },
  {
   "cell_type": "markdown",
   "metadata": {},
   "source": [
    "### Reference\n",
    "1. [Wikipedia](https://en.wikipedia.org/wiki/PBKDF2)\n",
    "2. [RFC-2898](https://tools.ietf.org/rfc/rfc2898.txt)\n",
    "3. [NIST 800-132](https://csrc.nist.gov/publications/detail/sp/800-132/final)\n",
    "4. [RFC-6070](https://tools.ietf.org/rfc/rfc6070.txt) - Test vectors for PBKDF2."
   ]
  }
 ],
 "metadata": {
  "kernelspec": {
   "display_name": "Python [conda env:anaconda3]",
   "language": "python",
   "name": "conda-env-anaconda3-py"
  },
  "language_info": {
   "codemirror_mode": {
    "name": "ipython",
    "version": 3
   },
   "file_extension": ".py",
   "mimetype": "text/x-python",
   "name": "python",
   "nbconvert_exporter": "python",
   "pygments_lexer": "ipython3",
   "version": "3.6.5"
  },
  "varInspector": {
   "cols": {
    "lenName": 16,
    "lenType": 16,
    "lenVar": 40
   },
   "kernels_config": {
    "python": {
     "delete_cmd_postfix": "",
     "delete_cmd_prefix": "del ",
     "library": "var_list.py",
     "varRefreshCmd": "print(var_dic_list())"
    },
    "r": {
     "delete_cmd_postfix": ") ",
     "delete_cmd_prefix": "rm(",
     "library": "var_list.r",
     "varRefreshCmd": "cat(var_dic_list()) "
    }
   },
   "types_to_exclude": [
    "module",
    "function",
    "builtin_function_or_method",
    "instance",
    "_Feature"
   ],
   "window_display": false
  }
 },
 "nbformat": 4,
 "nbformat_minor": 2
}
