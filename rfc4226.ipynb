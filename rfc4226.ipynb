{
 "cells": [
  {
   "cell_type": "markdown",
   "metadata": {},
   "source": [
    "# Implementation of RFC 4226 - HOPT Algorithm\n",
    "___HMAC based One Time Password___\n",
    "\n",
    "...in python\n",
    "\n",
    "* [RFC 4226](https://tools.ietf.org/html/rfc4226)\n",
    "* [Wikipedia](https://en.wikipedia.org/wiki/HMAC-based_One-time_Password_algorithm)"
   ]
  },
  {
   "cell_type": "code",
   "execution_count": 1,
   "metadata": {},
   "outputs": [],
   "source": [
    "import hashlib\n",
    "import hmac\n",
    "import base64"
   ]
  },
  {
   "cell_type": "code",
   "execution_count": 2,
   "metadata": {},
   "outputs": [],
   "source": [
    "# Control excessive output to console\n",
    "debug = True\n",
    "def dbg(data):\n",
    "    if (debug):\n",
    "        print(data)"
   ]
  },
  {
   "cell_type": "code",
   "execution_count": 3,
   "metadata": {},
   "outputs": [],
   "source": [
    "# Prepare Counter - convert integer to byte\n",
    "def get_counter(counter):\n",
    "    return counter.to_bytes(8, byteorder='big')"
   ]
  },
  {
   "cell_type": "code",
   "execution_count": 4,
   "metadata": {},
   "outputs": [
    {
     "name": "stdout",
     "output_type": "stream",
     "text": [
      "Key Base32 Decode :\n",
      "b'\\x08$M\\xeaD\\x14I=\\xebz'\n"
     ]
    }
   ],
   "source": [
    "### Define SharedSecret, Block size, hashing algorithm, HOTP length\n",
    "hash_algo = \"sha1\"\n",
    "B = 64\n",
    "counter = 1\n",
    "shared_secret = b'BASE32SECRET3232'\n",
    "# OTP Length\n",
    "Digits = 6\n",
    "# Google Authenticator Compatibility (BASE-32)\n",
    "key=base64.b32decode(shared_secret)\n",
    "dbg(\"Key Base32 Decode :\")\n",
    "dbg(key)"
   ]
  },
  {
   "cell_type": "code",
   "execution_count": 5,
   "metadata": {},
   "outputs": [],
   "source": [
    "### Implement the HMAC Algorithm. For details see the rfc2104.ipynb at\n",
    "# https://github.com/lordloh/OPT_algorithms/blob/master/rfc2104.ipynb\n",
    "\n",
    "def my_hmac(key, message):\n",
    "    trans_5C = bytes((x ^ 0x5C) for x in range(256))\n",
    "    trans_36 = bytes((x ^ 0x36) for x in range(256))\n",
    "    K_zpad=key.ljust(B,b'\\0')    \n",
    "    K_ipad=K_zpad.translate(trans_36)\n",
    "    K_opad=K_zpad.translate(trans_5C)\n",
    "    hash1 = hashlib.new(hash_algo, K_ipad+message).digest()\n",
    "    hmac_hash = hashlib.new(hash_algo, K_opad + hash1).digest()\n",
    "    return hmac_hash"
   ]
  },
  {
   "cell_type": "code",
   "execution_count": 6,
   "metadata": {},
   "outputs": [],
   "source": [
    "### Dynamic Truncation\n",
    "def dynamic_truncate(b_hash):\n",
    "    dbg (\"\\n***** DYNAMIC TRUNCATION *****\")\n",
    "    hash_len=len(b_hash)\n",
    "    int_hash = int.from_bytes(b_hash, byteorder='big')\n",
    "    offset = int_hash & 0xF\n",
    "    dbg (\"offset = Lowest 4 bits (nibble) of hash = \" + hex(int_hash & 0xF)+\" = \"+str(offset))\n",
    "    dbg (\"Get hex digits (nibbles) from digit #\"+str(offset)+\" to digit #\"+str(offset+3))\n",
    "    dbg (\"Digit 0 is the most significat nibble of the hash.\")\n",
    "    # Geterate a mask to get bytes from left to right of the hash\n",
    "    n_shift = 8*(hash_len-offset)-32\n",
    "    MASK = 0xFFFFFFFF << n_shift\n",
    "    #dbg (\"\\nTruncate MASK : \"+hex(MASK).rjust(hash_len*2,\"0\"))\n",
    "    hex_mask = \"0x\"+(\"{:0\"+str(2*hash_len)+\"x}\").format(MASK)\n",
    "    dbg (\"\\nHash            : 0x\"+b_hash.hex())\n",
    "    dbg (\"Truncate MASK   : \"+hex_mask+\"\\n\")\n",
    "    # Get rid of left zeros\n",
    "    P = (int_hash & MASK)>>n_shift\n",
    "    dbg (\"Truncated hash (hex) : \"+hex(P))\n",
    "    dbg (\"Truncated hash (int) : \"+str(P))\n",
    "    # Return only the lower 31 bits\n",
    "    LSB_31 = P & 0x7FFFFFFF\n",
    "    dbg (\"31 LSB bits of truncated hash (hex) : \"+hex(LSB_31))\n",
    "    dbg (\"31 LSB bits of truncated hash (int) : \"+str(LSB_31))\n",
    "    return LSB_31"
   ]
  },
  {
   "cell_type": "markdown",
   "metadata": {},
   "source": [
    "The byte # of the HMAC hash are interpreted as - \n",
    "\n",
    "\n",
    "    -------------------------------------------------------------\n",
    "    | Byte Number                                               |\n",
    "    -------------------------------------------------------------\n",
    "    |00|01|02|03|04|05|06|07|08|09|10|11|12|13|14|15|16|17|18|19|\n",
    "    -------------------------------------------------------------"
   ]
  },
  {
   "cell_type": "code",
   "execution_count": 7,
   "metadata": {},
   "outputs": [],
   "source": [
    "# function wrapper to run the HOTP algorithm multiple times for different counter value\n",
    "def generate_HOTP(counter):\n",
    "    C = get_counter(counter)\n",
    "    \n",
    "    dbg(\"Counter (int)     : \"+str(counter)+\"\\nCounter (8 bytes) :\")\n",
    "    dbg(C)\n",
    "\n",
    "    hmac_hash = my_hmac(key,C)\n",
    "    dbg(\"\\nHMAC Hash (counter) : 0x\" + hmac_hash.hex())\n",
    "\n",
    "    trc_hash = dynamic_truncate(hmac_hash)\n",
    "    \n",
    "    # Adjust HOTP length\n",
    "    HOTP = \"{:06}\".format(trc_hash % (10**Digits))\n",
    "    \n",
    "    dbg(\"\\n***** ADJUST DIGITS *****\\n\"+str(trc_hash)+\" % 10 ^ \"+str(Digits)+\"\\nHOPT : \"+HOTP)\n",
    "    return HOTP"
   ]
  },
  {
   "cell_type": "code",
   "execution_count": 8,
   "metadata": {},
   "outputs": [
    {
     "name": "stdout",
     "output_type": "stream",
     "text": [
      "Counter (int)     : 0\n",
      "Counter (8 bytes) :\n",
      "b'\\x00\\x00\\x00\\x00\\x00\\x00\\x00\\x00'\n",
      "\n",
      "HMAC Hash (counter) : 5a9b22b8161f637bb9977fc56f56f921a93029b1\n",
      "\n",
      "***** DYNAMIC TRUNCATION *****\n",
      "offset = Lowest 4 bits (nibble) of hash = 0x1 = 1\n",
      "Get hex digits (nibbles) from digit #1 to digit #4\n",
      "Digit 0 is the most significat nibble of the hash.\n",
      "\n",
      "Hash            : 0x5a9b22b8161f637bb9977fc56f56f921a93029b1\n",
      "Truncate MASK   : 0x00ffffffff000000000000000000000000000000\n",
      "\n",
      "Truncated hash (hex) : 0x9b22b816\n",
      "Truncated hash (int) : 2602743830\n",
      "31 LSB bits of truncated hash (hex) : 0x1b22b816\n",
      "31 LSB bits of truncated hash (int) : 455260182\n",
      "\n",
      "***** ADJUST DIGITS *****\n",
      "455260182 % 10 ^ 6\n",
      "HOPT : 260182\n"
     ]
    }
   ],
   "source": [
    "# Generate HOTP for counter = 0\n",
    "myHOTP0=generate_HOTP(0)\n",
    "# Generate for counter = 0..10 without a lot of output messages.\n",
    "debug=False\n",
    "myHOTPs=[(generate_HOTP(x)) for x in range(1,10)]"
   ]
  },
  {
   "cell_type": "code",
   "execution_count": 9,
   "metadata": {
    "scrolled": true
   },
   "outputs": [
    {
     "name": "stdout",
     "output_type": "stream",
     "text": [
      "['260182', '055283', '795760', '172916', '437628', '220505', '845989', '311663', '850732', '285195']\n"
     ]
    }
   ],
   "source": [
    "myHOTPs.insert(0,myHOTP0)\n",
    "print(myHOTPs)"
   ]
  },
  {
   "cell_type": "markdown",
   "metadata": {},
   "source": [
    "## Compare with pyOTP Implementation"
   ]
  },
  {
   "cell_type": "code",
   "execution_count": 10,
   "metadata": {},
   "outputs": [],
   "source": [
    "# Python\n",
    "import pyotp"
   ]
  },
  {
   "cell_type": "code",
   "execution_count": 11,
   "metadata": {},
   "outputs": [],
   "source": [
    "hotp1=pyotp.HOTP(shared_secret)"
   ]
  },
  {
   "cell_type": "code",
   "execution_count": 12,
   "metadata": {},
   "outputs": [],
   "source": [
    "# Generate 0..9 HOTP codes\n",
    "pyHOTPs=[(hotp1.at(x)) for x in range(10)]\n"
   ]
  },
  {
   "cell_type": "code",
   "execution_count": 13,
   "metadata": {},
   "outputs": [
    {
     "name": "stdout",
     "output_type": "stream",
     "text": [
      "['260182', '055283', '795760', '172916', '437628', '220505', '845989', '311663', '850732', '285195']\n"
     ]
    }
   ],
   "source": [
    "print(pyHOTPs)"
   ]
  }
 ],
 "metadata": {
  "kernelspec": {
   "display_name": "Python [default]",
   "language": "python",
   "name": "python3"
  },
  "language_info": {
   "codemirror_mode": {
    "name": "ipython",
    "version": 3
   },
   "file_extension": ".py",
   "mimetype": "text/x-python",
   "name": "python",
   "nbconvert_exporter": "python",
   "pygments_lexer": "ipython3",
   "version": "3.6.5"
  }
 },
 "nbformat": 4,
 "nbformat_minor": 2
}
