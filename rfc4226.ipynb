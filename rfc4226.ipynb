{
 "cells": [
  {
   "cell_type": "markdown",
   "metadata": {},
   "source": [
    "# Implementation of RFC 4226 - HOPT Algorithm\n",
    "___HMAC based One Time Password___\n",
    "\n",
    "...in python\n",
    "\n",
    "Two factor authentication is a technique where a user needs to prove his identity with more than just a username and a psasword to login to an online service. This was found necessary for various reasons such as people using the same password for multiple sites and one of those sites gets hacked, their password database compromised. Even if the passwords are stored as hashes and not plain texts, an attacker could run the hashes against a database of pre-computed hashes to guess the password.\n",
    "\n",
    "With two factor authentication, a one time password (OTP) is generated each time the user logs in. This OTP is useless after one use. One way to have one time passwords is to have the user and the service agree on a long list of passwords. This would be a logistical problem. Another alternative is to use a pseudo random number generator using an [Linear Feedback Shift Register (LFSR)](https://en.wikipedia.org/wiki/Linear-feedback_shift_register). As long as the user and the service use the same seed, they would generate the same pseudorandom number sequence. However, this is cryptograhpically weak.\n",
    "\n",
    "This problem is solved using an HMAC based One Time Password (HOTP) generation algorithm[2]. The HOTP is based on the [HMAC algorithm](https://en.wikipedia.org/wiki/HMAC) (see [HMAC Jupyter notebook](https://nbviewer.jupyter.org/github/lordloh/OPT_algorithms/blob/master/rfc2104.ipynb)). The HMAC generates a hash, for a given secret key $K$ and message $M$ pair.\n",
    "\n",
    "$$hmac\\_hash = HMAC(K, M)$$\n",
    "\n",
    "The HOPT uses an increasing counter in place of the message. So, the each time the user logs in, both the user and the service increament the counter to authenticate the next time. The HOTP algorithm is described in [RFC-4226](https://tools.ietf.org/html/rfc4226)[1].\n",
    "\n",
    "This notebook demonstrates the working of the RFC-4226 with intermediate steps output to the console."
   ]
  },
  {
   "cell_type": "code",
   "execution_count": 1,
   "metadata": {},
   "outputs": [],
   "source": [
    "import hashlib\n",
    "import hmac\n",
    "import base64"
   ]
  },
  {
   "cell_type": "code",
   "execution_count": 2,
   "metadata": {},
   "outputs": [],
   "source": [
    "# Control excessive output to console\n",
    "debug = True\n",
    "def dbg(data):\n",
    "    if (debug):\n",
    "        print(data)"
   ]
  },
  {
   "cell_type": "code",
   "execution_count": 3,
   "metadata": {},
   "outputs": [],
   "source": [
    "# Prepare Counter - convert integer to byte\n",
    "def get_counter(counter):\n",
    "    return counter.to_bytes(8, byteorder='big')"
   ]
  },
  {
   "cell_type": "code",
   "execution_count": 4,
   "metadata": {},
   "outputs": [
    {
     "name": "stdout",
     "output_type": "stream",
     "text": [
      "Key Base32 Decode :\n",
      "b'\\x08$M\\xeaD\\x14I=\\xebz'\n"
     ]
    }
   ],
   "source": [
    "### Define SharedSecret, Block size, hashing algorithm, HOTP length\n",
    "hash_algo = \"sha1\"\n",
    "B = 64\n",
    "counter = 1\n",
    "shared_secret = b'BASE32SECRET3232'\n",
    "# OTP Length\n",
    "Digits = 6\n",
    "# Google Authenticator Compatibility (BASE-32)\n",
    "key=base64.b32decode(shared_secret)\n",
    "dbg(\"Key Base32 Decode :\")\n",
    "dbg(key)"
   ]
  },
  {
   "cell_type": "code",
   "execution_count": 5,
   "metadata": {},
   "outputs": [],
   "source": [
    "### Implement the HMAC Algorithm. For details see the rfc2104.ipynb at\n",
    "# https://github.com/lordloh/OPT_algorithms/blob/master/rfc2104.ipynb\n",
    "\n",
    "def my_hmac(key, message):\n",
    "    trans_5C = bytes((x ^ 0x5C) for x in range(256))\n",
    "    trans_36 = bytes((x ^ 0x36) for x in range(256))\n",
    "    K_zpad=key.ljust(B,b'\\0')    \n",
    "    K_ipad=K_zpad.translate(trans_36)\n",
    "    K_opad=K_zpad.translate(trans_5C)\n",
    "    hash1 = hashlib.new(hash_algo, K_ipad+message).digest()\n",
    "    hmac_hash = hashlib.new(hash_algo, K_opad + hash1).digest()\n",
    "    return hmac_hash"
   ]
  },
  {
   "cell_type": "markdown",
   "metadata": {},
   "source": [
    "### Dynamic Truncation\n",
    "The Dynamic Truncation routine takes the lowest 4 bit of the hash. This is used as the offset for the next step. Next, 4 bytes (32 bits), starting from offset : offset+4 are extracted from the same hash. The lower 31 bits of this sub-hash is finally returned.\n",
    "\n",
    "The byte # of the HMAC hash are interpreted as - \n",
    "\n",
    "\n",
    "    -------------------------------------------------------------\n",
    "    | Byte Number                                               |\n",
    "    -------------------------------------------------------------\n",
    "    |00|01|02|03|04|05|06|07|08|09|10|11|12|13|14|15|16|17|18|19|\n",
    "    -------------------------------------------------------------"
   ]
  },
  {
   "cell_type": "code",
   "execution_count": 6,
   "metadata": {},
   "outputs": [],
   "source": [
    "### Dynamic Truncation\n",
    "def dynamic_truncate(b_hash):\n",
    "    dbg (\"\\n***** DYNAMIC TRUNCATION *****\")\n",
    "    hash_len=len(b_hash)\n",
    "    int_hash = int.from_bytes(b_hash, byteorder='big')\n",
    "    offset = int_hash & 0xF\n",
    "    dbg (\"offset = Lowest 4 bits (nibble) of hash = \" + hex(int_hash & 0xF)+\" = \"+str(offset))\n",
    "    dbg (\"Get hex digits (nibbles) from byte #\"+str(offset)+\" to byte #\"+str(offset+3))\n",
    "    dbg (\"Byte 0 is the most significat byte (two hex digits) of the hash.\")\n",
    "    # Geterate a mask to get bytes from left to right of the hash\n",
    "    n_shift = 8*(hash_len-offset)-32\n",
    "    MASK = 0xFFFFFFFF << n_shift\n",
    "    #dbg (\"\\nTruncate MASK : \"+hex(MASK).rjust(hash_len*2,\"0\"))\n",
    "    hex_mask = \"0x\"+(\"{:0\"+str(2*hash_len)+\"x}\").format(MASK)\n",
    "    dbg (\"\\nHash            : 0x\"+b_hash.hex())\n",
    "    dbg (\"Truncate MASK   : \"+hex_mask+\"\\n\")\n",
    "    # Get rid of left zeros\n",
    "    P = (int_hash & MASK)>>n_shift\n",
    "    dbg (\"Truncated hash (hex) : \"+hex(P))\n",
    "    dbg (\"Truncated hash (int) : \"+str(P))\n",
    "    # Return only the lower 31 bits\n",
    "    LSB_31 = P & 0x7FFFFFFF\n",
    "    dbg (\"31 LSB bits of truncated hash (hex) : \"+hex(LSB_31))\n",
    "    dbg (\"31 LSB bits of truncated hash (int) : \"+str(LSB_31))\n",
    "    return LSB_31"
   ]
  },
  {
   "cell_type": "code",
   "execution_count": 7,
   "metadata": {},
   "outputs": [],
   "source": [
    "# function wrapper to run the HOTP algorithm multiple times for different counter value\n",
    "def generate_HOTP(counter):\n",
    "    C = get_counter(counter)\n",
    "    \n",
    "    dbg(\"Counter (int)     : \"+str(counter)+\"\\nCounter (8 bytes) : \"+str(C))\n",
    "\n",
    "    hmac_hash = my_hmac(key,C)\n",
    "    dbg(\"\\nHMAC Hash (shared_secret, counter) : 0x\" + hmac_hash.hex())\n",
    "\n",
    "    # Get a truncated hash (int)\n",
    "    trc_hash = dynamic_truncate(hmac_hash)\n",
    "    \n",
    "    # Adjust HOTP length\n",
    "    HOTP = (\"{:0\"+str(Digits)+\"}\").format(trc_hash % (10**Digits))\n",
    "    \n",
    "    dbg(\"\\n***** ADJUST DIGITS *****\\n\"+str(trc_hash)+\" % 10 ^ \"+str(Digits)+\"\\nHOPT : \"+HOTP)\n",
    "    return HOTP"
   ]
  },
  {
   "cell_type": "code",
   "execution_count": 8,
   "metadata": {},
   "outputs": [
    {
     "name": "stdout",
     "output_type": "stream",
     "text": [
      "Counter (int)     : 1\n",
      "Counter (8 bytes) : b'\\x00\\x00\\x00\\x00\\x00\\x00\\x00\\x01'\n",
      "\n",
      "HMAC Hash (shared_secret, counter) : 0x7117ccfcfc54a98514d8774fb1b8fbe0624e330f\n",
      "\n",
      "***** DYNAMIC TRUNCATION *****\n",
      "offset = Lowest 4 bits (nibble) of hash = 0xf = 15\n",
      "Get hex digits (nibbles) from byte #15 to byte #18\n",
      "Byte 0 is the most significat byte (two hex digits) of the hash.\n",
      "\n",
      "Hash            : 0x7117ccfcfc54a98514d8774fb1b8fbe0624e330f\n",
      "Truncate MASK   : 0x000000000000000000000000000000ffffffff00\n",
      "\n",
      "Truncated hash (hex) : 0xe0624e33\n",
      "Truncated hash (int) : 3764538931\n",
      "31 LSB bits of truncated hash (hex) : 0x60624e33\n",
      "31 LSB bits of truncated hash (int) : 1617055283\n",
      "\n",
      "***** ADJUST DIGITS *****\n",
      "1617055283 % 10 ^ 6\n",
      "HOPT : 055283\n"
     ]
    }
   ],
   "source": [
    "# Generate HOTP for counter = 1\n",
    "myHOTP1=generate_HOTP(1)"
   ]
  },
  {
   "cell_type": "code",
   "execution_count": 9,
   "metadata": {},
   "outputs": [
    {
     "name": "stdout",
     "output_type": "stream",
     "text": [
      "Counter (int)     : 2\n",
      "Counter (8 bytes) : b'\\x00\\x00\\x00\\x00\\x00\\x00\\x00\\x02'\n",
      "\n",
      "HMAC Hash (shared_secret, counter) : 0x364568c345d0c5935bfd7016adfe16c51437f207\n",
      "\n",
      "***** DYNAMIC TRUNCATION *****\n",
      "offset = Lowest 4 bits (nibble) of hash = 0x7 = 7\n",
      "Get hex digits (nibbles) from byte #7 to byte #10\n",
      "Byte 0 is the most significat byte (two hex digits) of the hash.\n",
      "\n",
      "Hash            : 0x364568c345d0c5935bfd7016adfe16c51437f207\n",
      "Truncate MASK   : 0x00000000000000ffffffff000000000000000000\n",
      "\n",
      "Truncated hash (hex) : 0x935bfd70\n",
      "Truncated hash (int) : 2472279408\n",
      "31 LSB bits of truncated hash (hex) : 0x135bfd70\n",
      "31 LSB bits of truncated hash (int) : 324795760\n",
      "\n",
      "***** ADJUST DIGITS *****\n",
      "324795760 % 10 ^ 6\n",
      "HOPT : 795760\n"
     ]
    }
   ],
   "source": [
    "# Lets see the example of generating HOTP for counter = 2\n",
    "myHOTP2=generate_HOTP(2)"
   ]
  },
  {
   "cell_type": "code",
   "execution_count": 10,
   "metadata": {},
   "outputs": [],
   "source": [
    "# Similarly, lets generate HOTPs for counter = 3..10 without a lot of output messages.\n",
    "debug=False\n",
    "myHOTPs=[(generate_HOTP(x)) for x in range(3,10)]\n",
    "myHOTPs.insert(0,myHOTP1)\n",
    "myHOTPs.insert(1,myHOTP2)"
   ]
  },
  {
   "cell_type": "code",
   "execution_count": 11,
   "metadata": {
    "scrolled": true
   },
   "outputs": [
    {
     "name": "stdout",
     "output_type": "stream",
     "text": [
      "['055283', '795760', '172916', '437628', '220505', '845989', '311663', '850732', '285195']\n"
     ]
    }
   ],
   "source": [
    "print(myHOTPs)"
   ]
  },
  {
   "cell_type": "markdown",
   "metadata": {},
   "source": [
    "## Compare with pyOTP Implementation"
   ]
  },
  {
   "cell_type": "code",
   "execution_count": 12,
   "metadata": {},
   "outputs": [],
   "source": [
    "# Python\n",
    "import pyotp"
   ]
  },
  {
   "cell_type": "code",
   "execution_count": 13,
   "metadata": {},
   "outputs": [],
   "source": [
    "hotp_pyOTP=pyotp.HOTP(shared_secret)"
   ]
  },
  {
   "cell_type": "code",
   "execution_count": 14,
   "metadata": {},
   "outputs": [],
   "source": [
    "# Generate 0..9 HOTP codes\n",
    "pyHOTPs=[(hotp_pyOTP.at(x)) for x in range(1,10)]"
   ]
  },
  {
   "cell_type": "code",
   "execution_count": 15,
   "metadata": {},
   "outputs": [
    {
     "name": "stdout",
     "output_type": "stream",
     "text": [
      "['055283', '795760', '172916', '437628', '220505', '845989', '311663', '850732', '285195']\n"
     ]
    }
   ],
   "source": [
    "print(pyHOTPs)"
   ]
  },
  {
   "cell_type": "markdown",
   "metadata": {},
   "source": [
    "## Compare with Google Authenticator\n",
    " \n",
    "| | | |\n",
    "|-|-|-|\n",
    "| __Setup__ | |\n",
    "| ![Google Authenticator Setup](img/googleAuthenticator/00.png) | |\n",
    "| __counter = 1__ | __counter = 2__ |\n",
    "| ![counter=1](img/googleAuthenticator/01.png) | ![counter=2](img/googleAuthenticator/02.png) |\n",
    "| __counter = 3__ | __counter = 4__ |\n",
    "| ![counter=3](img/googleAuthenticator/03.png) | ![counter=4](img/googleAuthenticator/04.png) | \n",
    "| __counter = 5__ | __counter = 6__ |\n",
    "| ![counter=5](img/googleAuthenticator/05.png) | ![counter=6](img/googleAuthenticator/06.png) |"
   ]
  },
  {
   "cell_type": "markdown",
   "metadata": {},
   "source": [
    "### References\n",
    "\n",
    "1. [RFC 4226](https://tools.ietf.org/html/rfc4226)\n",
    "2. [Wikipedia](https://en.wikipedia.org/wiki/HMAC-based_One-time_Password_algorithm)"
   ]
  }
 ],
 "metadata": {
  "kernelspec": {
   "display_name": "Python [default]",
   "language": "python",
   "name": "python3"
  },
  "language_info": {
   "codemirror_mode": {
    "name": "ipython",
    "version": 3
   },
   "file_extension": ".py",
   "mimetype": "text/x-python",
   "name": "python",
   "nbconvert_exporter": "python",
   "pygments_lexer": "ipython3",
   "version": "3.6.5"
  }
 },
 "nbformat": 4,
 "nbformat_minor": 2
}
