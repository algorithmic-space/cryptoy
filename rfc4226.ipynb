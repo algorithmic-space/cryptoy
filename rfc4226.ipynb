{
 "cells": [
  {
   "cell_type": "markdown",
   "metadata": {},
   "source": [
    "# Implementation of RFC 4226 - HOPT Algorithm\n",
    "___HMAC based One Time Password___\n",
    "\n",
    "...in python\n",
    "\n",
    "* [RFC 4226](https://tools.ietf.org/html/rfc4226)\n",
    "* [Wikipedia](https://en.wikipedia.org/wiki/HMAC-based_One-time_Password_algorithm)"
   ]
  },
  {
   "cell_type": "code",
   "execution_count": 1,
   "metadata": {},
   "outputs": [],
   "source": [
    "import hashlib\n",
    "import hmac\n",
    "import base64"
   ]
  },
  {
   "cell_type": "code",
   "execution_count": 2,
   "metadata": {},
   "outputs": [],
   "source": [
    "# Control excessive output to console\n",
    "debug = False\n",
    "def dbg(data):\n",
    "    if (debug):\n",
    "        print(data)"
   ]
  },
  {
   "cell_type": "code",
   "execution_count": 3,
   "metadata": {},
   "outputs": [],
   "source": [
    "# Prepare Counter\n",
    "def get_counter(counter):\n",
    "    return counter.to_bytes(8, byteorder='big')"
   ]
  },
  {
   "cell_type": "code",
   "execution_count": 4,
   "metadata": {},
   "outputs": [],
   "source": [
    "### Define key, message, Block size, hashing algorithm\n",
    "hash_algo = \"sha1\"\n",
    "B = 64\n",
    "counter = 1\n",
    "shared_secret = b'BASE32SECRET3232'\n",
    "# OTP Length\n",
    "Digits = 6\n",
    "# Google Authenticator Compatibility (BASE-32)\n",
    "key=base64.b32decode(shared_secret)\n",
    "dbg(\"Key Base32 Decode :\")\n",
    "dbg(key)"
   ]
  },
  {
   "cell_type": "code",
   "execution_count": 5,
   "metadata": {},
   "outputs": [],
   "source": [
    "### Implement the HMAC Algorithm. For details see the rfc2104.ipynb at\n",
    "# https://github.com/lordloh/OPT_algorithms/blob/master/rfc2104.ipynb\n",
    "\n",
    "def my_hmac(key, message):\n",
    "    trans_5C = bytes((x ^ 0x5C) for x in range(256))\n",
    "    trans_36 = bytes((x ^ 0x36) for x in range(256))\n",
    "    K_zpad=key.ljust(B,b'\\0')    \n",
    "    K_ipad=K_zpad.translate(trans_36)\n",
    "    K_opad=K_zpad.translate(trans_5C)\n",
    "    hash1 = hashlib.new(hash_algo, K_ipad+message).digest()\n",
    "    hmac_hash = hashlib.new(hash_algo, K_opad + hash1).digest()\n",
    "    return hmac_hash"
   ]
  },
  {
   "cell_type": "code",
   "execution_count": 6,
   "metadata": {},
   "outputs": [],
   "source": [
    "### Dynamic Truncation\n",
    "def dynamic_truncate(b_hash):\n",
    "    hash_len=len(b_hash)\n",
    "    int_hash = int.from_bytes(b_hash, byteorder='big')\n",
    "    #str_hash = b_hash.hex()\n",
    "    offset = int_hash & 0xF\n",
    "    dbg (\"\\noffset = Lower 4 bits of hash = \" + hex(int_hash & 0xF)+\" = \"+str(offset)+\"\\n\")\n",
    "    # Geterate a mask to get bytes from left to right of the hash\n",
    "    n_shift = 8*(hash_len-offset)-32\n",
    "    MASK = 0xFFFFFFFF << n_shift\n",
    "    dbg (\"Truncate MASK:\"+hex(MASK))\n",
    "    P = (int_hash & MASK)>>n_shift\n",
    "    dbg (\"Truncated hash (hex) : \"+hex(P))\n",
    "    dbg (\"Truncated hash (int) : \"+str(P))\n",
    "    LSB_31 = P & 0x7FFFFFFF\n",
    "    dbg (\"Truncated hash LSB 31 bits (hex) : \"+hex(LSB_31))\n",
    "    dbg (\"Truncated hash LSB 31 bits (int) : \"+str(LSB_31))\n",
    "    return LSB_31"
   ]
  },
  {
   "cell_type": "code",
   "execution_count": 7,
   "metadata": {},
   "outputs": [],
   "source": [
    "def generate_HOTP(counter):\n",
    "    C = get_counter(counter)\n",
    "    dbg(\"Counter: \"+str(counter)+\"\\nCounter Byte :\")\n",
    "    dbg(C)\n",
    "\n",
    "    hmac_hash = my_hmac(key,C)\n",
    "    dbg(\"HMAC Hash:\\n\" + hmac_hash.hex())\n",
    "\n",
    "    trc_hash = dynamic_truncate(hmac_hash)\n",
    "    HOTP = \"{:06}\".format(trc_hash % (10**Digits))\n",
    "    dbg(\"\\nHOPT : \"+str(HOTP))\n",
    "    dbg(\"----------------------\")\n",
    "    return HOTP"
   ]
  },
  {
   "cell_type": "code",
   "execution_count": 8,
   "metadata": {},
   "outputs": [],
   "source": [
    "myHOTPs=[(generate_HOTP(x)) for x in range(10)]"
   ]
  },
  {
   "cell_type": "code",
   "execution_count": 9,
   "metadata": {},
   "outputs": [
    {
     "name": "stdout",
     "output_type": "stream",
     "text": [
      "['260182', '055283', '795760', '172916', '437628', '220505', '845989', '311663', '850732', '285195']\n"
     ]
    }
   ],
   "source": [
    "print(myHOTPs)"
   ]
  },
  {
   "cell_type": "markdown",
   "metadata": {},
   "source": [
    "## Compare with pyOTP Implementation"
   ]
  },
  {
   "cell_type": "code",
   "execution_count": 10,
   "metadata": {},
   "outputs": [],
   "source": [
    "# Python\n",
    "import pyotp"
   ]
  },
  {
   "cell_type": "code",
   "execution_count": 11,
   "metadata": {},
   "outputs": [],
   "source": [
    "hotp1=pyotp.HOTP(shared_secret)"
   ]
  },
  {
   "cell_type": "code",
   "execution_count": 12,
   "metadata": {},
   "outputs": [],
   "source": [
    "# Generate 0..9 HOTP codes\n",
    "pyHOTPs=[(hotp1.at(x)) for x in range(10)]\n"
   ]
  },
  {
   "cell_type": "code",
   "execution_count": 13,
   "metadata": {},
   "outputs": [
    {
     "name": "stdout",
     "output_type": "stream",
     "text": [
      "['260182', '055283', '795760', '172916', '437628', '220505', '845989', '311663', '850732', '285195']\n"
     ]
    }
   ],
   "source": [
    "print(pyHOTPs)"
   ]
  }
 ],
 "metadata": {
  "kernelspec": {
   "display_name": "Python [default]",
   "language": "python",
   "name": "python3"
  },
  "language_info": {
   "codemirror_mode": {
    "name": "ipython",
    "version": 3
   },
   "file_extension": ".py",
   "mimetype": "text/x-python",
   "name": "python",
   "nbconvert_exporter": "python",
   "pygments_lexer": "ipython3",
   "version": "3.6.5"
  }
 },
 "nbformat": 4,
 "nbformat_minor": 2
}
