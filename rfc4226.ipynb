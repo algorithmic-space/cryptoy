{
 "cells": [
  {
   "cell_type": "markdown",
   "metadata": {},
   "source": [
    "# Implementation of RFC 4226 - HOPT Algorithm\n",
    "___HMAC based One Time Password___\n",
    "\n",
    "...in python\n",
    "\n",
    "* [RFC 4226](https://tools.ietf.org/html/rfc4226)\n",
    "* [Wikipedia](https://en.wikipedia.org/wiki/HMAC-based_One-time_Password_algorithm)"
   ]
  },
  {
   "cell_type": "code",
   "execution_count": 1,
   "metadata": {},
   "outputs": [],
   "source": [
    "import hashlib\n",
    "import hmac\n",
    "import base64"
   ]
  },
  {
   "cell_type": "code",
   "execution_count": 2,
   "metadata": {},
   "outputs": [],
   "source": [
    "# Control excessive output to console\n",
    "debug = True\n",
    "def dbg(data):\n",
    "    if (debug):\n",
    "        print(data)"
   ]
  },
  {
   "cell_type": "code",
   "execution_count": 3,
   "metadata": {},
   "outputs": [],
   "source": [
    "# Prepare Counter - convert integer to byte\n",
    "def get_counter(counter):\n",
    "    return counter.to_bytes(8, byteorder='big')"
   ]
  },
  {
   "cell_type": "code",
   "execution_count": 4,
   "metadata": {},
   "outputs": [
    {
     "name": "stdout",
     "output_type": "stream",
     "text": [
      "Key Base32 Decode :\n",
      "b'\\x08$M\\xeaD\\x14I=\\xebz'\n"
     ]
    }
   ],
   "source": [
    "### Define SharedSecret, Block size, hashing algorithm, HOTP length\n",
    "hash_algo = \"sha1\"\n",
    "B = 64\n",
    "counter = 1\n",
    "shared_secret = b'BASE32SECRET3232'\n",
    "# OTP Length\n",
    "Digits = 6\n",
    "# Google Authenticator Compatibility (BASE-32)\n",
    "key=base64.b32decode(shared_secret)\n",
    "dbg(\"Key Base32 Decode :\")\n",
    "dbg(key)"
   ]
  },
  {
   "cell_type": "code",
   "execution_count": 5,
   "metadata": {},
   "outputs": [],
   "source": [
    "### Implement the HMAC Algorithm. For details see the rfc2104.ipynb at\n",
    "# https://github.com/lordloh/OPT_algorithms/blob/master/rfc2104.ipynb\n",
    "\n",
    "def my_hmac(key, message):\n",
    "    trans_5C = bytes((x ^ 0x5C) for x in range(256))\n",
    "    trans_36 = bytes((x ^ 0x36) for x in range(256))\n",
    "    K_zpad=key.ljust(B,b'\\0')    \n",
    "    K_ipad=K_zpad.translate(trans_36)\n",
    "    K_opad=K_zpad.translate(trans_5C)\n",
    "    hash1 = hashlib.new(hash_algo, K_ipad+message).digest()\n",
    "    hmac_hash = hashlib.new(hash_algo, K_opad + hash1).digest()\n",
    "    return hmac_hash"
   ]
  },
  {
   "cell_type": "code",
   "execution_count": 6,
   "metadata": {},
   "outputs": [],
   "source": [
    "### Dynamic Truncation\n",
    "def dynamic_truncate(b_hash):\n",
    "    hash_len=len(b_hash)\n",
    "    int_hash = int.from_bytes(b_hash, byteorder='big')\n",
    "    offset = int_hash & 0xF\n",
    "    dbg (\"\\noffset = Lower 4 bits of hash = \" + hex(int_hash & 0xF)+\" = \"+str(offset)+\"\\n\")\n",
    "    # Geterate a mask to get bytes from left to right of the hash\n",
    "    n_shift = 8*(hash_len-offset)-32\n",
    "    MASK = 0xFFFFFFFF << n_shift\n",
    "    dbg (\"Truncate MASK:\"+hex(MASK))\n",
    "    # Get rid of left zeros\n",
    "    P = (int_hash & MASK)>>n_shift\n",
    "    dbg (\"Truncated hash (hex) : \"+hex(P))\n",
    "    dbg (\"Truncated hash (int) : \"+str(P))\n",
    "    # Return only the lower 31 bits\n",
    "    LSB_31 = P & 0x7FFFFFFF\n",
    "    dbg (\"Truncated hash LSB 31 bits (hex) : \"+hex(LSB_31))\n",
    "    dbg (\"Truncated hash LSB 31 bits (int) : \"+str(LSB_31))\n",
    "    return LSB_31"
   ]
  },
  {
   "cell_type": "code",
   "execution_count": 7,
   "metadata": {},
   "outputs": [],
   "source": [
    "# function wrapper to run the HOTP algorithm multiple times for different counter value\n",
    "def generate_HOTP(counter):\n",
    "    C = get_counter(counter)\n",
    "    \n",
    "    dbg(\"Counter: \"+str(counter)+\"\\nCounter (bytes) :\")\n",
    "    dbg(C)\n",
    "\n",
    "    hmac_hash = my_hmac(key,C)\n",
    "    dbg(\"HMAC Hash (hex):\\n\" + hmac_hash.hex())\n",
    "\n",
    "    trc_hash = dynamic_truncate(hmac_hash)\n",
    "    \n",
    "    # Adjust HOTP length\n",
    "    HOTP = \"{:06}\".format(trc_hash % (10**Digits))\n",
    "    \n",
    "    dbg(\"\\nHOPT : \"+HOTP)\n",
    "    dbg(\"----------------------\")\n",
    "    return HOTP"
   ]
  },
  {
   "cell_type": "code",
   "execution_count": 8,
   "metadata": {},
   "outputs": [
    {
     "name": "stdout",
     "output_type": "stream",
     "text": [
      "Counter: 0\n",
      "Counter (bytes) :\n",
      "b'\\x00\\x00\\x00\\x00\\x00\\x00\\x00\\x00'\n",
      "HMAC Hash (hex):\n",
      "5a9b22b8161f637bb9977fc56f56f921a93029b1\n",
      "\n",
      "offset = Lower 4 bits of hash = 0x1 = 1\n",
      "\n",
      "Truncate MASK:0xffffffff000000000000000000000000000000\n",
      "Truncated hash (hex) : 0x9b22b816\n",
      "Truncated hash (int) : 2602743830\n",
      "Truncated hash LSB 31 bits (hex) : 0x1b22b816\n",
      "Truncated hash LSB 31 bits (int) : 455260182\n",
      "\n",
      "HOPT : 260182\n",
      "----------------------\n",
      "Counter: 1\n",
      "Counter (bytes) :\n",
      "b'\\x00\\x00\\x00\\x00\\x00\\x00\\x00\\x01'\n",
      "HMAC Hash (hex):\n",
      "7117ccfcfc54a98514d8774fb1b8fbe0624e330f\n",
      "\n",
      "offset = Lower 4 bits of hash = 0xf = 15\n",
      "\n",
      "Truncate MASK:0xffffffff00\n",
      "Truncated hash (hex) : 0xe0624e33\n",
      "Truncated hash (int) : 3764538931\n",
      "Truncated hash LSB 31 bits (hex) : 0x60624e33\n",
      "Truncated hash LSB 31 bits (int) : 1617055283\n",
      "\n",
      "HOPT : 055283\n",
      "----------------------\n",
      "Counter: 2\n",
      "Counter (bytes) :\n",
      "b'\\x00\\x00\\x00\\x00\\x00\\x00\\x00\\x02'\n",
      "HMAC Hash (hex):\n",
      "364568c345d0c5935bfd7016adfe16c51437f207\n",
      "\n",
      "offset = Lower 4 bits of hash = 0x7 = 7\n",
      "\n",
      "Truncate MASK:0xffffffff000000000000000000\n",
      "Truncated hash (hex) : 0x935bfd70\n",
      "Truncated hash (int) : 2472279408\n",
      "Truncated hash LSB 31 bits (hex) : 0x135bfd70\n",
      "Truncated hash LSB 31 bits (int) : 324795760\n",
      "\n",
      "HOPT : 795760\n",
      "----------------------\n",
      "Counter: 3\n",
      "Counter (bytes) :\n",
      "b'\\x00\\x00\\x00\\x00\\x00\\x00\\x00\\x03'\n",
      "HMAC Hash (hex):\n",
      "b042e13cbfc11492ebb42e052807c22242fe67d6\n",
      "\n",
      "offset = Lower 4 bits of hash = 0x6 = 6\n",
      "\n",
      "Truncate MASK:0xffffffff00000000000000000000\n",
      "Truncated hash (hex) : 0x1492ebb4\n",
      "Truncated hash (int) : 345172916\n",
      "Truncated hash LSB 31 bits (hex) : 0x1492ebb4\n",
      "Truncated hash LSB 31 bits (int) : 345172916\n",
      "\n",
      "HOPT : 172916\n",
      "----------------------\n",
      "Counter: 4\n",
      "Counter (bytes) :\n",
      "b'\\x00\\x00\\x00\\x00\\x00\\x00\\x00\\x04'\n",
      "HMAC Hash (hex):\n",
      "dcc0beff452790e96b40e12457708ac62e45bc0f\n",
      "\n",
      "offset = Lower 4 bits of hash = 0xf = 15\n",
      "\n",
      "Truncate MASK:0xffffffff00\n",
      "Truncated hash (hex) : 0xc62e45bc\n",
      "Truncated hash (int) : 3324921276\n",
      "Truncated hash LSB 31 bits (hex) : 0x462e45bc\n",
      "Truncated hash LSB 31 bits (int) : 1177437628\n",
      "\n",
      "HOPT : 437628\n",
      "----------------------\n",
      "Counter: 5\n",
      "Counter (bytes) :\n",
      "b'\\x00\\x00\\x00\\x00\\x00\\x00\\x00\\x05'\n",
      "HMAC Hash (hex):\n",
      "20408be54fa07e13b4199bd20824fc3d7f2bb8c6\n",
      "\n",
      "offset = Lower 4 bits of hash = 0x6 = 6\n",
      "\n",
      "Truncate MASK:0xffffffff00000000000000000000\n",
      "Truncated hash (hex) : 0x7e13b419\n",
      "Truncated hash (int) : 2115220505\n",
      "Truncated hash LSB 31 bits (hex) : 0x7e13b419\n",
      "Truncated hash LSB 31 bits (int) : 2115220505\n",
      "\n",
      "HOPT : 220505\n",
      "----------------------\n",
      "Counter: 6\n",
      "Counter (bytes) :\n",
      "b'\\x00\\x00\\x00\\x00\\x00\\x00\\x00\\x06'\n",
      "HMAC Hash (hex):\n",
      "211e451d65cda9e9798b9d2e5491a21a1809f631\n",
      "\n",
      "offset = Lower 4 bits of hash = 0x1 = 1\n",
      "\n",
      "Truncate MASK:0xffffffff000000000000000000000000000000\n",
      "Truncated hash (hex) : 0x1e451d65\n",
      "Truncated hash (int) : 507845989\n",
      "Truncated hash LSB 31 bits (hex) : 0x1e451d65\n",
      "Truncated hash LSB 31 bits (int) : 507845989\n",
      "\n",
      "HOPT : 845989\n",
      "----------------------\n",
      "Counter: 7\n",
      "Counter (bytes) :\n",
      "b'\\x00\\x00\\x00\\x00\\x00\\x00\\x00\\x07'\n",
      "HMAC Hash (hex):\n",
      "e732d390834678a4ef9260ada0f5c427d7c8cd45\n",
      "\n",
      "offset = Lower 4 bits of hash = 0x5 = 5\n",
      "\n",
      "Truncate MASK:0xffffffff0000000000000000000000\n",
      "Truncated hash (hex) : 0x4678a4ef\n",
      "Truncated hash (int) : 1182311663\n",
      "Truncated hash LSB 31 bits (hex) : 0x4678a4ef\n",
      "Truncated hash LSB 31 bits (int) : 1182311663\n",
      "\n",
      "HOPT : 311663\n",
      "----------------------\n",
      "Counter: 8\n",
      "Counter (bytes) :\n",
      "b'\\x00\\x00\\x00\\x00\\x00\\x00\\x00\\x08'\n",
      "HMAC Hash (hex):\n",
      "0686d928c59cfc444c2c0fb6202f65f4e8644bf6\n",
      "\n",
      "offset = Lower 4 bits of hash = 0x6 = 6\n",
      "\n",
      "Truncate MASK:0xffffffff00000000000000000000\n",
      "Truncated hash (hex) : 0xfc444c2c\n",
      "Truncated hash (int) : 4232334380\n",
      "Truncated hash LSB 31 bits (hex) : 0x7c444c2c\n",
      "Truncated hash LSB 31 bits (int) : 2084850732\n",
      "\n",
      "HOPT : 850732\n",
      "----------------------\n",
      "Counter: 9\n",
      "Counter (bytes) :\n",
      "b'\\x00\\x00\\x00\\x00\\x00\\x00\\x00\\t'\n",
      "HMAC Hash (hex):\n",
      "16f21adb350bce2b0443e9088a5bcbb0910156cb\n",
      "\n",
      "offset = Lower 4 bits of hash = 0xb = 11\n",
      "\n",
      "Truncate MASK:0xffffffff0000000000\n",
      "Truncated hash (hex) : 0x88a5bcb\n",
      "Truncated hash (int) : 143285195\n",
      "Truncated hash LSB 31 bits (hex) : 0x88a5bcb\n",
      "Truncated hash LSB 31 bits (int) : 143285195\n",
      "\n",
      "HOPT : 285195\n",
      "----------------------\n"
     ]
    }
   ],
   "source": [
    "myHOTPs=[(generate_HOTP(x)) for x in range(10)]"
   ]
  },
  {
   "cell_type": "code",
   "execution_count": 9,
   "metadata": {},
   "outputs": [
    {
     "name": "stdout",
     "output_type": "stream",
     "text": [
      "['260182', '055283', '795760', '172916', '437628', '220505', '845989', '311663', '850732', '285195']\n"
     ]
    }
   ],
   "source": [
    "print(myHOTPs)"
   ]
  },
  {
   "cell_type": "markdown",
   "metadata": {},
   "source": [
    "## Compare with pyOTP Implementation"
   ]
  },
  {
   "cell_type": "code",
   "execution_count": 10,
   "metadata": {},
   "outputs": [],
   "source": [
    "# Python\n",
    "import pyotp"
   ]
  },
  {
   "cell_type": "code",
   "execution_count": 11,
   "metadata": {},
   "outputs": [],
   "source": [
    "hotp1=pyotp.HOTP(shared_secret)"
   ]
  },
  {
   "cell_type": "code",
   "execution_count": 12,
   "metadata": {},
   "outputs": [],
   "source": [
    "# Generate 0..9 HOTP codes\n",
    "pyHOTPs=[(hotp1.at(x)) for x in range(10)]\n"
   ]
  },
  {
   "cell_type": "code",
   "execution_count": 13,
   "metadata": {},
   "outputs": [
    {
     "name": "stdout",
     "output_type": "stream",
     "text": [
      "['260182', '055283', '795760', '172916', '437628', '220505', '845989', '311663', '850732', '285195']\n"
     ]
    }
   ],
   "source": [
    "print(pyHOTPs)"
   ]
  }
 ],
 "metadata": {
  "kernelspec": {
   "display_name": "Python [default]",
   "language": "python",
   "name": "python3"
  },
  "language_info": {
   "codemirror_mode": {
    "name": "ipython",
    "version": 3
   },
   "file_extension": ".py",
   "mimetype": "text/x-python",
   "name": "python",
   "nbconvert_exporter": "python",
   "pygments_lexer": "ipython3",
   "version": "3.6.5"
  }
 },
 "nbformat": 4,
 "nbformat_minor": 2
}
