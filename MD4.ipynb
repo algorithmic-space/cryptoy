{
 "cells": [
  {
   "cell_type": "markdown",
   "metadata": {},
   "source": [
    "# MD4\n",
    "** Implementation of the RFC-1320 MD4 Algorithm **\n",
    "\n",
    "*... in Python*\n",
    "\n",
    "This implementation of MD4 is for demonstrattion purposes to understand and see the MD4 algorithm in action with all intermediate steps.\n",
    "\n",
    "A graphical representation of the algorithm is as-\n",
    "\n",
    "![MD4](https://upload.wikimedia.org/wikipedia/commons/thumb/1/1a/MD4.svg/300px-MD4.svg.png)\n",
    "Image from Wikipedia"
   ]
  },
  {
   "cell_type": "markdown",
   "metadata": {},
   "source": [
    "### Define and Select Test Cases"
   ]
  },
  {
   "cell_type": "code",
   "execution_count": 1,
   "metadata": {},
   "outputs": [],
   "source": [
    "test_case=[[\"\",\"31d6cfe0d16ae931b73c59d7e0c089c0\"],\\\n",
    "           [\"a\",\"bde52cb31de33e46245e05fbdbd6fb24\"],\\\n",
    "           [\"abc\",\"a448017aaf21d8525fc10ae87aa6729d\"],\\\n",
    "           [\"message digest\",\"d9130a8164549fe818874806e1c7014b\"],\\\n",
    "           [\"abcdefghijklmnopqrstuvwxyz\",\"d79e1c308aa5bbcdeea8ed63df412da9\"],\\\n",
    "           [\"ABCDEFGHIJKLMNOPQRSTUVWXYZabcdefghijklmnopqrstuvwxyz0123456789\",\"043f8582f241db351ce627e153e7f0e4\"],\\\n",
    "           [\"12345678901234567890123456789012345678901234567890123456789012345678901234567890\",\"e33b4ddc9c38f2199c3e7b164fcc0536\"]]\n",
    "use_test_case = 1\n",
    "##\n",
    "message = test_case[use_test_case][0]\n",
    "ref_hash = test_case[use_test_case][1]"
   ]
  },
  {
   "cell_type": "markdown",
   "metadata": {},
   "source": [
    "### Step 1 - Append Padding Bits\n",
    "\n",
    "The messsage to be hashed is padded to have a length equal to 8 bytes {64 bits} less than being a multiple of 64 bytes {512 bits}. The padding step is performed even if the message length is already of desired length. The padding bit string used is `1` followed by `0` - `100...000`\n",
    "\n",
    "The message length is eventually 56 bytes {448 bits}, 120 bytes {960 bits}, 184 bytes {1472 bits}, 248 bytes {1984 bits} and so on."
   ]
  },
  {
   "cell_type": "code",
   "execution_count": 2,
   "metadata": {},
   "outputs": [
    {
     "name": "stdout",
     "output_type": "stream",
     "text": [
      "Message Length : 1 bytes {8 bits}\n"
     ]
    }
   ],
   "source": [
    "message_len = len(message)\n",
    "message_len_bits = message_len * 8\n",
    "print(\"Message Length : \" + str(message_len) + \" bytes {\" + str(message_len_bits) + \" bits}\")"
   ]
  },
  {
   "cell_type": "code",
   "execution_count": 3,
   "metadata": {},
   "outputs": [],
   "source": [
    "# Encode string to bytes\n",
    "message_b = message.encode('utf-8')"
   ]
  },
  {
   "cell_type": "code",
   "execution_count": 4,
   "metadata": {},
   "outputs": [
    {
     "name": "stdout",
     "output_type": "stream",
     "text": [
      "Padding Length : 55 bytes {440 bits}\n"
     ]
    }
   ],
   "source": [
    "# Calculate padding length\n",
    "padding_len=56-message_len%64\n",
    "padding_len=64 if (padding_len==0) else padding_len\n",
    "print(\"Padding Length : \" + str(padding_len) + \" bytes {\" + str(padding_len * 8) + \" bits}\")"
   ]
  },
  {
   "cell_type": "code",
   "execution_count": 5,
   "metadata": {},
   "outputs": [
    {
     "name": "stdout",
     "output_type": "stream",
     "text": [
      "Padded Message :\n",
      "b'a\\x80\\x00\\x00\\x00\\x00\\x00\\x00\\x00\\x00\\x00\\x00\\x00\\x00\\x00\\x00\\x00\\x00\\x00\\x00\\x00\\x00\\x00\\x00\\x00\\x00\\x00\\x00\\x00\\x00\\x00\\x00\\x00\\x00\\x00\\x00\\x00\\x00\\x00\\x00\\x00\\x00\\x00\\x00\\x00\\x00\\x00\\x00\\x00\\x00\\x00\\x00\\x00\\x00\\x00\\x00'\n",
      "\n",
      "length(paddedMessage)      : 56 bytes {448 bits}\n",
      "length(paddedMessage) % 64 : 56 bytes {448 bits}\n"
     ]
    }
   ],
   "source": [
    "# Display Padded Message, length and calculation.\n",
    "message_mod448 = message_b + b'\\x80' + b'\\x00' * (padding_len-1)\n",
    "print(\"Padded Message :\\n\"+str(message_mod448))\n",
    "print(\"\\nlength(paddedMessage)      : \"+str(len(message_mod448))+\" bytes {\"+str(len(message_mod448*8))+\" bits}\\nlength(paddedMessage) % 64 : \"+str(len(message_mod448)%64)+\" bytes {\"+str((len(message_mod448)%64) * 8)+\" bits}\" )"
   ]
  },
  {
   "cell_type": "markdown",
   "metadata": {},
   "source": [
    "### Step 2 - Append Length\n",
    "\n",
    "The bit length of the original message is appened to this _64 bits short of %512 bit_ message. This bit length is appeneded as an 8 byte {64 bits} little endian integer.\n",
    "\n",
    "So, a message of length 14 bytes (_try test case # 3_) would have a bit length of 112 bits and the appended 64 bit little endian bit length would be `0x7000000000000000` (as hex) or `b'p\\x00\\x00\\x00\\x00\\x00\\x00\\x00'` (as a byte string). If the message length is $> 2^{64}$ bits, only the lower 64 bits are used for padding."
   ]
  },
  {
   "cell_type": "code",
   "execution_count": 6,
   "metadata": {},
   "outputs": [
    {
     "name": "stdout",
     "output_type": "stream",
     "text": [
      "LSB64(len(unPaddedMessage)) : b'\\x08\\x00\\x00\\x00\\x00\\x00\\x00\\x00'\n",
      "length( paddedMessage | LSB64(len(unPaddedMessage)) ) : 64 bytes {512 bits}\n",
      "\n",
      "Padded Message | LSB64(len(unPaddedMessage)) :\n",
      "b'a\\x80\\x00\\x00\\x00\\x00\\x00\\x00\\x00\\x00\\x00\\x00\\x00\\x00\\x00\\x00\\x00\\x00\\x00\\x00\\x00\\x00\\x00\\x00\\x00\\x00\\x00\\x00\\x00\\x00\\x00\\x00\\x00\\x00\\x00\\x00\\x00\\x00\\x00\\x00\\x00\\x00\\x00\\x00\\x00\\x00\\x00\\x00\\x00\\x00\\x00\\x00\\x00\\x00\\x00\\x00\\x08\\x00\\x00\\x00\\x00\\x00\\x00\\x00'\n"
     ]
    }
   ],
   "source": [
    "# Append Length\n",
    "processed_message=message_mod448+(message_len_bits%2**64).to_bytes(8,byteorder='little')\n",
    "print(\"LSB64(len(unPaddedMessage)) : \"+str((message_len_bits%2**64).to_bytes(8,byteorder='little')))\n",
    "print(\"length( paddedMessage | LSB64(len(unPaddedMessage)) ) : \"+str(len(processed_message))+\" bytes {\"+str(len(processed_message)*8)+\" bits}\")\n",
    "print(\"\\nPadded Message | LSB64(len(unPaddedMessage)) :\\n\"+str(processed_message))"
   ]
  },
  {
   "cell_type": "markdown",
   "metadata": {},
   "source": [
    "### Step 3 - Initilize MD Buffer"
   ]
  },
  {
   "cell_type": "code",
   "execution_count": 7,
   "metadata": {},
   "outputs": [],
   "source": [
    "A = 0x67452301\n",
    "B = 0xEFCDAB89\n",
    "C = 0x98BADCFE\n",
    "D = 0x10325476"
   ]
  },
  {
   "cell_type": "markdown",
   "metadata": {},
   "source": [
    "### Step 4 - Process Message in 16-Word Blocks"
   ]
  },
  {
   "cell_type": "code",
   "execution_count": 8,
   "metadata": {},
   "outputs": [],
   "source": [
    "# Auxulary functions that take in 3x 32bit words and return 1x32bit word.\n",
    "\n",
    "def F(X, Y, Z):\n",
    "    return ((X&Y) | ((~X) & Z))\n",
    "\n",
    "def G(X, Y, Z):\n",
    "    return ((X&Y) | (X&Z) |(Y&Z))\n",
    "\n",
    "def H(X, Y, Z):\n",
    "    return (X^Y^Z)"
   ]
  },
  {
   "cell_type": "code",
   "execution_count": 9,
   "metadata": {},
   "outputs": [],
   "source": [
    "# Rotate Left\n",
    "def rotl(x,s):\n",
    "    return ( (x<<s) | x>>(32-s))"
   ]
  },
  {
   "cell_type": "code",
   "execution_count": 10,
   "metadata": {},
   "outputs": [
    {
     "name": "stdout",
     "output_type": "stream",
     "text": [
      "[3, 7, 11, 19, 3, 7, 11, 19, 3, 7, 11, 19, 3, 7, 11, 19, 3, 5, 9, 13, 3, 5, 9, 13, 3, 5, 9, 13, 3, 5, 9, 13, 3, 9, 11, 15, 3, 9, 11, 15, 3, 9, 11, 15, 3, 9, 11, 15]\n"
     ]
    }
   ],
   "source": [
    "# Shift Table\n",
    "Round_shifts=[3,7,11,19]*4+[3,5,9,13]*4+[3,9,11,15]*4\n",
    "print(Round_shifts)\n",
    "\n",
    "# K table (to use a sub-string of the message)\n",
    "R1_k = [0, 1, 2, 3, 4, 5, 6, 7, 8, 9, 10, 11, 12, 13, 14, 15]\n",
    "R2_k = [0, 4, 8, 12, 1, 5, 9, 13, 2, 6, 10, 14, 3, 7, 11, 15]\n",
    "R3_k = [0, 8, 4, 12, 2, 10, 6, 14, 1, 9, 5, 13, 3, 11, 7, 15]"
   ]
  },
  {
   "cell_type": "code",
   "execution_count": 11,
   "metadata": {},
   "outputs": [],
   "source": [
    "\n",
    "def bytereverse(num32):\n",
    "    rev_byte=0;\n",
    "    for i in range(0,16):\n",
    "        #print(hex(num32)+\" \"+hex(rev_byte))\n",
    "        rev_byte = rev_byte << 8\n",
    "        \n",
    "        low_order_byte = num32 & 0xFF\n",
    "        rev_byte = rev_byte | low_order_byte\n",
    "        \n",
    "        num32 = num32 >> 8\n",
    "    return rev_byte"
   ]
  },
  {
   "cell_type": "code",
   "execution_count": 12,
   "metadata": {},
   "outputs": [],
   "source": [
    "## Round Functions\n",
    "def round1(a, b, c, d, X, k, s):\n",
    "    Xk = int.from_bytes(X[4*k:4*k+4],byteorder='little')\n",
    "    #print(hex(F(b,c,d)))\n",
    "    FN = F(b,c,d)\n",
    "    a = (a + FN + Xk) & 0xFFFFFFFF\n",
    "    a = ((rotl(a , s)& 0xFFFFFFFF))\n",
    "    round_output(1,k,s,FN)\n",
    "    return a \n",
    "\n",
    "def round2(a, b, c, d, X, k, s):\n",
    "    Xk = int.from_bytes(X[4*k:4*k+4],byteorder='little')\n",
    "    #print(hex(G(b,c,d)))\n",
    "    FN = G(b,c,d)\n",
    "    a = (a + FN + Xk + 0x5A827999) & 0xFFFFFFFF\n",
    "    a = ((rotl(a , s)& 0xFFFFFFFF))\n",
    "    round_output(2,k,s,FN)\n",
    "    return a \n",
    "\n",
    "def round3(a, b, c, d, X, k, s):\n",
    "    Xk = int.from_bytes(X[4*k:4*k+4],byteorder='little')\n",
    "    #print(hex(H(b,c,d)))\n",
    "    FN = H(b,c,d)\n",
    "    a = (a + FN + Xk + 0x6ED9EBA1) & 0xFFFFFFFF\n",
    "    a = ((rotl(a , s)& 0xFFFFFFFF))\n",
    "    round_output(3,k,s,FN)\n",
    "    return a\n",
    "\n",
    "def round_output(R,k,s,FN):\n",
    "    print(\"     R\"+str(R)+\" | K = \"+\"{:2d}\".format(k)+\" | s = \"+\"{:2d}\".format(s)+\" | {:9x}\".format(FN))\n",
    "    return None"
   ]
  },
  {
   "cell_type": "code",
   "execution_count": 13,
   "metadata": {
    "scrolled": true
   },
   "outputs": [
    {
     "name": "stdout",
     "output_type": "stream",
     "text": [
      "PROCESSING bytes 0...64\n",
      "\n",
      "Message chunk being processed :\n",
      "b'a\\x80\\x00\\x00\\x00\\x00\\x00\\x00\\x00\\x00\\x00\\x00\\x00\\x00\\x00\\x00\\x00\\x00\\x00\\x00\\x00\\x00\\x00\\x00\\x00\\x00\\x00\\x00\\x00\\x00\\x00\\x00\\x00\\x00\\x00\\x00\\x00\\x00\\x00\\x00\\x00\\x00\\x00\\x00\\x00\\x00\\x00\\x00\\x00\\x00\\x00\\x00\\x00\\x00\\x00\\x00\\x08\\x00\\x00\\x00\\x00\\x00\\x00\\x00' \n",
      "\n",
      "*** ROUND 1 ***\n",
      "     R1 | K =  0 | s =  3 |  98badcfe\n",
      "     R1 | K =  1 | s =  7 |  98bedffe\n",
      "     R1 | K =  2 | s = 11 |  87458389\n",
      "     R1 | K =  3 | s = 19 |      3a00\n",
      "     R1 | K =  4 | s =  3 |  50943810\n",
      "     R1 | K =  5 | s =  7 |   7457902\n",
      "     R1 | K =  6 | s = 11 |  84c7dc42\n",
      "     R1 | K =  7 | s = 19 |  e4c9c8be\n",
      "     R1 | K =  8 | s =  3 |  e6b9233f\n",
      "     R1 | K =  9 | s =  7 |  3968883e\n",
      "     R1 | K = 10 | s = 11 |  19719e4a\n",
      "     R1 | K = 11 | s = 19 |  83539e9b\n",
      "     R1 | K = 12 | s =  3 |  99145bd4\n",
      "     R1 | K = 13 | s =  7 |  7bb5c5e1\n",
      "     R1 | K = 14 | s = 11 |  3f6dcfef\n",
      "     R1 | K = 15 | s = 19 |  a7e3fe9f\n",
      "\n",
      "*** ROUND 2 ***\n",
      "     R2 | K =  0 | s =  3 |  2486388e\n",
      "     R2 | K =  4 | s =  5 |  301e18a9\n",
      "     R2 | K =  8 | s =  9 |  2459181f\n",
      "     R2 | K = 12 | s = 13 |  7359081e\n",
      "     R2 | K =  1 | s =  3 |  5359da1e\n",
      "     R2 | K =  5 | s =  5 |  5380df1e\n",
      "     R2 | K =  9 | s =  9 |  4b8adebf\n",
      "     R2 | K = 13 | s = 13 |  49b2ffb7\n",
      "     R2 | K =  2 | s =  3 |  4bb2debf\n",
      "     R2 | K =  6 | s =  5 |  4ef2beff\n",
      "     R2 | K = 10 | s =  9 |  eaf2beff\n",
      "     R2 | K = 14 | s = 13 |  7242befd\n",
      "     R2 | K =  3 | s =  3 |  d273b2f6\n",
      "     R2 | K =  7 | s =  5 |  58c39675\n",
      "     R2 | K = 11 | s =  9 |  dfc770e6\n",
      "     R2 | K = 15 | s = 13 |  3f076905\n",
      "\n",
      "*** ROUND 3 ***\n",
      "     R3 | K =  0 | s =  3 |  eebec610\n",
      "     R3 | K =  8 | s =  9 |  82b5d427\n",
      "     R3 | K =  4 | s = 11 |  97f45863\n",
      "     R3 | K = 12 | s = 15 |  6e2e1f62\n",
      "     R3 | K =  2 | s =  3 |  f9e34b02\n",
      "     R3 | K = 10 | s =  9 |  d9acbd51\n",
      "     R3 | K =  6 | s = 11 |  c058f3d2\n",
      "     R3 | K = 14 | s = 15 |  51d9d9db\n",
      "     R3 | K =  1 | s =  3 |  39640c67\n",
      "     R3 | K =  9 | s =  9 |  99a2d33c\n",
      "     R3 | K =  5 | s = 11 |  76610bde\n",
      "     R3 | K = 13 | s = 15 |  18fb1374\n",
      "     R3 | K =  3 | s =  3 |  e848b460\n",
      "     R3 | K = 11 | s =  9 |  9124a3ea\n",
      "     R3 | K =  7 | s = 11 |  9dc7bf9b\n",
      "     R3 | K = 15 | s = 15 |  3d64c1ff\n",
      "\n",
      "*** MD Buffers after processing chunk ***\n",
      "[D C B A] = [24fbd6db fb055e24 463ee31d b32ce5bd]\n",
      "\n",
      "\n"
     ]
    }
   ],
   "source": [
    "# Loop though the various 512 bit blocks of a long message.\n",
    "for i in range(0,len(processed_message),64):\n",
    "    print(\"PROCESSING bytes \"+str(i)+\"...\"+str(i+64))\n",
    "    X  = processed_message[i:i+64]\n",
    "    print(\"\\nMessage chunk being processed :\\n\"+str(X)+\" \\n\")\n",
    "    AA = A\n",
    "    BB = B\n",
    "    CC = C\n",
    "    DD = D\n",
    "    \n",
    "    #round 1\n",
    "    print(\"*** ROUND 1 ***\")\n",
    "    A = round1(A, B, C, D, X, R1_k[0], Round_shifts[0])\n",
    "    D = round1(D, A, B, C, X, R1_k[1], Round_shifts[1])\n",
    "    C = round1(C, D, A, B, X, R1_k[2], Round_shifts[2])\n",
    "    B = round1(B, C, D, A, X, R1_k[3], Round_shifts[3])\n",
    "    \n",
    "    A = round1(A, B, C, D, X, R1_k[4], Round_shifts[4])\n",
    "    D = round1(D, A, B, C, X, R1_k[5], Round_shifts[5])\n",
    "    C = round1(C, D, A, B, X, R1_k[6], Round_shifts[6])\n",
    "    B = round1(B, C, D, A, X, R1_k[7], Round_shifts[7])\n",
    "    \n",
    "    A = round1(A, B, C, D, X, R1_k[8], Round_shifts[8])\n",
    "    D = round1(D, A, B, C, X, R1_k[9], Round_shifts[9])\n",
    "    C = round1(C, D, A, B, X, R1_k[10], Round_shifts[10])\n",
    "    B = round1(B, C, D, A, X, R1_k[11], Round_shifts[11])\n",
    "    \n",
    "    A = round1(A, B, C, D, X, R1_k[12], Round_shifts[12])\n",
    "    D = round1(D, A, B, C, X, R1_k[13], Round_shifts[13])\n",
    "    C = round1(C, D, A, B, X, R1_k[14], Round_shifts[14])\n",
    "    B = round1(B, C, D, A, X, R1_k[15], Round_shifts[15])\n",
    "    \n",
    "    print(\"\\n*** ROUND 2 ***\")\n",
    "    A = round2(A, B, C, D, X, R2_k[0], Round_shifts[16])\n",
    "    D = round2(D, A, B, C, X, R2_k[1], Round_shifts[17])\n",
    "    C = round2(C, D, A, B, X, R2_k[2], Round_shifts[18])\n",
    "    B = round2(B, C, D, A, X, R2_k[3], Round_shifts[19])\n",
    "    \n",
    "    A = round2(A, B, C, D, X, R2_k[4], Round_shifts[20])\n",
    "    D = round2(D, A, B, C, X, R2_k[5], Round_shifts[21])\n",
    "    C = round2(C, D, A, B, X, R2_k[6], Round_shifts[22])\n",
    "    B = round2(B, C, D, A, X, R2_k[7], Round_shifts[23])\n",
    "    \n",
    "    A = round2(A, B, C, D, X, R2_k[8], Round_shifts[24])\n",
    "    D = round2(D, A, B, C, X, R2_k[9], Round_shifts[25])\n",
    "    C = round2(C, D, A, B, X, R2_k[10], Round_shifts[26])\n",
    "    B = round2(B, C, D, A, X, R2_k[11], Round_shifts[27])\n",
    "    \n",
    "    A = round2(A, B, C, D, X, R2_k[12], Round_shifts[28])\n",
    "    D = round2(D, A, B, C, X, R2_k[13], Round_shifts[29])\n",
    "    C = round2(C, D, A, B, X, R2_k[14], Round_shifts[30])\n",
    "    B = round2(B, C, D, A, X, R2_k[15], Round_shifts[31])\n",
    "    \n",
    "    print(\"\\n*** ROUND 3 ***\")\n",
    "    A = round3(A, B, C, D, X, R3_k[0], Round_shifts[32])\n",
    "    D = round3(D, A, B, C, X, R3_k[1], Round_shifts[33])\n",
    "    C = round3(C, D, A, B, X, R3_k[2], Round_shifts[34])\n",
    "    B = round3(B, C, D, A, X, R3_k[3], Round_shifts[35])\n",
    "    \n",
    "    A = round3(A, B, C, D, X, R3_k[4], Round_shifts[36])\n",
    "    D = round3(D, A, B, C, X, R3_k[5], Round_shifts[37])\n",
    "    C = round3(C, D, A, B, X, R3_k[6], Round_shifts[38])\n",
    "    B = round3(B, C, D, A, X, R3_k[7], Round_shifts[39])\n",
    "    \n",
    "    A = round3(A, B, C, D, X, R3_k[8], Round_shifts[40])\n",
    "    D = round3(D, A, B, C, X, R3_k[9], Round_shifts[41])\n",
    "    C = round3(C, D, A, B, X, R3_k[10], Round_shifts[42])\n",
    "    B = round3(B, C, D, A, X, R3_k[11], Round_shifts[43])\n",
    "    \n",
    "    A = round3(A, B, C, D, X, R3_k[12], Round_shifts[44])\n",
    "    D = round3(D, A, B, C, X, R3_k[13], Round_shifts[45])\n",
    "    C = round3(C, D, A, B, X, R3_k[14], Round_shifts[46])\n",
    "    B = round3(B, C, D, A, X, R3_k[15], Round_shifts[47])\n",
    "    \n",
    "    # Update the MD buffer after processing each 512 bit block.\n",
    "    A = (A + AA) & 0xFFFFFFFF\n",
    "    B = (B + BB) & 0xFFFFFFFF\n",
    "    C = (C + CC) & 0xFFFFFFFF\n",
    "    D = (D + DD) & 0xFFFFFFFF\n",
    "    \n",
    "    # Display Updated MD Buffers\n",
    "    print(\"\\n*** MD Buffers after processing chunk ***\\n[D C B A] = \"+\"[{:8x} {:8x} {:8x} {:8x}]\".format(D,C,B,A)+\"\\n\\n\")"
   ]
  },
  {
   "cell_type": "code",
   "execution_count": 14,
   "metadata": {},
   "outputs": [
    {
     "name": "stdout",
     "output_type": "stream",
     "text": [
      "OUTPUT      : 0xbde52cb31de33e46245e05fbdbd6fb24\n",
      "REF. Hash   : 0xbde52cb31de33e46245e05fbdbd6fb24\n"
     ]
    }
   ],
   "source": [
    "# Compute output hash from the MD buffers.\n",
    "output_int = D<<96 | C <<64 | B << 32 | A\n",
    "\n",
    "# The MD4 hash starts with the lowest order byte of A ... highest order byte of D\n",
    "print(\"OUTPUT      : \"+hex(bytereverse(output_int)))\n",
    "print(\"REF. Hash   : 0x\"+test_case[use_test_case][1])"
   ]
  },
  {
   "cell_type": "markdown",
   "metadata": {},
   "source": [
    "## Compare with Python's `hashlib`"
   ]
  },
  {
   "cell_type": "code",
   "execution_count": 15,
   "metadata": {},
   "outputs": [],
   "source": [
    "import hashlib"
   ]
  },
  {
   "cell_type": "code",
   "execution_count": 16,
   "metadata": {},
   "outputs": [
    {
     "name": "stdout",
     "output_type": "stream",
     "text": [
      "Hashlib MD4 : 0xbde52cb31de33e46245e05fbdbd6fb24\n"
     ]
    }
   ],
   "source": [
    "H = hashlib.new('md4')\n",
    "H.update(message_b)\n",
    "mdhash=H.hexdigest()\n",
    "print(\"Hashlib MD4 : 0x\"+md4hash)"
   ]
  },
  {
   "cell_type": "markdown",
   "metadata": {},
   "source": [
    "### References\n",
    "\n",
    "1. [RFC-1320](https://tools.ietf.org/html/rfc1320)\n",
    "2. [Wikipedia](https://en.wikipedia.org/wiki/MD4)\n",
    "3. [Rosetta Code](https://rosettacode.org/wiki/MD4#Python)"
   ]
  }
 ],
 "metadata": {
  "kernelspec": {
   "display_name": "Python [conda env:anaconda3]",
   "language": "python",
   "name": "conda-env-anaconda3-py"
  },
  "language_info": {
   "codemirror_mode": {
    "name": "ipython",
    "version": 3
   },
   "file_extension": ".py",
   "mimetype": "text/x-python",
   "name": "python",
   "nbconvert_exporter": "python",
   "pygments_lexer": "ipython3",
   "version": "3.6.5"
  }
 },
 "nbformat": 4,
 "nbformat_minor": 2
}
