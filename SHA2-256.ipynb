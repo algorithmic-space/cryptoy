{
 "cells": [
  {
   "cell_type": "markdown",
   "metadata": {},
   "source": [
    "# SHA2-256\n",
    "** Implementation of the Secure Hash Algorithm 2 **\n",
    "\n",
    "*... in Python*\n",
    "\n",
    "[SHA2](specs/FIPS-180-2_SHA-2_%282002+2004%29.pdf)"
   ]
  },
  {
   "cell_type": "markdown",
   "metadata": {},
   "source": [
    "### Define and Select Test Cases"
   ]
  },
  {
   "cell_type": "code",
   "execution_count": 1,
   "metadata": {},
   "outputs": [],
   "source": [
    "# [PlainText, SHA2Digest]\n",
    "test_case=[[\"\",\"???\"],\\\n",
    "           [\"a\",\"???\"],\\\n",
    "           [\"abc\",\"???\"],\\\n",
    "           [\"abcdbcdecdefdefgefghfghighijhijkijkljklmklmnlmnomnopnopq\",\"???\"],\\\n",
    "           [\"abcdefghbcdefghicdefghijdefghijkefghijklfghijklmghijklmnhijklmnoijklmnopjklmnopqklmnopqrlmnopqrsmnopqrstnopqrstu\",\"???\"]]\n",
    "use_test_case = 3\n",
    "\n",
    "# Assign test case to variables.\n",
    "message = test_case[use_test_case][0]\n",
    "ref_hash = test_case[use_test_case][1]"
   ]
  },
  {
   "cell_type": "markdown",
   "metadata": {},
   "source": [
    "### Step 1 - Append Padding Bits\n",
    "\n",
    "The message to be hashed is padded to have a length equal to 8 bytes {64 bits} less than being a multiple of 64 bytes {512 bits}. The padding step is performed even if the message length is already of desired length. The padding bit string used is `1` followed by `0` - `100...000`\n",
    "\n",
    "The padded message lengths is eventually 56 bytes {448 bits}, 120 bytes {960 bits}, 184 bytes {1472 bits}, 248 bytes {1984 bits} and so on.\n",
    "\n",
    "The padding method is similar to MD4."
   ]
  },
  {
   "cell_type": "code",
   "execution_count": 2,
   "metadata": {},
   "outputs": [
    {
     "name": "stdout",
     "output_type": "stream",
     "text": [
      "Message Length : 56 bytes {448 bits}\n"
     ]
    }
   ],
   "source": [
    "message_len = len(message)\n",
    "message_len_bits = message_len * 8\n",
    "print(\"Message Length : \" + str(message_len) + \" bytes {\" + str(message_len_bits) + \" bits}\")"
   ]
  },
  {
   "cell_type": "code",
   "execution_count": 3,
   "metadata": {},
   "outputs": [],
   "source": [
    "# Encode string to bytes\n",
    "message_b = message.encode('utf-8')"
   ]
  },
  {
   "cell_type": "code",
   "execution_count": 4,
   "metadata": {},
   "outputs": [
    {
     "name": "stdout",
     "output_type": "stream",
     "text": [
      "Padding Length : 64 bytes {512 bits}\n"
     ]
    }
   ],
   "source": [
    "# Calculate padding length\n",
    "padding_len=56-message_len%64\n",
    "padding_len=64 if (padding_len==0) else padding_len\n",
    "print(\"Padding Length : \" + str(padding_len) + \" bytes {\" + str(padding_len * 8) + \" bits}\")"
   ]
  },
  {
   "cell_type": "code",
   "execution_count": 5,
   "metadata": {},
   "outputs": [
    {
     "name": "stdout",
     "output_type": "stream",
     "text": [
      "Padded Message :\n",
      "b'abcdbcdecdefdefgefghfghighijhijkijkljklmklmnlmnomnopnopq\\x80\\x00\\x00\\x00\\x00\\x00\\x00\\x00\\x00\\x00\\x00\\x00\\x00\\x00\\x00\\x00\\x00\\x00\\x00\\x00\\x00\\x00\\x00\\x00\\x00\\x00\\x00\\x00\\x00\\x00\\x00\\x00\\x00\\x00\\x00\\x00\\x00\\x00\\x00\\x00\\x00\\x00\\x00\\x00\\x00\\x00\\x00\\x00\\x00\\x00\\x00\\x00\\x00\\x00\\x00\\x00\\x00\\x00\\x00\\x00\\x00\\x00\\x00\\x00'\n",
      "\n",
      "length(paddedMessage)      : 120 bytes {960 bits}\n",
      "length(paddedMessage) % 64 : 56 bytes {448 bits}\n"
     ]
    }
   ],
   "source": [
    "# Display Padded Message, length and calculation.\n",
    "message_mod448 = message_b + b'\\x80' + b'\\x00' * (padding_len-1)\n",
    "print(\"Padded Message :\\n\"+str(message_mod448))\n",
    "print(\"\\nlength(paddedMessage)      : \"+str(len(message_mod448))+\" bytes {\"+str(len(message_mod448*8))+\" bits}\\nlength(paddedMessage) % 64 : \"+str(len(message_mod448)%64)+\" bytes {\"+str((len(message_mod448)%64) * 8)+\" bits}\" )"
   ]
  },
  {
   "cell_type": "markdown",
   "metadata": {},
   "source": [
    "### Step 2 - Append Length\n",
    "\n",
    "The bit length of the original message is appended to the padded message created in the previous step. This bit length is appended as an 8 byte {64 bits} little endian integer.\n",
    "\n",
    "A message of length 14 bytes (_try test case # 3_), would have a bit length of 112 bits and the appended 64 bit little endian bit length would be `0x00000000000001c0` (as hex) or `b'\\x00\\x00\\x00\\x00\\x00\\x00\\x01\\xc0'` (as a byte string).\n",
    "\n",
    "If the message length is $> 2^{64}$ bits, only the lower 64 bits are used for padding."
   ]
  },
  {
   "cell_type": "code",
   "execution_count": 6,
   "metadata": {},
   "outputs": [
    {
     "name": "stdout",
     "output_type": "stream",
     "text": [
      "LSB64(len(unPaddedMessage)) : b'\\x00\\x00\\x00\\x00\\x00\\x00\\x01\\xc0'\n",
      "length( paddedMessage | LSB64(len(unPaddedMessage)) ) : 128 bytes {1024 bits}\n",
      "\n",
      "Padded Message | LSB64(len(unPaddedMessage)) :\n",
      "b'abcdbcdecdefdefgefghfghighijhijkijkljklmklmnlmnomnopnopq\\x80\\x00\\x00\\x00\\x00\\x00\\x00\\x00\\x00\\x00\\x00\\x00\\x00\\x00\\x00\\x00\\x00\\x00\\x00\\x00\\x00\\x00\\x00\\x00\\x00\\x00\\x00\\x00\\x00\\x00\\x00\\x00\\x00\\x00\\x00\\x00\\x00\\x00\\x00\\x00\\x00\\x00\\x00\\x00\\x00\\x00\\x00\\x00\\x00\\x00\\x00\\x00\\x00\\x00\\x00\\x00\\x00\\x00\\x00\\x00\\x00\\x00\\x00\\x00\\x00\\x00\\x00\\x00\\x00\\x00\\x01\\xc0'\n"
     ]
    }
   ],
   "source": [
    "# Append Length\n",
    "processed_message=message_mod448+(message_len_bits%2**64).to_bytes(8,byteorder='big')\n",
    "print(\"LSB64(len(unPaddedMessage)) : \"+str((message_len_bits%2**64).to_bytes(8,byteorder='big')))\n",
    "print(\"length( paddedMessage | LSB64(len(unPaddedMessage)) ) : \"+str(len(processed_message))+\" bytes {\"+str(len(processed_message)*8)+\" bits}\")\n",
    "print(\"\\nPadded Message | LSB64(len(unPaddedMessage)) :\\n\"+str(processed_message))"
   ]
  },
  {
   "cell_type": "markdown",
   "metadata": {},
   "source": [
    "### Step 3 - Initialize Context\n",
    "\n",
    "These numbers are defined in the standards - RFC-4634, FIPS 180-2 (SHA2)"
   ]
  },
  {
   "cell_type": "code",
   "execution_count": 7,
   "metadata": {},
   "outputs": [],
   "source": [
    "h0 = 0x6a09e667\n",
    "h1 = 0xbb67ae85\n",
    "h2 = 0x3c6ef372\n",
    "h3 = 0xa54ff53a\n",
    "h4 = 0x510e527f\n",
    "h5 = 0x9b05688c\n",
    "h6 = 0x1f83d9ab\n",
    "h7 = 0x5be0cd19"
   ]
  },
  {
   "cell_type": "markdown",
   "metadata": {},
   "source": [
    "#### Define SHA2 Constants"
   ]
  },
  {
   "cell_type": "code",
   "execution_count": 8,
   "metadata": {},
   "outputs": [],
   "source": [
    "# SHA-256 Constant Table\n",
    "K = [0x428a2f98, 0x71374491, 0xb5c0fbcf, 0xe9b5dba5, 0x3956c25b, 0x59f111f1, 0x923f82a4, 0xab1c5ed5, 0xd807aa98, 0x12835b01, 0x243185be, 0x550c7dc3, 0x72be5d74, 0x80deb1fe, 0x9bdc06a7, 0xc19bf174, 0xe49b69c1, 0xefbe4786, 0x0fc19dc6, 0x240ca1cc, 0x2de92c6f, 0x4a7484aa, 0x5cb0a9dc, 0x76f988da, 0x983e5152, 0xa831c66d, 0xb00327c8, 0xbf597fc7, 0xc6e00bf3, 0xd5a79147, 0x06ca6351, 0x14292967, 0x27b70a85, 0x2e1b2138, 0x4d2c6dfc, 0x53380d13, 0x650a7354, 0x766a0abb, 0x81c2c92e, 0x92722c85, 0xa2bfe8a1, 0xa81a664b, 0xc24b8b70, 0xc76c51a3, 0xd192e819, 0xd6990624, 0xf40e3585, 0x106aa070, 0x19a4c116, 0x1e376c08, 0x2748774c, 0x34b0bcb5, 0x391c0cb3, 0x4ed8aa4a, 0x5b9cca4f, 0x682e6ff3, 0x748f82ee, 0x78a5636f, 0x84c87814, 0x8cc70208, 0x90befffa, 0xa4506ceb, 0xbef9a3f7, 0xc67178f2]"
   ]
  },
  {
   "cell_type": "markdown",
   "metadata": {},
   "source": [
    "#### Auxiliary functions\n",
    "\n",
    "Here are the python function correspondence to the symbolic function mentioned in the FIPS 180-2 document\n",
    "\n",
    "$\\Sigma^{256}_0$ = `SIGMA0()`\n",
    "\n",
    "$\\Sigma^{256}_1$ = `SIGMA1()`\n",
    "\n",
    "$\\sigma^{256}_0$ = `sig0()`\n",
    "\n",
    "$\\sigma^{256}_1$ = `sig1()`"
   ]
  },
  {
   "cell_type": "code",
   "execution_count": 9,
   "metadata": {},
   "outputs": [],
   "source": [
    "# Rotate Right\n",
    "def rotr(x,s):\n",
    "    return ( (x>>s) | x<<(32-s))& 0xFFFFFFFF\n",
    "\n",
    "# Rotate Left\n",
    "def rotl(x,s):\n",
    "    return ( (x<<s) | x>>(32-s))& 0xFFFFFFFF\n",
    "\n",
    "# Shift Right\n",
    "def shr(x,s):\n",
    "    return (x>>s) & 0xFFFFFFFF\n",
    "\n",
    "def Ch(X, Y, Z):\n",
    "    return (X&Y)^(~X&Z)\n",
    "\n",
    "def Maj(X, Y, Z):\n",
    "    return (X&Y)^(X&Z)^(Y&Z)\n",
    "\n",
    "def SIGMA0(V):\n",
    "    return rotr(V,2)^rotr(V,13)^rotr(V,22)\n",
    "\n",
    "def SIGMA1(V):\n",
    "    return rotr(V,6)^rotr(V,11)^rotr(V,25)\n",
    "\n",
    "def sig0(V):\n",
    "    return rotr(V,7)^rotr(V,18)^shr(V,3)\n",
    "\n",
    "def sig1(V):\n",
    "    return rotr(V,17)^rotr(V,19)^shr(V,10)"
   ]
  },
  {
   "cell_type": "code",
   "execution_count": 10,
   "metadata": {},
   "outputs": [],
   "source": [
    "# Split Message M to words 16x32-bit words\n",
    "def words(M):\n",
    "    word_list=[0]*64\n",
    "    for i in range (0,16):\n",
    "        word_list[i]=int.from_bytes(M[i*4:i*4+4],byteorder='big')\n",
    "    return word_list"
   ]
  },
  {
   "cell_type": "code",
   "execution_count": 11,
   "metadata": {},
   "outputs": [],
   "source": [
    "# Print functions\n",
    "def print_state(t,a,b,c,d,e,f,g,h):\n",
    "    print(\"{:2d} : {:08x} {:08x} {:08x} {:08x} {:08x} {:08x} {:08x} {:08x}\".format(t,a,b,c,d,e,f,g,h))"
   ]
  },
  {
   "cell_type": "markdown",
   "metadata": {},
   "source": [
    "### Step 4 - Process Message in 16-Word Blocks"
   ]
  },
  {
   "cell_type": "code",
   "execution_count": 12,
   "metadata": {
    "scrolled": true
   },
   "outputs": [
    {
     "name": "stdout",
     "output_type": "stream",
     "text": [
      "PROCESSING bytes 0...64\n",
      "\n",
      "Message chunk being processed :\n",
      "b'abcdbcdecdefdefgefghfghighijhijkijkljklmklmnlmnomnopnopq\\x80\\x00\\x00\\x00\\x00\\x00\\x00\\x00' \n",
      "\n",
      " t   A        B        C        D        E        F        G        H\n",
      " 0 : 5d6aebb1 6a09e667 bb67ae85 3c6ef372 fa2a4606 510e527f 9b05688c 1f83d9ab\n",
      " 1 : 2f2d5fcf 5d6aebb1 6a09e667 bb67ae85 4eb1cfce fa2a4606 510e527f 9b05688c\n",
      " 2 : 97651825 2f2d5fcf 5d6aebb1 6a09e667 62d5c49e 4eb1cfce fa2a4606 510e527f\n",
      " 3 : 4a8d64d5 97651825 2f2d5fcf 5d6aebb1 6494841b 62d5c49e 4eb1cfce fa2a4606\n",
      " 4 : f921c212 4a8d64d5 97651825 2f2d5fcf 05c4f88a 6494841b 62d5c49e 4eb1cfce\n",
      " 5 : 55c8ef48 f921c212 4a8d64d5 97651825 7ff91c94 05c4f88a 6494841b 62d5c49e\n",
      " 6 : 485835b7 55c8ef48 f921c212 4a8d64d5 39a5b2ca 7ff91c94 05c4f88a 6494841b\n",
      " 7 : d237e6db 485835b7 55c8ef48 f921c212 a401d211 39a5b2ca 7ff91c94 05c4f88a\n",
      " 8 : 359f2bce d237e6db 485835b7 55c8ef48 c09ffec4 a401d211 39a5b2ca 7ff91c94\n",
      " 9 : 3a474b2b 359f2bce d237e6db 485835b7 9037b3b8 c09ffec4 a401d211 39a5b2ca\n",
      "10 : b8e2b4cb 3a474b2b 359f2bce d237e6db 443ed29e 9037b3b8 c09ffec4 a401d211\n",
      "11 : 1762215c b8e2b4cb 3a474b2b 359f2bce ee1c97a8 443ed29e 9037b3b8 c09ffec4\n",
      "12 : 101a4861 1762215c b8e2b4cb 3a474b2b 839a0fc9 ee1c97a8 443ed29e 9037b3b8\n",
      "13 : d68e6457 101a4861 1762215c b8e2b4cb 9243f8af 839a0fc9 ee1c97a8 443ed29e\n",
      "14 : dd16cbb3 d68e6457 101a4861 1762215c 9162aded 9243f8af 839a0fc9 ee1c97a8\n",
      "15 : c3486194 dd16cbb3 d68e6457 101a4861 1496a54f 9162aded 9243f8af 839a0fc9\n",
      "16 : b9dcacb1 c3486194 dd16cbb3 d68e6457 d4f64250 1496a54f 9162aded 9243f8af\n",
      "17 : 046a193e b9dcacb1 c3486194 dd16cbb3 885370b6 d4f64250 1496a54f 9162aded\n",
      "18 : f402f058 046a193e b9dcacb1 c3486194 6f433549 885370b6 d4f64250 1496a54f\n",
      "19 : 2139187b f402f058 046a193e b9dcacb1 7c304206 6f433549 885370b6 d4f64250\n",
      "20 : d70ac17d 2139187b f402f058 046a193e 7cc6b262 7c304206 6f433549 885370b6\n",
      "21 : 1b2b66b8 d70ac17d 2139187b f402f058 d560b028 7cc6b262 7c304206 6f433549\n",
      "22 : ae2e2d4f 1b2b66b8 d70ac17d 2139187b f074fc95 d560b028 7cc6b262 7c304206\n",
      "23 : 59fce6b9 ae2e2d4f 1b2b66b8 d70ac17d a2c7d51d f074fc95 d560b028 7cc6b262\n",
      "24 : 4a885065 59fce6b9 ae2e2d4f 1b2b66b8 763597fb a2c7d51d f074fc95 d560b028\n",
      "25 : 573221da 4a885065 59fce6b9 ae2e2d4f 36e74eb4 763597fb a2c7d51d f074fc95\n",
      "26 : 128661da 573221da 4a885065 59fce6b9 1162d575 36e74eb4 763597fb a2c7d51d\n",
      "27 : 73f858af 128661da 573221da 4a885065 e77c797f 1162d575 36e74eb4 763597fb\n",
      "28 : 74bcf468 73f858af 128661da 573221da 72abaecd e77c797f 1162d575 36e74eb4\n",
      "29 : df7151a0 74bcf468 73f858af 128661da 7629c961 72abaecd e77c797f 1162d575\n",
      "30 : eb43f3ed df7151a0 74bcf468 73f858af 0635d880 7629c961 72abaecd e77c797f\n",
      "31 : 5581ab07 eb43f3ed df7151a0 74bcf468 df980085 0635d880 7629c961 72abaecd\n",
      "32 : 9fc905c8 5581ab07 eb43f3ed df7151a0 a94d2af1 df980085 0635d880 7629c961\n",
      "33 : 9ce5a62f 9fc905c8 5581ab07 eb43f3ed 6ef3b6bd a94d2af1 df980085 0635d880\n",
      "34 : 1df8e885 9ce5a62f 9fc905c8 5581ab07 2a9e048e 6ef3b6bd a94d2af1 df980085\n",
      "35 : 0786dce8 1df8e885 9ce5a62f 9fc905c8 de2a21d1 2a9e048e 6ef3b6bd a94d2af1\n",
      "36 : 2c55d3a6 0786dce8 1df8e885 9ce5a62f b067c1af de2a21d1 2a9e048e 6ef3b6bd\n",
      "37 : a985b4be 2c55d3a6 0786dce8 1df8e885 f72bf353 b067c1af de2a21d1 2a9e048e\n",
      "38 : 91ac9d5d a985b4be 2c55d3a6 0786dce8 68d8d590 f72bf353 b067c1af de2a21d1\n",
      "39 : 7e4d30b8 91ac9d5d a985b4be 2c55d3a6 9f5b9b6d 68d8d590 f72bf353 b067c1af\n",
      "40 : 7e056794 7e4d30b8 91ac9d5d a985b4be 423b26c0 9f5b9b6d 68d8d590 f72bf353\n",
      "41 : 508a16ab 7e056794 7e4d30b8 91ac9d5d 45459d97 423b26c0 9f5b9b6d 68d8d590\n",
      "42 : b62c7013 508a16ab 7e056794 7e4d30b8 80a92a00 45459d97 423b26c0 9f5b9b6d\n",
      "43 : 167361de b62c7013 508a16ab 7e056794 41dd3844 80a92a00 45459d97 423b26c0\n",
      "44 : de71e2f2 167361de b62c7013 508a16ab ff61c636 41dd3844 80a92a00 45459d97\n",
      "45 : 18f0d19d de71e2f2 167361de b62c7013 6b88472c ff61c636 41dd3844 80a92a00\n",
      "46 : 165be9cd 18f0d19d de71e2f2 167361de a483f080 6b88472c ff61c636 41dd3844\n",
      "47 : 13d82741 165be9cd 18f0d19d de71e2f2 a7802a4d a483f080 6b88472c ff61c636\n",
      "48 : 017b9d99 13d82741 165be9cd 18f0d19d aeb10b60 a7802a4d a483f080 6b88472c\n",
      "49 : 543c99a1 017b9d99 13d82741 165be9cd 16f134b6 aeb10b60 a7802a4d a483f080\n",
      "50 : 758ca97a 543c99a1 017b9d99 13d82741 100cf2ea 16f134b6 aeb10b60 a7802a4d\n",
      "51 : 81c1cde0 758ca97a 543c99a1 017b9d99 5c47eb7b 100cf2ea 16f134b6 aeb10b60\n",
      "52 : b8d55619 81c1cde0 758ca97a 543c99a1 1c806a61 5c47eb7b 100cf2ea 16f134b6\n",
      "53 : 1d6de87a b8d55619 81c1cde0 758ca97a 3443bed4 1c806a61 5c47eb7b 100cf2ea\n",
      "54 : f907b313 1d6de87a b8d55619 81c1cde0 61a41711 3443bed4 1c806a61 5c47eb7b\n",
      "55 : 9e57c4a0 f907b313 1d6de87a b8d55619 eec13548 61a41711 3443bed4 1c806a61\n",
      "56 : 71629856 9e57c4a0 f907b313 1d6de87a 2f6c8c4e eec13548 61a41711 3443bed4\n",
      "57 : 7c015a2c 71629856 9e57c4a0 f907b313 cb9d3dd0 2f6c8c4e eec13548 61a41711\n",
      "58 : 921fccb6 7c015a2c 71629856 9e57c4a0 43d8a034 cb9d3dd0 2f6c8c4e eec13548\n",
      "59 : e18f259a 921fccb6 7c015a2c 71629856 51e15869 43d8a034 cb9d3dd0 2f6c8c4e\n",
      "60 : bcfce922 e18f259a 921fccb6 7c015a2c 962d8621 51e15869 43d8a034 cb9d3dd0\n",
      "61 : f6f443f8 bcfce922 e18f259a 921fccb6 acc75916 962d8621 51e15869 43d8a034\n",
      "62 : 86126910 f6f443f8 bcfce922 e18f259a 2fc08f85 acc75916 962d8621 51e15869\n",
      "63 : 1bdc6f6f 86126910 f6f443f8 bcfce922 25d2430a 2fc08f85 acc75916 962d8621\n",
      "\n",
      "*** SHA Buffers after processing chunk ***\n",
      "[H0..H7] = [85e655d6 417a1795 3363376a 624cde5c 76e09589 cac5f811 cc4b32c1 f20e533a]\n",
      "\n",
      "\n",
      "PROCESSING bytes 1...65\n",
      "\n",
      "Message chunk being processed :\n",
      "b'bcdbcdecdefdefgefghfghighijhijkijkljklmklmnlmnomnopnopq\\x80\\x00\\x00\\x00\\x00\\x00\\x00\\x00\\x00' \n",
      "\n",
      " t   A        B        C        D        E        F        G        H\n",
      " 0 : de842c9a 85e655d6 417a1795 3363376a a8d412d0 76e09589 cac5f811 cc4b32c1\n",
      " 1 : 0013a1e6 de842c9a 85e655d6 417a1795 a9cb2f3d a8d412d0 76e09589 cac5f811\n",
      " 2 : 1e8c0e9b 0013a1e6 de842c9a 85e655d6 19cc8f76 a9cb2f3d a8d412d0 76e09589\n",
      " 3 : e27e713d 1e8c0e9b 0013a1e6 de842c9a c69efebd 19cc8f76 a9cb2f3d a8d412d0\n",
      " 4 : ed105d7f e27e713d 1e8c0e9b 0013a1e6 c0c1f025 c69efebd 19cc8f76 a9cb2f3d\n",
      " 5 : 77df94d2 ed105d7f e27e713d 1e8c0e9b 38085910 c0c1f025 c69efebd 19cc8f76\n",
      " 6 : 6e6d8338 77df94d2 ed105d7f e27e713d 60642a3d 38085910 c0c1f025 c69efebd\n",
      " 7 : 1f92ab3d 6e6d8338 77df94d2 ed105d7f de5e94e5 60642a3d 38085910 c0c1f025\n",
      " 8 : 5c823926 1f92ab3d 6e6d8338 77df94d2 75127149 de5e94e5 60642a3d 38085910\n",
      " 9 : 45aa2988 5c823926 1f92ab3d 6e6d8338 08101ff4 75127149 de5e94e5 60642a3d\n",
      "10 : 41211771 45aa2988 5c823926 1f92ab3d 5c7deb58 08101ff4 75127149 de5e94e5\n",
      "11 : b3bd3494 41211771 45aa2988 5c823926 1e0e1ce1 5c7deb58 08101ff4 75127149\n",
      "12 : 4ff38b50 b3bd3494 41211771 45aa2988 ee340ce4 1e0e1ce1 5c7deb58 08101ff4\n",
      "13 : f6d58bf6 4ff38b50 b3bd3494 41211771 717ac1b7 ee340ce4 1e0e1ce1 5c7deb58\n",
      "14 : 68fbca27 f6d58bf6 4ff38b50 b3bd3494 fdfa463a 717ac1b7 ee340ce4 1e0e1ce1\n",
      "15 : f7d456e3 68fbca27 f6d58bf6 4ff38b50 d870d70d fdfa463a 717ac1b7 ee340ce4\n",
      "16 : 6f446741 f7d456e3 68fbca27 f6d58bf6 acb102e5 d870d70d fdfa463a 717ac1b7\n",
      "17 : 1b046ff2 6f446741 f7d456e3 68fbca27 31be4f37 acb102e5 d870d70d fdfa463a\n",
      "18 : f03922be 1b046ff2 6f446741 f7d456e3 f102794f 31be4f37 acb102e5 d870d70d\n",
      "19 : cad0d038 f03922be 1b046ff2 6f446741 fa2d8c83 f102794f 31be4f37 acb102e5\n",
      "20 : fbb0868b cad0d038 f03922be 1b046ff2 a0b2096f fa2d8c83 f102794f 31be4f37\n",
      "21 : f702f1d0 fbb0868b cad0d038 f03922be 0ead0b40 a0b2096f fa2d8c83 f102794f\n",
      "22 : 32b36670 f702f1d0 fbb0868b cad0d038 6edb70d7 0ead0b40 a0b2096f fa2d8c83\n",
      "23 : 4d19dd74 32b36670 f702f1d0 fbb0868b 31833a0f 6edb70d7 0ead0b40 a0b2096f\n",
      "24 : eaa33d34 4d19dd74 32b36670 f702f1d0 cfadffa8 31833a0f 6edb70d7 0ead0b40\n",
      "25 : a6150d03 eaa33d34 4d19dd74 32b36670 d2693761 cfadffa8 31833a0f 6edb70d7\n",
      "26 : 5f56d12d a6150d03 eaa33d34 4d19dd74 ce4c9cf9 d2693761 cfadffa8 31833a0f\n",
      "27 : 8374a729 5f56d12d a6150d03 eaa33d34 5c7b6bf8 ce4c9cf9 d2693761 cfadffa8\n",
      "28 : b9193eb4 8374a729 5f56d12d a6150d03 915a625d 5c7b6bf8 ce4c9cf9 d2693761\n",
      "29 : 54794014 b9193eb4 8374a729 5f56d12d a020406a 915a625d 5c7b6bf8 ce4c9cf9\n",
      "30 : acd6cbe2 54794014 b9193eb4 8374a729 89f7d43d a020406a 915a625d 5c7b6bf8\n",
      "31 : 1d5efc6f acd6cbe2 54794014 b9193eb4 356af9e7 89f7d43d a020406a 915a625d\n",
      "32 : c91cbc70 1d5efc6f acd6cbe2 54794014 05f84925 356af9e7 89f7d43d a020406a\n",
      "33 : d6927496 c91cbc70 1d5efc6f acd6cbe2 fa7c136b 05f84925 356af9e7 89f7d43d\n",
      "34 : d1ca7ab2 d6927496 c91cbc70 1d5efc6f 48c1d732 fa7c136b 05f84925 356af9e7\n",
      "35 : 371f39a1 d1ca7ab2 d6927496 c91cbc70 3ad4dda6 48c1d732 fa7c136b 05f84925\n",
      "36 : 4055586d 371f39a1 d1ca7ab2 d6927496 35aea9de 3ad4dda6 48c1d732 fa7c136b\n",
      "37 : 84b3fcc9 4055586d 371f39a1 d1ca7ab2 43c8170e 35aea9de 3ad4dda6 48c1d732\n",
      "38 : b2f03a98 84b3fcc9 4055586d 371f39a1 380f3fa2 43c8170e 35aea9de 3ad4dda6\n",
      "39 : 002280aa b2f03a98 84b3fcc9 4055586d 7dbc4596 380f3fa2 43c8170e 35aea9de\n",
      "40 : beeb3a2f 002280aa b2f03a98 84b3fcc9 6f33d0d6 7dbc4596 380f3fa2 43c8170e\n",
      "41 : 104fa8b1 beeb3a2f 002280aa b2f03a98 4ff1e3a7 6f33d0d6 7dbc4596 380f3fa2\n",
      "42 : db8876e2 104fa8b1 beeb3a2f 002280aa 3ed35cbf 4ff1e3a7 6f33d0d6 7dbc4596\n",
      "43 : c6457ba7 db8876e2 104fa8b1 beeb3a2f 0b6d7719 3ed35cbf 4ff1e3a7 6f33d0d6\n",
      "44 : a2df29ec c6457ba7 db8876e2 104fa8b1 563af59d 0b6d7719 3ed35cbf 4ff1e3a7\n",
      "45 : 2dad372a a2df29ec c6457ba7 db8876e2 5fb9f5ec 563af59d 0b6d7719 3ed35cbf\n",
      "46 : 5893e389 2dad372a a2df29ec c6457ba7 066896a8 5fb9f5ec 563af59d 0b6d7719\n",
      "47 : 3a6641d9 5893e389 2dad372a a2df29ec d22c80b9 066896a8 5fb9f5ec 563af59d\n",
      "48 : 5c754254 3a6641d9 5893e389 2dad372a ed55e10a d22c80b9 066896a8 5fb9f5ec\n",
      "49 : 9e92a22c 5c754254 3a6641d9 5893e389 a311b32f ed55e10a d22c80b9 066896a8\n",
      "50 : a0f7ab76 9e92a22c 5c754254 3a6641d9 5ecc5e3f a311b32f ed55e10a d22c80b9\n",
      "51 : 577edd53 a0f7ab76 9e92a22c 5c754254 c7c844d5 5ecc5e3f a311b32f ed55e10a\n",
      "52 : d515c48a 577edd53 a0f7ab76 9e92a22c d6641969 c7c844d5 5ecc5e3f a311b32f\n",
      "53 : 220b88d4 d515c48a 577edd53 a0f7ab76 25246ad6 d6641969 c7c844d5 5ecc5e3f\n",
      "54 : 4e5ef369 220b88d4 d515c48a 577edd53 38362f2c 25246ad6 d6641969 c7c844d5\n",
      "55 : 4235dee9 4e5ef369 220b88d4 d515c48a a0849060 38362f2c 25246ad6 d6641969\n",
      "56 : f087d273 4235dee9 4e5ef369 220b88d4 12c0f8f8 a0849060 38362f2c 25246ad6\n",
      "57 : 24b6ff3e f087d273 4235dee9 4e5ef369 93b2f649 12c0f8f8 a0849060 38362f2c\n",
      "58 : 85694107 24b6ff3e f087d273 4235dee9 c7eff30b 93b2f649 12c0f8f8 a0849060\n",
      "59 : f56cad39 85694107 24b6ff3e f087d273 469853cd c7eff30b 93b2f649 12c0f8f8\n",
      "60 : 6a6743b6 f56cad39 85694107 24b6ff3e 0f61c0ec 469853cd c7eff30b 93b2f649\n",
      "61 : 3dc90831 6a6743b6 f56cad39 85694107 62ee6bba 0f61c0ec 469853cd c7eff30b\n",
      "62 : dd99a1a9 3dc90831 6a6743b6 f56cad39 baba70cc 62ee6bba 0f61c0ec 469853cd\n",
      "63 : b49830bf dd99a1a9 3dc90831 6a6743b6 0f8db876 baba70cc 62ee6bba 0f61c0ec\n",
      "\n",
      "*** SHA Buffers after processing chunk ***\n",
      "[H0..H7] = [3a7e8695 1f13b93e 712c3f9b ccb42212 866e4dff 858068dd 2f399e7b  1701426]\n",
      "\n",
      "\n"
     ]
    }
   ],
   "source": [
    "# Loop though the various 512 bit blocks of a long message.\n",
    "\n",
    "# For each 512 bit (64 byte, 16 32bit words)\n",
    "N = int(len(processed_message)/64)\n",
    "for i in range(0,N):\n",
    "    M = processed_message[i:i+64]\n",
    "    print(\"PROCESSING bytes \"+str(i)+\"...\"+str(i+64))\n",
    "    print(\"\\nMessage chunk being processed :\\n\"+str(M)+\" \\n\")\n",
    "    # Split into 16x 32bit words. The list includes blanks (16-79) for scheduled messages.\n",
    "    W = words(M)\n",
    "    # Prepare Message Schedule - Create message words 17..79 using word 0..16\n",
    "    for t in range (16,64):\n",
    "        W[t] = (sig1(W[t-2]) + W[t-7] + sig0(W[t-15]) + W[t-16]) & 0xFFFFFFFF\n",
    "    \n",
    "    # Initilize state variables / SHA Context buffers.\n",
    "    [A,B,C,D,E,F,G,H]=[h0,h1,h2,h3,h4,h5,h6,h7]\n",
    "    print(\" t   A        B        C        D        E        F        G        H\")\n",
    "    \n",
    "    # Ensure that the results of addition is 32 bit (& 0xFFFFFFFF)\n",
    "    for t in range (0,64):\n",
    "        T1 = (H + SIGMA1(E) + Ch(E,F,G) + K[t] + W[t]) & 0xFFFFFFFF\n",
    "        T2 = (SIGMA0(A) + Maj(A,B,C)) & 0xFFFFFFFF\n",
    "        [H, G, F, E, D, C, B, A] = [G, F, E, (D+T1)& 0xFFFFFFFF, C, B, A, (T1+T2)& 0xFFFFFFFF]\n",
    "        print_state(t,A,B,C,D,E,F,G,H)\n",
    "    \n",
    "    # Update SHA Context after processing the message.\n",
    "    [h0,h1,h2,h3,h4,h5,h6,h7]=[(h0+A)& 0xFFFFFFFF, (h1+B)& 0xFFFFFFFF, (h2+C)& 0xFFFFFFFF, (h3+D)& 0xFFFFFFFF, (h4+E)& 0xFFFFFFFF, (h5+F)& 0xFFFFFFFF, (h6+G)& 0xFFFFFFFF, (h7+H)& 0xFFFFFFFF]\n",
    "\n",
    "    # Display Updated SHA Buffers\n",
    "    print(\"\\n*** SHA Buffers after processing chunk ***\\n[H0..H7] = \"+\"[{:8x} {:8x} {:8x} {:8x} {:8x} {:8x} {:8x} {:8x}]\".format(h0,h1,h2,h3,h4,h5,h6,h7)+\"\\n\\n\")"
   ]
  },
  {
   "cell_type": "code",
   "execution_count": 13,
   "metadata": {},
   "outputs": [
    {
     "name": "stdout",
     "output_type": "stream",
     "text": [
      "OUTPUT      : 3a7e86951f13b93e712c3f9bccb42212866e4dff858068dd2f399e7b01701426\n",
      "REF. Hash   : 0x???\n"
     ]
    }
   ],
   "source": [
    "# Compute output hash from the MD buffers.\n",
    "output_hash = '{}'.format(''.join('{:08x}'.format(x) for x in [h0,h1,h2,h3,h4,h5,h6,h7]))\n",
    "\n",
    "# The MD5 hash starts with the lowest order byte of A ... highest order byte of D\n",
    "print(\"OUTPUT      : \"+output_hash)\n",
    "print(\"REF. Hash   : 0x\"+ref_hash)"
   ]
  },
  {
   "cell_type": "markdown",
   "metadata": {},
   "source": [
    "## Compare with Python's `hashlib`"
   ]
  },
  {
   "cell_type": "code",
   "execution_count": 14,
   "metadata": {},
   "outputs": [],
   "source": [
    "import hashlib"
   ]
  },
  {
   "cell_type": "code",
   "execution_count": 15,
   "metadata": {},
   "outputs": [
    {
     "name": "stdout",
     "output_type": "stream",
     "text": [
      "Hashlib SHA1 : 0x248d6a61d20638b8e5c026930c3e6039a33ce45964ff2167f6ecedd419db06c1\n"
     ]
    }
   ],
   "source": [
    "H = hashlib.new('SHA256')\n",
    "H.update(message_b)\n",
    "sha1hash=H.hexdigest()\n",
    "print(\"Hashlib SHA1 : 0x\"+sha1hash)"
   ]
  },
  {
   "cell_type": "markdown",
   "metadata": {},
   "source": [
    "### References\n",
    "\n",
    "[SHA1](https://www.ietf.org/rfc/rfc3174.txt)\n",
    "2. [Wikipedia](https://en.wikipedia.org/wiki/SHA1)\n",
    "3. [Rosetta Code](https://rosettacode.org/wiki/SHA1/Implementation#Python)\n",
    "4. [Merkle Damgård construction](https://en.wikipedia.org/wiki/Merkle%E2%80%93Damg%C3%A5rd_construction)"
   ]
  }
 ],
 "metadata": {
  "kernelspec": {
   "display_name": "Python [conda env:anaconda3]",
   "language": "python",
   "name": "conda-env-anaconda3-py"
  },
  "language_info": {
   "codemirror_mode": {
    "name": "ipython",
    "version": 3
   },
   "file_extension": ".py",
   "mimetype": "text/x-python",
   "name": "python",
   "nbconvert_exporter": "python",
   "pygments_lexer": "ipython3",
   "version": "3.6.5"
  },
  "varInspector": {
   "cols": {
    "lenName": 16,
    "lenType": 16,
    "lenVar": 40
   },
   "kernels_config": {
    "python": {
     "delete_cmd_postfix": "",
     "delete_cmd_prefix": "del ",
     "library": "var_list.py",
     "varRefreshCmd": "print(var_dic_list())"
    },
    "r": {
     "delete_cmd_postfix": ") ",
     "delete_cmd_prefix": "rm(",
     "library": "var_list.r",
     "varRefreshCmd": "cat(var_dic_list()) "
    }
   },
   "types_to_exclude": [
    "module",
    "function",
    "builtin_function_or_method",
    "instance",
    "_Feature"
   ],
   "window_display": false
  }
 },
 "nbformat": 4,
 "nbformat_minor": 2
}
