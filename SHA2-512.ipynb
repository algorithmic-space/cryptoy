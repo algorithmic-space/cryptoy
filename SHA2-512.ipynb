{
 "cells": [
  {
   "cell_type": "markdown",
   "metadata": {},
   "source": [
    "# SHA2-512\n",
    "** Implementation of the Secure Hash Algorithm 2 **\n",
    "\n",
    "*... in Python*\n",
    "\n",
    "[SHA2](specs/FIPS-180-2_SHA-2_%282002+2004%29.pdf)"
   ]
  },
  {
   "cell_type": "markdown",
   "metadata": {},
   "source": [
    "### Define and Select Test Cases"
   ]
  },
  {
   "cell_type": "code",
   "execution_count": 1,
   "metadata": {},
   "outputs": [],
   "source": [
    "# [PlainText, SHA0Digest, SHA1Digest]\n",
    "test_case=[[\"\",\"???\"],\\\n",
    "           [\"a\",\"???\"],\\\n",
    "           [\"abc\",\"???\"],\\\n",
    "           [\"abcdbcdecdefdefgefghfghighijhijkijkljklmklmnlmnomnopnopq\",\"???\"],\\\n",
    "           [\"abcdefghbcdefghicdefghijdefghijkefghijklfghijklmghijklmnhijklmnoijklmnopjklmnopqklmnopqrlmnopqrsmnopqrstnopqrstu\",\"???\"]]\n",
    "use_test_case = 3\n",
    "\n",
    "# Assign test case to variables.\n",
    "message = test_case[use_test_case][0]\n",
    "ref_hash = test_case[use_test_case][1]"
   ]
  },
  {
   "cell_type": "markdown",
   "metadata": {},
   "source": [
    "### Step 1 - Append Padding Bits\n",
    "\n",
    "The message to be hashed is padded to have a length equal to 16 bytes {128 bits} less than being a multiple of 128 bytes {1024 bits}. The padding step is performed even if the message length is already of desired length. The padding bit string used is `1` followed by `0` - `100...000`\n",
    "\n",
    "The padded message lengths is eventually 56 bytes {448 bits}, 120 bytes {960 bits}, 184 bytes {1472 bits}, 248 bytes {1984 bits} and so on.\n",
    "\n",
    "The padding method is similar to MD4, with an exception of sizes."
   ]
  },
  {
   "cell_type": "code",
   "execution_count": 2,
   "metadata": {},
   "outputs": [
    {
     "name": "stdout",
     "output_type": "stream",
     "text": [
      "Message Length : 56 bytes {448 bits}\n"
     ]
    }
   ],
   "source": [
    "message_len = len(message)\n",
    "message_len_bits = message_len * 8\n",
    "print(\"Message Length : \" + str(message_len) + \" bytes {\" + str(message_len_bits) + \" bits}\")"
   ]
  },
  {
   "cell_type": "code",
   "execution_count": 3,
   "metadata": {},
   "outputs": [],
   "source": [
    "# Encode string to bytes\n",
    "message_b = message.encode('utf-8')"
   ]
  },
  {
   "cell_type": "code",
   "execution_count": 4,
   "metadata": {},
   "outputs": [
    {
     "name": "stdout",
     "output_type": "stream",
     "text": [
      "Padding Length : 56 bytes {448 bits}\n"
     ]
    }
   ],
   "source": [
    "# Calculate padding length\n",
    "padding_len=112-message_len%128\n",
    "padding_len=128 if (padding_len==0) else padding_len\n",
    "print(\"Padding Length : \" + str(padding_len) + \" bytes {\" + str(padding_len * 8) + \" bits}\")"
   ]
  },
  {
   "cell_type": "code",
   "execution_count": 5,
   "metadata": {},
   "outputs": [
    {
     "name": "stdout",
     "output_type": "stream",
     "text": [
      "Padded Message :\n",
      "b'abcdbcdecdefdefgefghfghighijhijkijkljklmklmnlmnomnopnopq\\x80\\x00\\x00\\x00\\x00\\x00\\x00\\x00\\x00\\x00\\x00\\x00\\x00\\x00\\x00\\x00\\x00\\x00\\x00\\x00\\x00\\x00\\x00\\x00\\x00\\x00\\x00\\x00\\x00\\x00\\x00\\x00\\x00\\x00\\x00\\x00\\x00\\x00\\x00\\x00\\x00\\x00\\x00\\x00\\x00\\x00\\x00\\x00\\x00\\x00\\x00\\x00\\x00\\x00\\x00\\x00'\n",
      "\n",
      "length(paddedMessage)      : 112 bytes {896 bits}\n",
      "length(paddedMessage) % 128 : 112 bytes {896 bits}\n"
     ]
    }
   ],
   "source": [
    "# Display Padded Message, length and calculation.\n",
    "message_mod871 = message_b + b'\\x80' + b'\\x00' * (padding_len-1)\n",
    "print(\"Padded Message :\\n\"+str(message_mod871))\n",
    "print(\"\\nlength(paddedMessage)      : \"+str(len(message_mod871))+\" bytes {\"+str(len(message_mod871*8))+\" bits}\\nlength(paddedMessage) % 128 : \"+str(len(message_mod871)%128)+\" bytes {\"+str((len(message_mod871)%128) * 8)+\" bits}\" )"
   ]
  },
  {
   "cell_type": "markdown",
   "metadata": {},
   "source": [
    "### Step 2 - Append Length\n",
    "\n",
    "The bit length of the original message is appended to this _128 bits short of %1024 bit_ message. This bit length is appended as an 16 byte {128 bits} little endian integer.\n",
    "\n",
    "So, a message of length 56 bytes (_try test case # 3_) would have a bit length of 448 bits and the appended 128 bit little endian bit length would be `0x000000000000000000000000000001c0` (as hex) or `b'\\x00\\x00\\x00\\x00\\x00\\x00\\x00\\x00\\x00\\x00\\x00\\x00\\x00\\x00\\x01\\xc0'` (as a byte string). If the message length is $> 2^{128}$ bits, only the lower 128 bits are used for padding."
   ]
  },
  {
   "cell_type": "code",
   "execution_count": 6,
   "metadata": {},
   "outputs": [
    {
     "name": "stdout",
     "output_type": "stream",
     "text": [
      "LSB128(len(unPaddedMessage)) : b'\\x00\\x00\\x00\\x00\\x00\\x00\\x00\\x00\\x00\\x00\\x00\\x00\\x00\\x00\\x01\\xc0'\n",
      "length( paddedMessage | LSB64(len(unPaddedMessage)) ) : 128 bytes {1024 bits}\n",
      "\n",
      "Padded Message | LSB64(len(unPaddedMessage)) :\n",
      "b'abcdbcdecdefdefgefghfghighijhijkijkljklmklmnlmnomnopnopq\\x80\\x00\\x00\\x00\\x00\\x00\\x00\\x00\\x00\\x00\\x00\\x00\\x00\\x00\\x00\\x00\\x00\\x00\\x00\\x00\\x00\\x00\\x00\\x00\\x00\\x00\\x00\\x00\\x00\\x00\\x00\\x00\\x00\\x00\\x00\\x00\\x00\\x00\\x00\\x00\\x00\\x00\\x00\\x00\\x00\\x00\\x00\\x00\\x00\\x00\\x00\\x00\\x00\\x00\\x00\\x00\\x00\\x00\\x00\\x00\\x00\\x00\\x00\\x00\\x00\\x00\\x00\\x00\\x00\\x00\\x01\\xc0'\n"
     ]
    }
   ],
   "source": [
    "# Append Length\n",
    "processed_message=message_mod871+(message_len_bits%2**128).to_bytes(16,byteorder='big')\n",
    "print(\"LSB128(len(unPaddedMessage)) : \"+str((message_len_bits%2**128).to_bytes(16,byteorder='big')))\n",
    "print(\"length( paddedMessage | LSB64(len(unPaddedMessage)) ) : \"+str(len(processed_message))+\" bytes {\"+str(len(processed_message)*8)+\" bits}\")\n",
    "print(\"\\nPadded Message | LSB64(len(unPaddedMessage)) :\\n\"+str(processed_message))"
   ]
  },
  {
   "cell_type": "markdown",
   "metadata": {},
   "source": [
    "### Step 3 - Initialize Context\n",
    "These numbers are defined in the standards - RFC-xxxx"
   ]
  },
  {
   "cell_type": "code",
   "execution_count": 7,
   "metadata": {},
   "outputs": [],
   "source": [
    "h0 = 0x6a09e667f3bcc908\n",
    "h1 = 0xbb67ae8584caa73b\n",
    "h2 = 0x3c6ef372fe94f82b\n",
    "h3 = 0xa54ff53a5f1d36f1\n",
    "h4 = 0x510e527fade682d1\n",
    "h5 = 0x9b05688c2b3e6c1f\n",
    "h6 = 0x1f83d9abfb41bd6b\n",
    "h7 = 0x5be0cd19137e2179"
   ]
  },
  {
   "cell_type": "markdown",
   "metadata": {},
   "source": [
    "### Define various constants\n",
    "These constants are also defined in the standards documents."
   ]
  },
  {
   "cell_type": "code",
   "execution_count": 8,
   "metadata": {},
   "outputs": [],
   "source": [
    "# SHA-512 Constant Table\n",
    "K = [0x428a2f98d728ae22, 0x7137449123ef65cd, 0xb5c0fbcfec4d3b2f, 0xe9b5dba58189dbbc, 0x3956c25bf348b538, 0x59f111f1b605d019, 0x923f82a4af194f9b, 0xab1c5ed5da6d8118, 0xd807aa98a3030242, 0x12835b0145706fbe, 0x243185be4ee4b28c, 0x550c7dc3d5ffb4e2, 0x72be5d74f27b896f, 0x80deb1fe3b1696b1, 0x9bdc06a725c71235, 0xc19bf174cf692694, 0xe49b69c19ef14ad2, 0xefbe4786384f25e3, 0x0fc19dc68b8cd5b5, 0x240ca1cc77ac9c65, 0x2de92c6f592b0275, 0x4a7484aa6ea6e483, 0x5cb0a9dcbd41fbd4, 0x76f988da831153b5, 0x983e5152ee66dfab, 0xa831c66d2db43210, 0xb00327c898fb213f, 0xbf597fc7beef0ee4, 0xc6e00bf33da88fc2, 0xd5a79147930aa725, 0x06ca6351e003826f, 0x142929670a0e6e70, 0x27b70a8546d22ffc, 0x2e1b21385c26c926, 0x4d2c6dfc5ac42aed, 0x53380d139d95b3df, 0x650a73548baf63de, 0x766a0abb3c77b2a8, 0x81c2c92e47edaee6, 0x92722c851482353b, 0xa2bfe8a14cf10364, 0xa81a664bbc423001, 0xc24b8b70d0f89791, 0xc76c51a30654be30, 0xd192e819d6ef5218, 0xd69906245565a910, 0xf40e35855771202a, 0x106aa07032bbd1b8, 0x19a4c116b8d2d0c8, 0x1e376c085141ab53, 0x2748774cdf8eeb99, 0x34b0bcb5e19b48a8, 0x391c0cb3c5c95a63, 0x4ed8aa4ae3418acb, 0x5b9cca4f7763e373, 0x682e6ff3d6b2b8a3, 0x748f82ee5defb2fc, 0x78a5636f43172f60, 0x84c87814a1f0ab72, 0x8cc702081a6439ec, 0x90befffa23631e28, 0xa4506cebde82bde9, 0xbef9a3f7b2c67915, 0xc67178f2e372532b, 0xca273eceea26619c, 0xd186b8c721c0c207, 0xeada7dd6cde0eb1e, 0xf57d4f7fee6ed178, 0x06f067aa72176fba, 0x0a637dc5a2c898a6, 0x113f9804bef90dae, 0x1b710b35131c471b, 0x28db77f523047d84, 0x32caab7b40c72493, 0x3c9ebe0a15c9bebc, 0x431d67c49c100d4c, 0x4cc5d4becb3e42b6, 0x597f299cfc657e2a, 0x5fcb6fab3ad6faec, 0x6c44198c4a475817]"
   ]
  },
  {
   "cell_type": "markdown",
   "metadata": {},
   "source": [
    "** function correspondence to FIPS 180-2 document**\n",
    "\n",
    "$\\Sigma^{256}_0$ = `SIGMA0()`\n",
    "\n",
    "$\\Sigma^{256}_1$ = `SIGMA1()`\n",
    "\n",
    "$\\sigma^{256}_0$ = `sig0()`\n",
    "\n",
    "$\\sigma^{256}_1$ = `sig1()`"
   ]
  },
  {
   "cell_type": "code",
   "execution_count": 9,
   "metadata": {},
   "outputs": [],
   "source": [
    "# Rotate Right\n",
    "def rotr(x,s):\n",
    "    return ( (x>>s) | x<<(64-s))& 0xFFFFFFFFFFFFFFFFFFFFFFFF\n",
    "\n",
    "# Rotate Left\n",
    "def rotl(x,s):\n",
    "    return ( (x<<s) | x>>(64-s))& 0xFFFFFFFFFFFFFFFF\n",
    "\n",
    "# Shift Right\n",
    "def shr(x,s):\n",
    "    return (x>>s) & 0xFFFFFFFFFFFFFFFF\n",
    "\n",
    "def Ch(X, Y, Z):\n",
    "    return (X&Y)^(~X&Z)\n",
    "\n",
    "def Maj(X, Y, Z):\n",
    "    return (X&Y)^(X&Z)^(Y&Z)\n",
    "\n",
    "def SIGMA0(V):\n",
    "    return rotr(V,28)^rotr(V,34)^rotr(V,39)\n",
    "\n",
    "def SIGMA1(V):\n",
    "    return rotr(V,14)^rotr(V,18)^rotr(V,41)\n",
    "\n",
    "def sig0(V):\n",
    "    return rotr(V,1)^rotr(V,8)^shr(V,7)\n",
    "\n",
    "def sig1(V):\n",
    "    return rotr(V,19)^rotr(V,61)^shr(V,6)"
   ]
  },
  {
   "cell_type": "code",
   "execution_count": 10,
   "metadata": {},
   "outputs": [],
   "source": [
    "# Split Message M to words 16x32-bit words\n",
    "def words(M):\n",
    "    word_list=[0]*80\n",
    "    for i in range (0,16):\n",
    "        word_list[i]=int.from_bytes(M[i*8:i*8+8],byteorder='big')\n",
    "    return word_list"
   ]
  },
  {
   "cell_type": "code",
   "execution_count": 11,
   "metadata": {},
   "outputs": [],
   "source": [
    "# Print functions\n",
    "def print_state(t,a,b,c,d,e,f,g,h):\n",
    "    print(\"{:2d} : {:016x} {:016x} {:016x} {:016x}\".format(t,a,b,c,d))\n",
    "    print(\"     {:016x} {:016x} {:016x} {:016x}\".format(e,f,g,h))    "
   ]
  },
  {
   "cell_type": "markdown",
   "metadata": {},
   "source": [
    "### Step 4 - Process Message in 32-Word Blocks"
   ]
  },
  {
   "cell_type": "code",
   "execution_count": 12,
   "metadata": {
    "scrolled": true
   },
   "outputs": [
    {
     "name": "stdout",
     "output_type": "stream",
     "text": [
      "PROCESSING bytes 0...128\n",
      "\n",
      "Message chunk being processed :\n",
      "b'abcdbcdecdefdefgefghfghighijhijkijkljklmklmnlmnomnopnopq\\x80\\x00\\x00\\x00\\x00\\x00\\x00\\x00\\x00\\x00\\x00\\x00\\x00\\x00\\x00\\x00\\x00\\x00\\x00\\x00\\x00\\x00\\x00\\x00\\x00\\x00\\x00\\x00\\x00\\x00\\x00\\x00\\x00\\x00\\x00\\x00\\x00\\x00\\x00\\x00\\x00\\x00\\x00\\x00\\x00\\x00\\x00\\x00\\x00\\x00\\x00\\x00\\x00\\x00\\x00\\x00\\x00\\x00\\x00\\x00\\x00\\x00\\x00\\x00\\x00\\x00\\x00\\x00\\x00\\x00\\x01\\xc0' \n",
      "\n",
      " t   A/E              B/F              C/G              D/H\n",
      " 0 : f6afce9d1f60425a 6a09e667f3bcc908 bb67ae8584caa73b 3c6ef372fe94f82b\n",
      "     58cb0218dd1883f6 510e527fade682d1 9b05688c2b3e6c1f 1f83d9abfb41bd6b\n",
      " 1 : 708b4be26129a822 f6afce9d1f60425a 6a09e667f3bcc908 bb67ae8584caa73b\n",
      "     26e75b12651b9748 58cb0218dd1883f6 510e527fade682d1 9b05688c2b3e6c1f\n",
      " 2 : fa567898ae2e5460 708b4be26129a822 f6afce9d1f60425a 6a09e667f3bcc908\n",
      "     f51f9cb6ef58b948 26e75b12651b9748 58cb0218dd1883f6 510e527fade682d1\n",
      " 3 : 49bbd166c7ade22f fa567898ae2e5460 708b4be26129a822 f6afce9d1f60425a\n",
      "     c903dd77323baf78 f51f9cb6ef58b948 26e75b12651b9748 58cb0218dd1883f6\n",
      " 4 : 506d354ddf395a2a 49bbd166c7ade22f fa567898ae2e5460 708b4be26129a822\n",
      "     c7c7a84d002b26cb c903dd77323baf78 f51f9cb6ef58b948 26e75b12651b9748\n",
      " 5 : c9e36acf3b654e98 506d354ddf395a2a 49bbd166c7ade22f fa567898ae2e5460\n",
      "     c209bec906f8e0ac c7c7a84d002b26cb c903dd77323baf78 f51f9cb6ef58b948\n",
      " 6 : ced39f277d0f026d c9e36acf3b654e98 506d354ddf395a2a 49bbd166c7ade22f\n",
      "     984335b8ae325c0e c209bec906f8e0ac c7c7a84d002b26cb c903dd77323baf78\n",
      " 7 : 01420edef3e142e4 ced39f277d0f026d c9e36acf3b654e98 506d354ddf395a2a\n",
      "     40d0a8b2f751286b 984335b8ae325c0e c209bec906f8e0ac c7c7a84d002b26cb\n",
      " 8 : ddb3d10e5f062790 01420edef3e142e4 ced39f277d0f026d c9e36acf3b654e98\n",
      "     25523b0fe6675489 40d0a8b2f751286b 984335b8ae325c0e c209bec906f8e0ac\n",
      " 9 : b6c5d1e8ae1aa77a ddb3d10e5f062790 01420edef3e142e4 ced39f277d0f026d\n",
      "     37b7a1029c8e702a 25523b0fe6675489 40d0a8b2f751286b 984335b8ae325c0e\n",
      "10 : b0e7b63f91437ef0 b6c5d1e8ae1aa77a ddb3d10e5f062790 01420edef3e142e4\n",
      "     ce86985cdace781a 37b7a1029c8e702a 25523b0fe6675489 40d0a8b2f751286b\n",
      "11 : 51e23f7bb628d9a8 b0e7b63f91437ef0 b6c5d1e8ae1aa77a ddb3d10e5f062790\n",
      "     0ef6c6e147e4b382 ce86985cdace781a 37b7a1029c8e702a 25523b0fe6675489\n",
      "12 : 933738df2fef3f3d 51e23f7bb628d9a8 b0e7b63f91437ef0 b6c5d1e8ae1aa77a\n",
      "     479755157df1aaba 0ef6c6e147e4b382 ce86985cdace781a 37b7a1029c8e702a\n",
      "13 : af65b7a05fcb09d9 933738df2fef3f3d 51e23f7bb628d9a8 b0e7b63f91437ef0\n",
      "     48ec68a129e203e7 479755157df1aaba 0ef6c6e147e4b382 ce86985cdace781a\n",
      "14 : d04e6fcb2a4acef0 af65b7a05fcb09d9 933738df2fef3f3d 51e23f7bb628d9a8\n",
      "     41d11c104cc657a5 48ec68a129e203e7 479755157df1aaba 0ef6c6e147e4b382\n",
      "15 : 66853e6f38485bd3 d04e6fcb2a4acef0 af65b7a05fcb09d9 933738df2fef3f3d\n",
      "     2c9574f2ed5029e3 41d11c104cc657a5 48ec68a129e203e7 479755157df1aaba\n",
      "16 : f455292e35b1adc2 66853e6f38485bd3 d04e6fcb2a4acef0 af65b7a05fcb09d9\n",
      "     0c5fe6ad1416fe1a 2c9574f2ed5029e3 41d11c104cc657a5 48ec68a129e203e7\n",
      "17 : 54c0e7e6c31162e4 f455292e35b1adc2 66853e6f38485bd3 d04e6fcb2a4acef0\n",
      "     85c39c136ce429f1 0c5fe6ad1416fe1a 2c9574f2ed5029e3 41d11c104cc657a5\n",
      "18 : aba63d301c5fa675 54c0e7e6c31162e4 f455292e35b1adc2 66853e6f38485bd3\n",
      "     badb295384014349 85c39c136ce429f1 0c5fe6ad1416fe1a 2c9574f2ed5029e3\n",
      "19 : c8b30e53ef59559d aba63d301c5fa675 54c0e7e6c31162e4 f455292e35b1adc2\n",
      "     979eee11d6b2fa55 badb295384014349 85c39c136ce429f1 0c5fe6ad1416fe1a\n",
      "20 : 1724bb68f6464d15 c8b30e53ef59559d aba63d301c5fa675 54c0e7e6c31162e4\n",
      "     9939f7139a11532c 979eee11d6b2fa55 badb295384014349 85c39c136ce429f1\n",
      "21 : 319166461ee8c5bd 1724bb68f6464d15 c8b30e53ef59559d aba63d301c5fa675\n",
      "     7292402dc5ee1269 9939f7139a11532c 979eee11d6b2fa55 badb295384014349\n",
      "22 : 03714dde711c01b0 319166461ee8c5bd 1724bb68f6464d15 c8b30e53ef59559d\n",
      "     b85aa1946022434c 7292402dc5ee1269 9939f7139a11532c 979eee11d6b2fa55\n",
      "23 : bbabded7aed72c4e 03714dde711c01b0 319166461ee8c5bd 1724bb68f6464d15\n",
      "     3fc85a6dd015d02b b85aa1946022434c 7292402dc5ee1269 9939f7139a11532c\n",
      "24 : cd3732104d70ac65 bbabded7aed72c4e 03714dde711c01b0 319166461ee8c5bd\n",
      "     070ffd027bbaa64c 3fc85a6dd015d02b b85aa1946022434c 7292402dc5ee1269\n",
      "25 : 389a4464cd259a8d cd3732104d70ac65 bbabded7aed72c4e 03714dde711c01b0\n",
      "     fa2c3fb71315b002 070ffd027bbaa64c 3fc85a6dd015d02b b85aa1946022434c\n",
      "26 : 0e9638e7b9937ecf 389a4464cd259a8d cd3732104d70ac65 bbabded7aed72c4e\n",
      "     2fc1ab2b7f45f055 fa2c3fb71315b002 070ffd027bbaa64c 3fc85a6dd015d02b\n",
      "27 : cb150b48d7dc509b 0e9638e7b9937ecf 389a4464cd259a8d cd3732104d70ac65\n",
      "     c20aa3fd04a691e9 2fc1ab2b7f45f055 fa2c3fb71315b002 070ffd027bbaa64c\n",
      "28 : d7198b533e7e7dcf cb150b48d7dc509b 0e9638e7b9937ecf 389a4464cd259a8d\n",
      "     c01d0fc33a55f35c c20aa3fd04a691e9 2fc1ab2b7f45f055 fa2c3fb71315b002\n",
      "29 : d3bbf6a82b794a87 d7198b533e7e7dcf cb150b48d7dc509b 0e9638e7b9937ecf\n",
      "     af3c70541ccf8354 c01d0fc33a55f35c c20aa3fd04a691e9 2fc1ab2b7f45f055\n",
      "30 : 4763cb42cf95fe88 d3bbf6a82b794a87 d7198b533e7e7dcf cb150b48d7dc509b\n",
      "     95c4709888b64403 af3c70541ccf8354 c01d0fc33a55f35c c20aa3fd04a691e9\n",
      "31 : 65caa91b076df8c3 4763cb42cf95fe88 d3bbf6a82b794a87 d7198b533e7e7dcf\n",
      "     8a7e2c4638624965 95c4709888b64403 af3c70541ccf8354 c01d0fc33a55f35c\n",
      "32 : a2c5288c394416d8 65caa91b076df8c3 4763cb42cf95fe88 d3bbf6a82b794a87\n",
      "     b0e89ede6530eb80 8a7e2c4638624965 95c4709888b64403 af3c70541ccf8354\n",
      "33 : aa9f2996583023be a2c5288c394416d8 65caa91b076df8c3 4763cb42cf95fe88\n",
      "     94349722bebd26cc b0e89ede6530eb80 8a7e2c4638624965 95c4709888b64403\n",
      "34 : fae2688443510141 aa9f2996583023be a2c5288c394416d8 65caa91b076df8c3\n",
      "     65b8b6e67b825f9c 94349722bebd26cc b0e89ede6530eb80 8a7e2c4638624965\n",
      "35 : 0814e485d29816e1 fae2688443510141 aa9f2996583023be a2c5288c394416d8\n",
      "     95d56ecf2d4a3518 65b8b6e67b825f9c 94349722bebd26cc b0e89ede6530eb80\n",
      "36 : e0342413c79dbb7e 0814e485d29816e1 fae2688443510141 aa9f2996583023be\n",
      "     81e08896ad7675c0 95d56ecf2d4a3518 65b8b6e67b825f9c 94349722bebd26cc\n",
      "37 : b755482e6927b49c e0342413c79dbb7e 0814e485d29816e1 fae2688443510141\n",
      "     ca0c2af7b72fa489 81e08896ad7675c0 95d56ecf2d4a3518 65b8b6e67b825f9c\n",
      "38 : 7c6136396226a335 b755482e6927b49c e0342413c79dbb7e 0814e485d29816e1\n",
      "     824e4f307fea72fd ca0c2af7b72fa489 81e08896ad7675c0 95d56ecf2d4a3518\n",
      "39 : a897ab7e6890e949 7c6136396226a335 b755482e6927b49c e0342413c79dbb7e\n",
      "     b40f94ebe40d607a 824e4f307fea72fd ca0c2af7b72fa489 81e08896ad7675c0\n",
      "40 : 95cd9eb151055fe4 a897ab7e6890e949 7c6136396226a335 b755482e6927b49c\n",
      "     c9b1096c406e07d6 b40f94ebe40d607a 824e4f307fea72fd ca0c2af7b72fa489\n",
      "41 : 9d0cab0757abb754 95cd9eb151055fe4 a897ab7e6890e949 7c6136396226a335\n",
      "     70e591ecb04d6907 c9b1096c406e07d6 b40f94ebe40d607a 824e4f307fea72fd\n",
      "42 : 1c586c7691c2deed 9d0cab0757abb754 95cd9eb151055fe4 a897ab7e6890e949\n",
      "     592d278643b3fefc 70e591ecb04d6907 c9b1096c406e07d6 b40f94ebe40d607a\n",
      "43 : d63c0ffef5495cd1 1c586c7691c2deed 9d0cab0757abb754 95cd9eb151055fe4\n",
      "     8c08306eb3adf98a 592d278643b3fefc 70e591ecb04d6907 c9b1096c406e07d6\n",
      "44 : 5b5e0d2f5035cb7e d63c0ffef5495cd1 1c586c7691c2deed 9d0cab0757abb754\n",
      "     40e273d9158bc87e 8c08306eb3adf98a 592d278643b3fefc 70e591ecb04d6907\n",
      "45 : a634e6e73958e497 5b5e0d2f5035cb7e d63c0ffef5495cd1 1c586c7691c2deed\n",
      "     5af3d5c2e040cf4a 40e273d9158bc87e 8c08306eb3adf98a 592d278643b3fefc\n",
      "46 : 12ab1b485ef19e3b a634e6e73958e497 5b5e0d2f5035cb7e d63c0ffef5495cd1\n",
      "     c31cb638d9cb724a 5af3d5c2e040cf4a 40e273d9158bc87e 8c08306eb3adf98a\n",
      "47 : 7fe3ad92c12b7c79 12ab1b485ef19e3b a634e6e73958e497 5b5e0d2f5035cb7e\n",
      "     dbc9471ec5c4e6aa c31cb638d9cb724a 5af3d5c2e040cf4a 40e273d9158bc87e\n",
      "48 : 62554f69754ee9f5 7fe3ad92c12b7c79 12ab1b485ef19e3b a634e6e73958e497\n",
      "     ff905e6518ccc425 dbc9471ec5c4e6aa c31cb638d9cb724a 5af3d5c2e040cf4a\n",
      "49 : 2119e86bc73c587b 62554f69754ee9f5 7fe3ad92c12b7c79 12ab1b485ef19e3b\n",
      "     79140712142430c6 ff905e6518ccc425 dbc9471ec5c4e6aa c31cb638d9cb724a\n",
      "50 : 5c44755a9c16a744 2119e86bc73c587b 62554f69754ee9f5 7fe3ad92c12b7c79\n",
      "     b618ba1b063efd90 79140712142430c6 ff905e6518ccc425 dbc9471ec5c4e6aa\n",
      "51 : 150b4076b0d47e5c 5c44755a9c16a744 2119e86bc73c587b 62554f69754ee9f5\n",
      "     61418fc340f2514b b618ba1b063efd90 79140712142430c6 ff905e6518ccc425\n",
      "52 : 95deeb71ab34292a 150b4076b0d47e5c 5c44755a9c16a744 2119e86bc73c587b\n",
      "     971787b59e91d2cd 61418fc340f2514b b618ba1b063efd90 79140712142430c6\n",
      "53 : c6dadb6e53566b08 95deeb71ab34292a 150b4076b0d47e5c 5c44755a9c16a744\n",
      "     97cc71b5b4cbe427 971787b59e91d2cd 61418fc340f2514b b618ba1b063efd90\n",
      "54 : 4d915f98719e3e7d c6dadb6e53566b08 95deeb71ab34292a 150b4076b0d47e5c\n",
      "     96e582e40cc9c531 97cc71b5b4cbe427 971787b59e91d2cd 61418fc340f2514b\n",
      "55 : ae1b19dbfe46f0fa 4d915f98719e3e7d c6dadb6e53566b08 95deeb71ab34292a\n",
      "     c7e42aa2cb1ab750 96e582e40cc9c531 97cc71b5b4cbe427 971787b59e91d2cd\n",
      "56 : 213592356fecf16b ae1b19dbfe46f0fa 4d915f98719e3e7d c6dadb6e53566b08\n",
      "     3c76e356e85f3223 c7e42aa2cb1ab750 96e582e40cc9c531 97cc71b5b4cbe427\n",
      "57 : f36f87b8ba9d3cac 213592356fecf16b ae1b19dbfe46f0fa 4d915f98719e3e7d\n",
      "     bd4d548380ce8a3a 3c76e356e85f3223 c7e42aa2cb1ab750 96e582e40cc9c531\n",
      "58 : de9008d88c4f501c f36f87b8ba9d3cac 213592356fecf16b ae1b19dbfe46f0fa\n",
      "     92e01519ab5b5845 bd4d548380ce8a3a 3c76e356e85f3223 c7e42aa2cb1ab750\n",
      "59 : 6530ef142dd15ac4 de9008d88c4f501c f36f87b8ba9d3cac 213592356fecf16b\n",
      "     c9183acc96312be3 92e01519ab5b5845 bd4d548380ce8a3a 3c76e356e85f3223\n",
      "60 : 787127ee9a226c08 6530ef142dd15ac4 de9008d88c4f501c f36f87b8ba9d3cac\n",
      "     a43bd2489aa9598e c9183acc96312be3 92e01519ab5b5845 bd4d548380ce8a3a\n",
      "61 : 40c2542ea9b96291 787127ee9a226c08 6530ef142dd15ac4 de9008d88c4f501c\n",
      "     de678cad4e1471d4 a43bd2489aa9598e c9183acc96312be3 92e01519ab5b5845\n",
      "62 : 0c26d70417552d27 40c2542ea9b96291 787127ee9a226c08 6530ef142dd15ac4\n",
      "     1d9b75387b5ebf7a de678cad4e1471d4 a43bd2489aa9598e c9183acc96312be3\n",
      "63 : 57e0e0603d27450d 0c26d70417552d27 40c2542ea9b96291 787127ee9a226c08\n",
      "     fc0644e2804aaba2 1d9b75387b5ebf7a de678cad4e1471d4 a43bd2489aa9598e\n",
      "64 : 478a281f6eb9b2e7 57e0e0603d27450d 0c26d70417552d27 40c2542ea9b96291\n",
      "     5dd0accd9a4cba0f fc0644e2804aaba2 1d9b75387b5ebf7a de678cad4e1471d4\n",
      "65 : f17103f3d9f26e62 478a281f6eb9b2e7 57e0e0603d27450d 0c26d70417552d27\n",
      "     dba84675dca78c2b 5dd0accd9a4cba0f fc0644e2804aaba2 1d9b75387b5ebf7a\n",
      "66 : 1d355f2e6f9f3882 f17103f3d9f26e62 478a281f6eb9b2e7 57e0e0603d27450d\n",
      "     42927c539a92617c dba84675dca78c2b 5dd0accd9a4cba0f fc0644e2804aaba2\n",
      "67 : b87a3ecd1dcea4d8 1d355f2e6f9f3882 f17103f3d9f26e62 478a281f6eb9b2e7\n",
      "     7c5e9b7d9b17df70 42927c539a92617c dba84675dca78c2b 5dd0accd9a4cba0f\n",
      "68 : a137e78ba688cdcb b87a3ecd1dcea4d8 1d355f2e6f9f3882 f17103f3d9f26e62\n",
      "     2dae75c79e96bcd1 7c5e9b7d9b17df70 42927c539a92617c dba84675dca78c2b\n",
      "69 : 919d5e98302e72fd a137e78ba688cdcb b87a3ecd1dcea4d8 1d355f2e6f9f3882\n",
      "     3372e4a96e2045fe 2dae75c79e96bcd1 7c5e9b7d9b17df70 42927c539a92617c\n",
      "70 : 8139443acc07ae8a 919d5e98302e72fd a137e78ba688cdcb b87a3ecd1dcea4d8\n",
      "     aea2355c80867d9b 3372e4a96e2045fe 2dae75c79e96bcd1 7c5e9b7d9b17df70\n",
      "71 : 193c40f6eb97aaef 8139443acc07ae8a 919d5e98302e72fd a137e78ba688cdcb\n",
      "     49962cd1be7f00d2 aea2355c80867d9b 3372e4a96e2045fe 2dae75c79e96bcd1\n",
      "72 : 2ff9053adf9d7a60 193c40f6eb97aaef 8139443acc07ae8a 919d5e98302e72fd\n",
      "     51ab3cec1265356a 49962cd1be7f00d2 aea2355c80867d9b 3372e4a96e2045fe\n",
      "73 : b85bcc4316cf2af3 2ff9053adf9d7a60 193c40f6eb97aaef 8139443acc07ae8a\n",
      "     053024324334121d 51ab3cec1265356a 49962cd1be7f00d2 aea2355c80867d9b\n",
      "74 : 3965716b97e73e0b b85bcc4316cf2af3 2ff9053adf9d7a60 193c40f6eb97aaef\n",
      "     51b87560f77540f9 053024324334121d 51ab3cec1265356a 49962cd1be7f00d2\n",
      "75 : 8074d14469258a26 3965716b97e73e0b b85bcc4316cf2af3 2ff9053adf9d7a60\n",
      "     1391eb826e717ab1 51b87560f77540f9 053024324334121d 51ab3cec1265356a\n",
      "76 : 824bedf747e68c44 8074d14469258a26 3965716b97e73e0b b85bcc4316cf2af3\n",
      "     f90b95f9254c12cc 1391eb826e717ab1 51b87560f77540f9 053024324334121d\n",
      "77 : 1b527b816a1d307d 824bedf747e68c44 8074d14469258a26 3965716b97e73e0b\n",
      "     1229ac1babdc1998 f90b95f9254c12cc 1391eb826e717ab1 51b87560f77540f9\n",
      "78 : 5185cd66093dfcdb 1b527b816a1d307d 824bedf747e68c44 8074d14469258a26\n",
      "     0f17d35e2c3a3081 1229ac1babdc1998 f90b95f9254c12cc 1391eb826e717ab1\n",
      "79 : b640a95ee9eb6602 5185cd66093dfcdb 1b527b816a1d307d 824bedf747e68c44\n",
      "     45eec3418d348528 0f17d35e2c3a3081 1229ac1babdc1998 f90b95f9254c12cc\n",
      "\n",
      "*** SHA Buffers after processing chunk ***\n",
      "[H0..H7] = [204a8fc6dda82f0a ced7beb8e08a416 57c16ef468b228a8 279be331a703c335 96fd15c13b1b07f9 aa1d3bea57789ca0 31ad85c7a71dd703 54ec631238ca3445]\n",
      "\n",
      "\n"
     ]
    }
   ],
   "source": [
    "# Loop though the various 1024 bit blocks of a long message.\n",
    "N = int(len(processed_message)/128)\n",
    "for i in range(0,N):\n",
    "    M = processed_message[i:i+128]\n",
    "    print(\"PROCESSING bytes \"+str(i)+\"...\"+str(i+128))\n",
    "    print(\"\\nMessage chunk being processed :\\n\"+str(M)+\" \\n\")\n",
    "    W = words(M)\n",
    "    # Prepare Message Schedule. Ensure that the words are 1024bit long (& 0xFFFFFFFFFFFFFFFF)\n",
    "    for t in range (16,80):\n",
    "        W[t] = (sig1(W[t-2]) + W[t-7] + sig0(W[t-15]) + W[t-16]) & 0xFFFFFFFFFFFFFFFF\n",
    "    # Initilize state variables\n",
    "    [A,B,C,D,E,F,G,H]=[h0,h1,h2,h3,h4,h5,h6,h7]\n",
    "    print(\" t   A/E              B/F              C/G              D/H\")\n",
    "    for t in range (0,80):\n",
    "        T1 = (H + SIGMA1(E) + Ch(E,F,G) + K[t] + W[t]) & 0xFFFFFFFFFFFFFFFF\n",
    "        T2 = (SIGMA0(A) + Maj(A,B,C)) & 0xFFFFFFFFFFFFFFFF\n",
    "        [H, G, F, E, D, C, B, A] = [G, F, E, (D+T1)& 0xFFFFFFFFFFFFFFFF, C, B, A, (T1+T2)& 0xFFFFFFFFFFFFFFFF]\n",
    "        print_state(t,A,B,C,D,E,F,G,H)\n",
    "    [h0,h1,h2,h3,h4,h5,h6,h7]=[(h0+A)& 0xFFFFFFFFFFFFFFFF, (h1+B)& 0xFFFFFFFFFFFFFFFF, (h2+C)& 0xFFFFFFFFFFFFFFFF, (h3+D)& 0xFFFFFFFFFFFFFFFF, (h4+E)& 0xFFFFFFFFFFFFFFFF, (h5+F)& 0xFFFFFFFFFFFFFFFF, (h6+G)& 0xFFFFFFFFFFFFFFFF, (h7+H)& 0xFFFFFFFFFFFFFFFF]\n",
    "\n",
    "    # Display Updated SHA Buffers\n",
    "    print(\"\\n*** SHA Buffers after processing chunk ***\\n[H0..H7] = \"+\"[{:8x} {:8x} {:8x} {:8x} {:8x} {:8x} {:8x} {:8x}]\".format(h0,h1,h2,h3,h4,h5,h6,h7)+\"\\n\\n\")"
   ]
  },
  {
   "cell_type": "code",
   "execution_count": 13,
   "metadata": {},
   "outputs": [
    {
     "name": "stdout",
     "output_type": "stream",
     "text": [
      "OUTPUT            : 204a8fc6dda82f0aced7beb8e08a41657c16ef468b228a8279be331a703c33596fd15c13b1b07f9aa1d3bea57789ca031ad85c7a71dd70354ec631238ca3445\n",
      "REF. Hash         : 0x???\n"
     ]
    }
   ],
   "source": [
    "# Compute output hash from the MD buffers.\n",
    "output_hash = '{}'.format(''.join('{:08x}'.format(x) for x in [h0,h1,h2,h3,h4,h5,h6,h7]))\n",
    "\n",
    "# The MD5 hash starts with the lowest order byte of A ... highest order byte of D\n",
    "print(\"OUTPUT            : \"+output_hash)\n",
    "print(\"REF. Hash         : 0x\"+ref_hash)"
   ]
  },
  {
   "cell_type": "markdown",
   "metadata": {},
   "source": [
    "## Compare with Python's `hashlib`"
   ]
  },
  {
   "cell_type": "code",
   "execution_count": 14,
   "metadata": {},
   "outputs": [],
   "source": [
    "import hashlib"
   ]
  },
  {
   "cell_type": "code",
   "execution_count": 15,
   "metadata": {},
   "outputs": [
    {
     "name": "stdout",
     "output_type": "stream",
     "text": [
      "Hashlib SHA512 : 0x204a8fc6dda82f0a0ced7beb8e08a41657c16ef468b228a8279be331a703c33596fd15c13b1b07f9aa1d3bea57789ca031ad85c7a71dd70354ec631238ca3445\n"
     ]
    }
   ],
   "source": [
    "H = hashlib.new('SHA512')\n",
    "H.update(message_b)\n",
    "sha512hash=H.hexdigest()\n",
    "print(\"Hashlib SHA512 : 0x\"+sha512hash)"
   ]
  },
  {
   "cell_type": "markdown",
   "metadata": {},
   "source": [
    "### References\n",
    "\n",
    "[SHA1](https://www.ietf.org/rfc/rfc3174.txt)\n",
    "2. [Wikipedia](https://en.wikipedia.org/wiki/SHA1)\n",
    "3. [Rosetta Code](https://rosettacode.org/wiki/SHA1/Implementation#Python)\n",
    "4. [Merkle Damgård construction](https://en.wikipedia.org/wiki/Merkle%E2%80%93Damg%C3%A5rd_construction)"
   ]
  }
 ],
 "metadata": {
  "kernelspec": {
   "display_name": "Python [conda env:anaconda3]",
   "language": "python",
   "name": "conda-env-anaconda3-py"
  },
  "language_info": {
   "codemirror_mode": {
    "name": "ipython",
    "version": 3
   },
   "file_extension": ".py",
   "mimetype": "text/x-python",
   "name": "python",
   "nbconvert_exporter": "python",
   "pygments_lexer": "ipython3",
   "version": "3.6.5"
  },
  "varInspector": {
   "cols": {
    "lenName": 16,
    "lenType": 16,
    "lenVar": 40
   },
   "kernels_config": {
    "python": {
     "delete_cmd_postfix": "",
     "delete_cmd_prefix": "del ",
     "library": "var_list.py",
     "varRefreshCmd": "print(var_dic_list())"
    },
    "r": {
     "delete_cmd_postfix": ") ",
     "delete_cmd_prefix": "rm(",
     "library": "var_list.r",
     "varRefreshCmd": "cat(var_dic_list()) "
    }
   },
   "types_to_exclude": [
    "module",
    "function",
    "builtin_function_or_method",
    "instance",
    "_Feature"
   ],
   "window_display": false
  }
 },
 "nbformat": 4,
 "nbformat_minor": 2
}
