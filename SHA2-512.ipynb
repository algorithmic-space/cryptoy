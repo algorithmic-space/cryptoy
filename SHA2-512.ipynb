{
 "cells": [
  {
   "cell_type": "markdown",
   "metadata": {},
   "source": [
    "# SHA2-512\n",
    "** Implementation of the Secure Hash Algorithm 2 **\n",
    "\n",
    "*... in Python*\n",
    "\n",
    "[SHA2](specs/FIPS-180-2_SHA-2_%282002+2004%29.pdf)"
   ]
  },
  {
   "cell_type": "markdown",
   "metadata": {},
   "source": [
    "### Define and Select Test Cases"
   ]
  },
  {
   "cell_type": "code",
   "execution_count": 1,
   "metadata": {},
   "outputs": [],
   "source": [
    "test_case=[[\"\",\"???\"],\\\n",
    "           [\"a\",\"???\"],\\\n",
    "           [\"abc\",\"???\"],\\\n",
    "           [\"abcdbcdecdefdefgefghfghighijhijkijkljklmklmnlmnomnopnopq\",\"???\"],\\\n",
    "           [\"abcdefghbcdefghicdefghijdefghijkefghijklfghijklmghijklmnhijklmnoijklmnopjklmnopqklmnopqrlmnopqrsmnopqrstnopqrstu\",\"???\"]]\n",
    "use_test_case = 2\n",
    "##\n",
    "message = test_case[use_test_case][0]\n",
    "ref_hash = test_case[use_test_case][1]"
   ]
  },
  {
   "cell_type": "markdown",
   "metadata": {},
   "source": [
    "### Step 1 - Append Padding Bits\n",
    "\n",
    "The messsage to be hashed is padded to have a length equal to 8 bytes {64 bits} less than being a multiple of 64 bytes {512 bits}. The padding step is performed even if the message length is already of desired length. The padding bit string used is `1` followed by `0` - `100...000`\n",
    "\n",
    "The message length is eventually 56 bytes {448 bits}, 120 bytes {960 bits}, 184 bytes {1472 bits}, 248 bytes {1984 bits} and so on."
   ]
  },
  {
   "cell_type": "code",
   "execution_count": 2,
   "metadata": {},
   "outputs": [
    {
     "name": "stdout",
     "output_type": "stream",
     "text": [
      "Message Length : 3 bytes {24 bits}\n"
     ]
    }
   ],
   "source": [
    "message_len = len(message)\n",
    "message_len_bits = message_len * 8\n",
    "print(\"Message Length : \" + str(message_len) + \" bytes {\" + str(message_len_bits) + \" bits}\")"
   ]
  },
  {
   "cell_type": "code",
   "execution_count": 3,
   "metadata": {},
   "outputs": [],
   "source": [
    "# Encode string to bytes\n",
    "message_b = message.encode('utf-8')"
   ]
  },
  {
   "cell_type": "code",
   "execution_count": 4,
   "metadata": {},
   "outputs": [
    {
     "name": "stdout",
     "output_type": "stream",
     "text": [
      "Padding Length : 109 bytes {872 bits}\n"
     ]
    }
   ],
   "source": [
    "# Calculate padding length\n",
    "padding_len=112-message_len%128\n",
    "padding_len=128 if (padding_len==0) else padding_len\n",
    "print(\"Padding Length : \" + str(padding_len) + \" bytes {\" + str(padding_len * 8) + \" bits}\")"
   ]
  },
  {
   "cell_type": "code",
   "execution_count": 5,
   "metadata": {},
   "outputs": [
    {
     "name": "stdout",
     "output_type": "stream",
     "text": [
      "Padded Message :\n",
      "b'abc\\x80\\x00\\x00\\x00\\x00\\x00\\x00\\x00\\x00\\x00\\x00\\x00\\x00\\x00\\x00\\x00\\x00\\x00\\x00\\x00\\x00\\x00\\x00\\x00\\x00\\x00\\x00\\x00\\x00\\x00\\x00\\x00\\x00\\x00\\x00\\x00\\x00\\x00\\x00\\x00\\x00\\x00\\x00\\x00\\x00\\x00\\x00\\x00\\x00\\x00\\x00\\x00\\x00\\x00\\x00\\x00\\x00\\x00\\x00\\x00\\x00\\x00\\x00\\x00\\x00\\x00\\x00\\x00\\x00\\x00\\x00\\x00\\x00\\x00\\x00\\x00\\x00\\x00\\x00\\x00\\x00\\x00\\x00\\x00\\x00\\x00\\x00\\x00\\x00\\x00\\x00\\x00\\x00\\x00\\x00\\x00\\x00\\x00\\x00\\x00\\x00\\x00\\x00\\x00\\x00\\x00\\x00\\x00\\x00'\n",
      "\n",
      "length(paddedMessage)      : 112 bytes {896 bits}\n",
      "length(paddedMessage) % 128 : 112 bytes {896 bits}\n"
     ]
    }
   ],
   "source": [
    "# Display Padded Message, length and calculation.\n",
    "message_mod871 = message_b + b'\\x80' + b'\\x00' * (padding_len-1)\n",
    "print(\"Padded Message :\\n\"+str(message_mod871))\n",
    "print(\"\\nlength(paddedMessage)      : \"+str(len(message_mod871))+\" bytes {\"+str(len(message_mod871*8))+\" bits}\\nlength(paddedMessage) % 128 : \"+str(len(message_mod871)%128)+\" bytes {\"+str((len(message_mod871)%128) * 8)+\" bits}\" )"
   ]
  },
  {
   "cell_type": "markdown",
   "metadata": {},
   "source": [
    "### Step 2 - Append Length\n",
    "\n",
    "The bit length of the original message is appened to this _64 bits short of %512 bit_ message. This bit length is appeneded as an 8 byte {64 bits} little endian integer.\n",
    "\n",
    "So, a message of length 14 bytes (_try test case # 3_) would have a bit length of 112 bits and the appended 64 bit little endian bit length would be `0x7000000000000000` (as hex) or `b'p\\x00\\x00\\x00\\x00\\x00\\x00\\x00'` (as a byte string). If the message length is $> 2^{64}$ bits, only the lower 64 bits are used for padding."
   ]
  },
  {
   "cell_type": "code",
   "execution_count": 6,
   "metadata": {},
   "outputs": [
    {
     "name": "stdout",
     "output_type": "stream",
     "text": [
      "LSB64(len(unPaddedMessage)) : b'\\x00\\x00\\x00\\x00\\x00\\x00\\x00\\x18'\n",
      "length( paddedMessage | LSB64(len(unPaddedMessage)) ) : 128 bytes {1024 bits}\n",
      "\n",
      "Padded Message | LSB64(len(unPaddedMessage)) :\n",
      "b'abc\\x80\\x00\\x00\\x00\\x00\\x00\\x00\\x00\\x00\\x00\\x00\\x00\\x00\\x00\\x00\\x00\\x00\\x00\\x00\\x00\\x00\\x00\\x00\\x00\\x00\\x00\\x00\\x00\\x00\\x00\\x00\\x00\\x00\\x00\\x00\\x00\\x00\\x00\\x00\\x00\\x00\\x00\\x00\\x00\\x00\\x00\\x00\\x00\\x00\\x00\\x00\\x00\\x00\\x00\\x00\\x00\\x00\\x00\\x00\\x00\\x00\\x00\\x00\\x00\\x00\\x00\\x00\\x00\\x00\\x00\\x00\\x00\\x00\\x00\\x00\\x00\\x00\\x00\\x00\\x00\\x00\\x00\\x00\\x00\\x00\\x00\\x00\\x00\\x00\\x00\\x00\\x00\\x00\\x00\\x00\\x00\\x00\\x00\\x00\\x00\\x00\\x00\\x00\\x00\\x00\\x00\\x00\\x00\\x00\\x00\\x00\\x00\\x00\\x00\\x00\\x00\\x00\\x00\\x00\\x00\\x00\\x00\\x00\\x00\\x18'\n"
     ]
    }
   ],
   "source": [
    "# Append Length\n",
    "processed_message=message_mod871+(message_len_bits%2**128).to_bytes(16,byteorder='big')\n",
    "print(\"LSB64(len(unPaddedMessage)) : \"+str((message_len_bits%2**128).to_bytes(8,byteorder='big')))\n",
    "print(\"length( paddedMessage | LSB64(len(unPaddedMessage)) ) : \"+str(len(processed_message))+\" bytes {\"+str(len(processed_message)*8)+\" bits}\")\n",
    "print(\"\\nPadded Message | LSB64(len(unPaddedMessage)) :\\n\"+str(processed_message))"
   ]
  },
  {
   "cell_type": "markdown",
   "metadata": {},
   "source": [
    "### Step 3 - Initilize Context"
   ]
  },
  {
   "cell_type": "code",
   "execution_count": 7,
   "metadata": {},
   "outputs": [],
   "source": [
    "h0 = 0x6a09e667f3bcc908\n",
    "h1 = 0xbb67ae8584caa73b\n",
    "h2 = 0x3c6ef372fe94f82b\n",
    "h3 = 0xa54ff53a5f1d36f1\n",
    "h4 = 0x510e527fade682d1\n",
    "h5 = 0x9b05688c2b3e6c1f\n",
    "h6 = 0x1f83d9abfb41bd6b\n",
    "h7 = 0x5be0cd19137e2179"
   ]
  },
  {
   "cell_type": "markdown",
   "metadata": {},
   "source": [
    "### Step 4 - Process Message in 16-Word Blocks"
   ]
  },
  {
   "cell_type": "code",
   "execution_count": 8,
   "metadata": {},
   "outputs": [],
   "source": [
    "# Rotate Right\n",
    "def rotr(x,s):\n",
    "    return ( (x>>s) | x<<(64-s))& 0xFFFFFFFFFFFFFFFFFFFFFFFF\n",
    "\n",
    "# Rotate Left\n",
    "def rotl(x,s):\n",
    "    return ( (x<<s) | x>>(64-s))& 0xFFFFFFFFFFFFFFFF\n",
    "\n",
    "# Shift Right\n",
    "def shr(x,s):\n",
    "    return (x>>s) & 0xFFFFFFFFFFFFFFFF\n",
    "\n",
    "'''\n",
    "# Auxulary functions that take in 3x 32bit words and an index integer and return 1x32bit word.\n",
    "def F(t, X, Y, Z):\n",
    "    calc = 0;\n",
    "    if (0<=t & t<=19):\n",
    "        calc = (X|Y)^(X|Z)\n",
    "    elif (20<=t & t<=39):\n",
    "        calc = X^Y^Z\n",
    "    elif (40<=t & t<=59):\n",
    "        calc = (X&Y) | (Y&Z) | (Y&Z)\n",
    "    elif (60<=t & t<=79):\n",
    "        calc = X^Y^Z\n",
    "    else:\n",
    "        raise ValueError('t is not in the range 0<=j<=79 !')\n",
    "    return calc\n",
    "'''\n",
    "\n",
    "def Ch(X, Y, Z):\n",
    "    return (X&Y)^(~X&Z)\n",
    "\n",
    "def Maj(X, Y, Z):\n",
    "    return (X&Y)^(X&Z)^(Y&Z)\n",
    "\n",
    "def SIGMA0(V):\n",
    "    return rotr(V,28)^rotr(V,34)^rotr(V,39)\n",
    "\n",
    "def SIGMA1(V):\n",
    "    return rotr(V,14)^rotr(V,18)^rotr(V,41)\n",
    "\n",
    "def sig0(V):\n",
    "    return rotr(V,1)^rotr(V,8)^shr(V,7)\n",
    "\n",
    "def sig1(V):\n",
    "    return rotr(V,19)^rotr(V,61)^shr(V,6)\n",
    "\n",
    "# Split Message M to words 16x32-bit words\n",
    "def words(M):\n",
    "    word_list=[0]*80\n",
    "    for i in range (0,16):\n",
    "        word_list[i]=int.from_bytes(M[i*8:i*8+8],byteorder='big')\n",
    "    return word_list"
   ]
  },
  {
   "cell_type": "markdown",
   "metadata": {},
   "source": [
    "** function correspondence to FIPS 180-2 document**\n",
    "\n",
    "$\\Sigma^{256}_0$ = `SIGMA0()`\n",
    "\n",
    "$\\Sigma^{256}_1$ = `SIGMA1()`\n",
    "\n",
    "$\\sigma^{256}_0$ = `sig0()`\n",
    "\n",
    "$\\sigma^{256}_1$ = `sig1()`"
   ]
  },
  {
   "cell_type": "code",
   "execution_count": 9,
   "metadata": {},
   "outputs": [],
   "source": [
    "# SHA-512 Constant Table\n",
    "K = [0x428a2f98d728ae22, 0x7137449123ef65cd, 0xb5c0fbcfec4d3b2f, 0xe9b5dba58189dbbc, 0x3956c25bf348b538, 0x59f111f1b605d019, 0x923f82a4af194f9b, 0xab1c5ed5da6d8118, 0xd807aa98a3030242, 0x12835b0145706fbe, 0x243185be4ee4b28c, 0x550c7dc3d5ffb4e2, 0x72be5d74f27b896f, 0x80deb1fe3b1696b1, 0x9bdc06a725c71235, 0xc19bf174cf692694, 0xe49b69c19ef14ad2, 0xefbe4786384f25e3, 0x0fc19dc68b8cd5b5, 0x240ca1cc77ac9c65, 0x2de92c6f592b0275, 0x4a7484aa6ea6e483, 0x5cb0a9dcbd41fbd4, 0x76f988da831153b5, 0x983e5152ee66dfab, 0xa831c66d2db43210, 0xb00327c898fb213f, 0xbf597fc7beef0ee4, 0xc6e00bf33da88fc2, 0xd5a79147930aa725, 0x06ca6351e003826f, 0x142929670a0e6e70, 0x27b70a8546d22ffc, 0x2e1b21385c26c926, 0x4d2c6dfc5ac42aed, 0x53380d139d95b3df, 0x650a73548baf63de, 0x766a0abb3c77b2a8, 0x81c2c92e47edaee6, 0x92722c851482353b, 0xa2bfe8a14cf10364, 0xa81a664bbc423001, 0xc24b8b70d0f89791, 0xc76c51a30654be30, 0xd192e819d6ef5218, 0xd69906245565a910, 0xf40e35855771202a, 0x106aa07032bbd1b8, 0x19a4c116b8d2d0c8, 0x1e376c085141ab53, 0x2748774cdf8eeb99, 0x34b0bcb5e19b48a8, 0x391c0cb3c5c95a63, 0x4ed8aa4ae3418acb, 0x5b9cca4f7763e373, 0x682e6ff3d6b2b8a3, 0x748f82ee5defb2fc, 0x78a5636f43172f60, 0x84c87814a1f0ab72, 0x8cc702081a6439ec, 0x90befffa23631e28, 0xa4506cebde82bde9, 0xbef9a3f7b2c67915, 0xc67178f2e372532b, 0xca273eceea26619c, 0xd186b8c721c0c207, 0xeada7dd6cde0eb1e, 0xf57d4f7fee6ed178, 0x06f067aa72176fba, 0x0a637dc5a2c898a6, 0x113f9804bef90dae, 0x1b710b35131c471b, 0x28db77f523047d84, 0x32caab7b40c72493, 0x3c9ebe0a15c9bebc, 0x431d67c49c100d4c, 0x4cc5d4becb3e42b6, 0x597f299cfc657e2a, 0x5fcb6fab3ad6faec, 0x6c44198c4a475817]"
   ]
  },
  {
   "cell_type": "code",
   "execution_count": 10,
   "metadata": {},
   "outputs": [],
   "source": [
    "# Print functions\n",
    "def print_state(t,a,b,c,d,e,f,g,h):\n",
    "    print(\"{:2d} : {:016x} {:016x} {:016x} {:016x}\".format(t,a,b,c,d))\n",
    "    print(\"     {:016x} {:016x} {:016x} {:016x}\".format(e,f,g,h))    "
   ]
  },
  {
   "cell_type": "code",
   "execution_count": 11,
   "metadata": {
    "scrolled": true
   },
   "outputs": [
    {
     "name": "stdout",
     "output_type": "stream",
     "text": [
      "PROCESSING bytes 0...128\n",
      "\n",
      "Message chunk being processed :\n",
      "b'abc\\x80\\x00\\x00\\x00\\x00\\x00\\x00\\x00\\x00\\x00\\x00\\x00\\x00\\x00\\x00\\x00\\x00\\x00\\x00\\x00\\x00\\x00\\x00\\x00\\x00\\x00\\x00\\x00\\x00\\x00\\x00\\x00\\x00\\x00\\x00\\x00\\x00\\x00\\x00\\x00\\x00\\x00\\x00\\x00\\x00\\x00\\x00\\x00\\x00\\x00\\x00\\x00\\x00\\x00\\x00\\x00\\x00\\x00\\x00\\x00\\x00\\x00\\x00\\x00\\x00\\x00\\x00\\x00\\x00\\x00\\x00\\x00\\x00\\x00\\x00\\x00\\x00\\x00\\x00\\x00\\x00\\x00\\x00\\x00\\x00\\x00\\x00\\x00\\x00\\x00\\x00\\x00\\x00\\x00\\x00\\x00\\x00\\x00\\x00\\x00\\x00\\x00\\x00\\x00\\x00\\x00\\x00\\x00\\x00\\x00\\x00\\x00\\x00\\x00\\x00\\x00\\x00\\x00\\x00\\x00\\x00\\x00\\x00\\x00\\x18' \n",
      "\n",
      " t   A/E              B/F              C/G              D/H\n",
      " 0 : f6afceb8bcfcddf5 6a09e667f3bcc908 bb67ae8584caa73b 3c6ef372fe94f82b\n",
      "     58cb02347ab51f91 510e527fade682d1 9b05688c2b3e6c1f 1f83d9abfb41bd6b\n",
      " 1 : 1320f8c9fb872cc0 f6afceb8bcfcddf5 6a09e667f3bcc908 bb67ae8584caa73b\n",
      "     c3d4ebfd48650ffa 58cb02347ab51f91 510e527fade682d1 9b05688c2b3e6c1f\n",
      " 2 : ebcffc07203d91f3 1320f8c9fb872cc0 f6afceb8bcfcddf5 6a09e667f3bcc908\n",
      "     dfa9b239f2697812 c3d4ebfd48650ffa 58cb02347ab51f91 510e527fade682d1\n",
      " 3 : 5a83cb3e80050e82 ebcffc07203d91f3 1320f8c9fb872cc0 f6afceb8bcfcddf5\n",
      "     0b47b4bb1928990e dfa9b239f2697812 c3d4ebfd48650ffa 58cb02347ab51f91\n",
      " 4 : b680953951604860 5a83cb3e80050e82 ebcffc07203d91f3 1320f8c9fb872cc0\n",
      "     745aca4a342ed2e2 0b47b4bb1928990e dfa9b239f2697812 c3d4ebfd48650ffa\n",
      " 5 : af573b02403e89cd b680953951604860 5a83cb3e80050e82 ebcffc07203d91f3\n",
      "     96f60209b6dc35ba 745aca4a342ed2e2 0b47b4bb1928990e dfa9b239f2697812\n",
      " 6 : c4875b0c7abc076b af573b02403e89cd b680953951604860 5a83cb3e80050e82\n",
      "     5a6c781f54dcc00c 96f60209b6dc35ba 745aca4a342ed2e2 0b47b4bb1928990e\n",
      " 7 : 8093d195e0054fa3 c4875b0c7abc076b af573b02403e89cd b680953951604860\n",
      "     86f67263a0f0ec0a 5a6c781f54dcc00c 96f60209b6dc35ba 745aca4a342ed2e2\n",
      " 8 : f1eca5544cb89225 8093d195e0054fa3 c4875b0c7abc076b af573b02403e89cd\n",
      "     d0403c398fc40002 86f67263a0f0ec0a 5a6c781f54dcc00c 96f60209b6dc35ba\n",
      " 9 : 81782d4a5db48f03 f1eca5544cb89225 8093d195e0054fa3 c4875b0c7abc076b\n",
      "     00091f460be46c52 d0403c398fc40002 86f67263a0f0ec0a 5a6c781f54dcc00c\n",
      "10 : 69854c4aa0f25b59 81782d4a5db48f03 f1eca5544cb89225 8093d195e0054fa3\n",
      "     d375471bde1ba3f4 00091f460be46c52 d0403c398fc40002 86f67263a0f0ec0a\n",
      "11 : db0a9963f80c2eaa 69854c4aa0f25b59 81782d4a5db48f03 f1eca5544cb89225\n",
      "     475975b91a7a462c d375471bde1ba3f4 00091f460be46c52 d0403c398fc40002\n",
      "12 : 5e41214388186c14 db0a9963f80c2eaa 69854c4aa0f25b59 81782d4a5db48f03\n",
      "     cdf3bff2883fc9d9 475975b91a7a462c d375471bde1ba3f4 00091f460be46c52\n",
      "13 : 44249631255d2ca0 5e41214388186c14 db0a9963f80c2eaa 69854c4aa0f25b59\n",
      "     860acf9effba6f61 cdf3bff2883fc9d9 475975b91a7a462c d375471bde1ba3f4\n",
      "14 : fa967eed85a08028 44249631255d2ca0 5e41214388186c14 db0a9963f80c2eaa\n",
      "     874bfe5f6aae9f2f 860acf9effba6f61 cdf3bff2883fc9d9 475975b91a7a462c\n",
      "15 : 0ae07c86b1181c75 fa967eed85a08028 44249631255d2ca0 5e41214388186c14\n",
      "     a77b7c035dd4c161 874bfe5f6aae9f2f 860acf9effba6f61 cdf3bff2883fc9d9\n",
      "16 : caf81a425d800537 0ae07c86b1181c75 fa967eed85a08028 44249631255d2ca0\n",
      "     2deecc6b39d64d78 a77b7c035dd4c161 874bfe5f6aae9f2f 860acf9effba6f61\n",
      "17 : 4725be249ad19e6b caf81a425d800537 0ae07c86b1181c75 fa967eed85a08028\n",
      "     f47e8353f8047455 2deecc6b39d64d78 a77b7c035dd4c161 874bfe5f6aae9f2f\n",
      "18 : 3c4b4104168e3edb 4725be249ad19e6b caf81a425d800537 0ae07c86b1181c75\n",
      "     29695fd88d81dbd0 f47e8353f8047455 2deecc6b39d64d78 a77b7c035dd4c161\n",
      "19 : 9a3fb4d38ab6cf06 3c4b4104168e3edb 4725be249ad19e6b caf81a425d800537\n",
      "     f14998dd5f70767e 29695fd88d81dbd0 f47e8353f8047455 2deecc6b39d64d78\n",
      "20 : 8dc5ae65569d3855 9a3fb4d38ab6cf06 3c4b4104168e3edb 4725be249ad19e6b\n",
      "     4bb9e66d1145bfdc f14998dd5f70767e 29695fd88d81dbd0 f47e8353f8047455\n",
      "21 : da34d6673d452dcf 8dc5ae65569d3855 9a3fb4d38ab6cf06 3c4b4104168e3edb\n",
      "     8e30ff09ad488753 4bb9e66d1145bfdc f14998dd5f70767e 29695fd88d81dbd0\n",
      "22 : 3e2644567b709a78 da34d6673d452dcf 8dc5ae65569d3855 9a3fb4d38ab6cf06\n",
      "     0ac2b11da8f571c6 8e30ff09ad488753 4bb9e66d1145bfdc f14998dd5f70767e\n",
      "23 : 4f6877b58fe55484 3e2644567b709a78 da34d6673d452dcf 8dc5ae65569d3855\n",
      "     c66005f87db55233 0ac2b11da8f571c6 8e30ff09ad488753 4bb9e66d1145bfdc\n",
      "24 : 9aff71163fa3a940 4f6877b58fe55484 3e2644567b709a78 da34d6673d452dcf\n",
      "     d3ecf13769180e6f c66005f87db55233 0ac2b11da8f571c6 8e30ff09ad488753\n",
      "25 : 0bc5f791f8e6816b 9aff71163fa3a940 4f6877b58fe55484 3e2644567b709a78\n",
      "     6ddf1fd7edcce336 d3ecf13769180e6f c66005f87db55233 0ac2b11da8f571c6\n",
      "26 : 884c3bc27bc4f941 0bc5f791f8e6816b 9aff71163fa3a940 4f6877b58fe55484\n",
      "     e6e48c9a8e948365 6ddf1fd7edcce336 d3ecf13769180e6f c66005f87db55233\n",
      "27 : eab4a9e5771b8d09 884c3bc27bc4f941 0bc5f791f8e6816b 9aff71163fa3a940\n",
      "     09068a4e255a0dac e6e48c9a8e948365 6ddf1fd7edcce336 d3ecf13769180e6f\n",
      "28 : e62349090f47d30a eab4a9e5771b8d09 884c3bc27bc4f941 0bc5f791f8e6816b\n",
      "     0fcdf99710f21584 09068a4e255a0dac e6e48c9a8e948365 6ddf1fd7edcce336\n",
      "29 : 74bf40f869094c63 e62349090f47d30a eab4a9e5771b8d09 884c3bc27bc4f941\n",
      "     f0aec2fe1437f085 0fcdf99710f21584 09068a4e255a0dac e6e48c9a8e948365\n",
      "30 : 4c4fbbb75f1873a6 74bf40f869094c63 e62349090f47d30a eab4a9e5771b8d09\n",
      "     73e025d91b9efea3 f0aec2fe1437f085 0fcdf99710f21584 09068a4e255a0dac\n",
      "31 : ff4d3f1f0d46a736 4c4fbbb75f1873a6 74bf40f869094c63 e62349090f47d30a\n",
      "     3cd388e119e8162e 73e025d91b9efea3 f0aec2fe1437f085 0fcdf99710f21584\n",
      "32 : a0509015ca08c8d4 ff4d3f1f0d46a736 4c4fbbb75f1873a6 74bf40f869094c63\n",
      "     e1034573654a106f 3cd388e119e8162e 73e025d91b9efea3 f0aec2fe1437f085\n",
      "33 : 60d4e6995ed91fe6 a0509015ca08c8d4 ff4d3f1f0d46a736 4c4fbbb75f1873a6\n",
      "     efabbd8bf47c041a e1034573654a106f 3cd388e119e8162e 73e025d91b9efea3\n",
      "34 : 2c59ec7743632621 60d4e6995ed91fe6 a0509015ca08c8d4 ff4d3f1f0d46a736\n",
      "     0fbae670fa780fd3 efabbd8bf47c041a e1034573654a106f 3cd388e119e8162e\n",
      "35 : 1a081afc59fdbc2c 2c59ec7743632621 60d4e6995ed91fe6 a0509015ca08c8d4\n",
      "     f098082f502b44cd 0fbae670fa780fd3 efabbd8bf47c041a e1034573654a106f\n",
      "36 : 88df85b0bbe77514 1a081afc59fdbc2c 2c59ec7743632621 60d4e6995ed91fe6\n",
      "     8fbfd0162bbf4675 f098082f502b44cd 0fbae670fa780fd3 efabbd8bf47c041a\n",
      "37 : 002bb8e4cd989567 88df85b0bbe77514 1a081afc59fdbc2c 2c59ec7743632621\n",
      "     66adcfa249ac7bbd 8fbfd0162bbf4675 f098082f502b44cd 0fbae670fa780fd3\n",
      "38 : b3bb8542b3376de5 002bb8e4cd989567 88df85b0bbe77514 1a081afc59fdbc2c\n",
      "     b49596c20feba7de 66adcfa249ac7bbd 8fbfd0162bbf4675 f098082f502b44cd\n",
      "39 : 8e01e125b855d225 b3bb8542b3376de5 002bb8e4cd989567 88df85b0bbe77514\n",
      "     0c710a47ba6a567b b49596c20feba7de 66adcfa249ac7bbd 8fbfd0162bbf4675\n",
      "40 : b01521dd6a6be12c 8e01e125b855d225 b3bb8542b3376de5 002bb8e4cd989567\n",
      "     169008b3a4bb170b 0c710a47ba6a567b b49596c20feba7de 66adcfa249ac7bbd\n",
      "41 : e96f89dd48cbd851 b01521dd6a6be12c 8e01e125b855d225 b3bb8542b3376de5\n",
      "     f0996439e7b50cb1 169008b3a4bb170b 0c710a47ba6a567b b49596c20feba7de\n",
      "42 : bc05ba8de5d3c480 e96f89dd48cbd851 b01521dd6a6be12c 8e01e125b855d225\n",
      "     639cb938e14dc190 f0996439e7b50cb1 169008b3a4bb170b 0c710a47ba6a567b\n",
      "43 : 35d7e7f41defcbd5 bc05ba8de5d3c480 e96f89dd48cbd851 b01521dd6a6be12c\n",
      "     cc5100997f5710f2 639cb938e14dc190 f0996439e7b50cb1 169008b3a4bb170b\n",
      "44 : c47c9d5c7ea8a234 35d7e7f41defcbd5 bc05ba8de5d3c480 e96f89dd48cbd851\n",
      "     858d832ae0e8911c cc5100997f5710f2 639cb938e14dc190 f0996439e7b50cb1\n",
      "45 : 021fbadbabab5ac6 c47c9d5c7ea8a234 35d7e7f41defcbd5 bc05ba8de5d3c480\n",
      "     e95c2a57572d64d9 858d832ae0e8911c cc5100997f5710f2 639cb938e14dc190\n",
      "46 : f61e672694de2d67 021fbadbabab5ac6 c47c9d5c7ea8a234 35d7e7f41defcbd5\n",
      "     c6bc35740d8daa9a e95c2a57572d64d9 858d832ae0e8911c cc5100997f5710f2\n",
      "47 : 6b69fc1bb482feac f61e672694de2d67 021fbadbabab5ac6 c47c9d5c7ea8a234\n",
      "     35264334c03ac8ad c6bc35740d8daa9a e95c2a57572d64d9 858d832ae0e8911c\n",
      "48 : 571f323d96b3a047 6b69fc1bb482feac f61e672694de2d67 021fbadbabab5ac6\n",
      "     271580ed6c3e5650 35264334c03ac8ad c6bc35740d8daa9a e95c2a57572d64d9\n",
      "49 : ca9bd862c5050918 571f323d96b3a047 6b69fc1bb482feac f61e672694de2d67\n",
      "     dfe091dab182e645 271580ed6c3e5650 35264334c03ac8ad c6bc35740d8daa9a\n",
      "50 : 813a43dd2c502043 ca9bd862c5050918 571f323d96b3a047 6b69fc1bb482feac\n",
      "     07a0d8ef821c5e1a dfe091dab182e645 271580ed6c3e5650 35264334c03ac8ad\n",
      "51 : d43f83727325dd77 813a43dd2c502043 ca9bd862c5050918 571f323d96b3a047\n",
      "     483f80a82eaee23e 07a0d8ef821c5e1a dfe091dab182e645 271580ed6c3e5650\n",
      "52 : 03df11b32d42e203 d43f83727325dd77 813a43dd2c502043 ca9bd862c5050918\n",
      "     504f94e40591cffa 483f80a82eaee23e 07a0d8ef821c5e1a dfe091dab182e645\n",
      "53 : d63f68037ddf06aa 03df11b32d42e203 d43f83727325dd77 813a43dd2c502043\n",
      "     a6781efe1aa1ce02 504f94e40591cffa 483f80a82eaee23e 07a0d8ef821c5e1a\n",
      "54 : f650857b5babda4d d63f68037ddf06aa 03df11b32d42e203 d43f83727325dd77\n",
      "     9ccfb31a86df0f86 a6781efe1aa1ce02 504f94e40591cffa 483f80a82eaee23e\n",
      "55 : 63b460e42748817e f650857b5babda4d d63f68037ddf06aa 03df11b32d42e203\n",
      "     c6b4dd2a9931c509 9ccfb31a86df0f86 a6781efe1aa1ce02 504f94e40591cffa\n",
      "56 : 7a52912943d52b05 63b460e42748817e f650857b5babda4d d63f68037ddf06aa\n",
      "     d2e89bbd91e00be0 c6b4dd2a9931c509 9ccfb31a86df0f86 a6781efe1aa1ce02\n",
      "57 : 4b81c3aec976ea4b 7a52912943d52b05 63b460e42748817e f650857b5babda4d\n",
      "     70505988124351ac d2e89bbd91e00be0 c6b4dd2a9931c509 9ccfb31a86df0f86\n",
      "58 : 581ecb3355dcd9b8 4b81c3aec976ea4b 7a52912943d52b05 63b460e42748817e\n",
      "     6a3c9b0f71c8bf36 70505988124351ac d2e89bbd91e00be0 c6b4dd2a9931c509\n",
      "59 : 2c074484ef1eac8c 581ecb3355dcd9b8 4b81c3aec976ea4b 7a52912943d52b05\n",
      "     4797cde4ed370692 6a3c9b0f71c8bf36 70505988124351ac d2e89bbd91e00be0\n",
      "60 : 3857dfd2fc37d3ba 2c074484ef1eac8c 581ecb3355dcd9b8 4b81c3aec976ea4b\n",
      "     a6af4e9c9f807e51 4797cde4ed370692 6a3c9b0f71c8bf36 70505988124351ac\n",
      "61 : cfcd928c5424e2b6 3857dfd2fc37d3ba 2c074484ef1eac8c 581ecb3355dcd9b8\n",
      "     09aee5bda1644de5 a6af4e9c9f807e51 4797cde4ed370692 6a3c9b0f71c8bf36\n",
      "62 : a81dedbb9f19e643 cfcd928c5424e2b6 3857dfd2fc37d3ba 2c074484ef1eac8c\n",
      "     84058865d60a05fa 09aee5bda1644de5 a6af4e9c9f807e51 4797cde4ed370692\n",
      "63 : ab44e86276478d85 a81dedbb9f19e643 cfcd928c5424e2b6 3857dfd2fc37d3ba\n",
      "     cd881ee59ca6bc53 84058865d60a05fa 09aee5bda1644de5 a6af4e9c9f807e51\n",
      "64 : 5a806d7e9821a501 ab44e86276478d85 a81dedbb9f19e643 cfcd928c5424e2b6\n",
      "     aa84b086688a5c45 cd881ee59ca6bc53 84058865d60a05fa 09aee5bda1644de5\n",
      "65 : eeb9c21bb0102598 5a806d7e9821a501 ab44e86276478d85 a81dedbb9f19e643\n",
      "     3b5fed0d6a1f96e1 aa84b086688a5c45 cd881ee59ca6bc53 84058865d60a05fa\n",
      "66 : 46c4210ab2cc155d eeb9c21bb0102598 5a806d7e9821a501 ab44e86276478d85\n",
      "     29fab5a7bff53366 3b5fed0d6a1f96e1 aa84b086688a5c45 cd881ee59ca6bc53\n",
      "67 : 54ba35cf56a0340e 46c4210ab2cc155d eeb9c21bb0102598 5a806d7e9821a501\n",
      "     1c66f46d95690bcf 29fab5a7bff53366 3b5fed0d6a1f96e1 aa84b086688a5c45\n",
      "68 : 181839d609c79748 54ba35cf56a0340e 46c4210ab2cc155d eeb9c21bb0102598\n",
      "     0ada78ba2d446140 1c66f46d95690bcf 29fab5a7bff53366 3b5fed0d6a1f96e1\n",
      "69 : fb6aaae5d0b6a447 181839d609c79748 54ba35cf56a0340e 46c4210ab2cc155d\n",
      "     e3711cb6564d112d 0ada78ba2d446140 1c66f46d95690bcf 29fab5a7bff53366\n",
      "70 : 7652c579cb60f19c fb6aaae5d0b6a447 181839d609c79748 54ba35cf56a0340e\n",
      "     aff62c9665ff80fa e3711cb6564d112d 0ada78ba2d446140 1c66f46d95690bcf\n",
      "71 : f15e9664b2803575 7652c579cb60f19c fb6aaae5d0b6a447 181839d609c79748\n",
      "     947c3dfafee570ef aff62c9665ff80fa e3711cb6564d112d 0ada78ba2d446140\n",
      "72 : 358406d165aee9ab f15e9664b2803575 7652c579cb60f19c fb6aaae5d0b6a447\n",
      "     8c7b5fd91a794ca0 947c3dfafee570ef aff62c9665ff80fa e3711cb6564d112d\n",
      "73 : 20878dcd29cdfaf5 358406d165aee9ab f15e9664b2803575 7652c579cb60f19c\n",
      "     054d3536539948d0 8c7b5fd91a794ca0 947c3dfafee570ef aff62c9665ff80fa\n",
      "74 : 33d48dabb5521de2 20878dcd29cdfaf5 358406d165aee9ab f15e9664b2803575\n",
      "     2ba18245b50de4cf 054d3536539948d0 8c7b5fd91a794ca0 947c3dfafee570ef\n",
      "75 : c8960e6be864b916 33d48dabb5521de2 20878dcd29cdfaf5 358406d165aee9ab\n",
      "     995019a6ff3ba3de 2ba18245b50de4cf 054d3536539948d0 8c7b5fd91a794ca0\n",
      "76 : 654ef9abec389ca9 c8960e6be864b916 33d48dabb5521de2 20878dcd29cdfaf5\n",
      "     ceb9fc3691ce8326 995019a6ff3ba3de 2ba18245b50de4cf 054d3536539948d0\n",
      "77 : d67806db8b148677 654ef9abec389ca9 c8960e6be864b916 33d48dabb5521de2\n",
      "     25c96a7768fb2aa3 ceb9fc3691ce8326 995019a6ff3ba3de 2ba18245b50de4cf\n",
      "78 : 10d9c4c4295599f6 d67806db8b148677 654ef9abec389ca9 c8960e6be864b916\n",
      "     9bb4d39778c07f9e 25c96a7768fb2aa3 ceb9fc3691ce8326 995019a6ff3ba3de\n",
      "79 : 73a54f399fa4b1b2 10d9c4c4295599f6 d67806db8b148677 654ef9abec389ca9\n",
      "     d08446aa79693ed7 9bb4d39778c07f9e 25c96a7768fb2aa3 ceb9fc3691ce8326\n",
      "\n",
      "*** SHA Buffers after processing chunk ***\n",
      "[H0..H7] = [ddaf35a193617aba cc417349ae204131 12e6fa4e89a97ea2 a9eeee64b55d39a 2192992a274fc1a8 36ba3c23a3feebbd 454d4423643ce80e 2a9ac94fa54ca49f]\n",
      "\n",
      "\n"
     ]
    }
   ],
   "source": [
    "# Loop though the various 512 bit blocks of a long message.\n",
    "N = int(len(processed_message)/128)\n",
    "for i in range(0,N):\n",
    "    M = processed_message[i:i+128]\n",
    "    print(\"PROCESSING bytes \"+str(i)+\"...\"+str(i+128))\n",
    "    print(\"\\nMessage chunk being processed :\\n\"+str(M)+\" \\n\")\n",
    "    W = words(M)\n",
    "    # Prepare Message Schedule\n",
    "    for t in range (16,80):\n",
    "        W[t] = (sig1(W[t-2]) + W[t-7] + sig0(W[t-15]) + W[t-16]) & 0xFFFFFFFFFFFFFFFF\n",
    "    # Initilize state variables\n",
    "    [A,B,C,D,E,F,G,H]=[h0,h1,h2,h3,h4,h5,h6,h7]\n",
    "    print(\" t   A/E              B/F              C/G              D/H\")\n",
    "    for t in range (0,80):\n",
    "        T1 = (H + SIGMA1(E) + Ch(E,F,G) + K[t] + W[t]) & 0xFFFFFFFFFFFFFFFF\n",
    "        T2 = (SIGMA0(A) + Maj(A,B,C)) & 0xFFFFFFFFFFFFFFFF\n",
    "        [H, G, F, E, D, C, B, A] = [G, F, E, (D+T1)& 0xFFFFFFFFFFFFFFFF, C, B, A, (T1+T2)& 0xFFFFFFFFFFFFFFFF]\n",
    "        print_state(t,A,B,C,D,E,F,G,H)\n",
    "    [h0,h1,h2,h3,h4,h5,h6,h7]=[(h0+A)& 0xFFFFFFFFFFFFFFFF, (h1+B)& 0xFFFFFFFFFFFFFFFF, (h2+C)& 0xFFFFFFFFFFFFFFFF, (h3+D)& 0xFFFFFFFFFFFFFFFF, (h4+E)& 0xFFFFFFFFFFFFFFFF, (h5+F)& 0xFFFFFFFFFFFFFFFF, (h6+G)& 0xFFFFFFFFFFFFFFFF, (h7+H)& 0xFFFFFFFFFFFFFFFF]\n",
    "\n",
    "    # Display Updated MD Buffers\n",
    "    print(\"\\n*** SHA Buffers after processing chunk ***\\n[H0..H7] = \"+\"[{:8x} {:8x} {:8x} {:8x} {:8x} {:8x} {:8x} {:8x}]\".format(h0,h1,h2,h3,h4,h5,h6,h7)+\"\\n\\n\")"
   ]
  },
  {
   "cell_type": "code",
   "execution_count": 12,
   "metadata": {},
   "outputs": [
    {
     "name": "stdout",
     "output_type": "stream",
     "text": [
      "OUTPUT            : ddaf35a193617abacc417349ae20413112e6fa4e89a97ea2a9eeee64b55d39a2192992a274fc1a836ba3c23a3feebbd454d4423643ce80e2a9ac94fa54ca49f\n",
      "REF. Hash         : 0x???\n"
     ]
    }
   ],
   "source": [
    "# Compute output hash from the MD buffers.\n",
    "output_hash = '{}'.format(''.join('{:08x}'.format(x) for x in [h0,h1,h2,h3,h4,h5,h6,h7]))\n",
    "\n",
    "# The MD5 hash starts with the lowest order byte of A ... highest order byte of D\n",
    "print(\"OUTPUT            : \"+output_hash)\n",
    "print(\"REF. Hash         : 0x\"+ref_hash)"
   ]
  },
  {
   "cell_type": "markdown",
   "metadata": {},
   "source": [
    "## Compare with Python's `hashlib`"
   ]
  },
  {
   "cell_type": "code",
   "execution_count": 13,
   "metadata": {},
   "outputs": [],
   "source": [
    "import hashlib"
   ]
  },
  {
   "cell_type": "code",
   "execution_count": 14,
   "metadata": {},
   "outputs": [
    {
     "name": "stdout",
     "output_type": "stream",
     "text": [
      "Hashlib SHA512 : 0xddaf35a193617abacc417349ae20413112e6fa4e89a97ea20a9eeee64b55d39a2192992a274fc1a836ba3c23a3feebbd454d4423643ce80e2a9ac94fa54ca49f\n"
     ]
    }
   ],
   "source": [
    "H = hashlib.new('SHA512')\n",
    "H.update(message_b)\n",
    "sha512hash=H.hexdigest()\n",
    "print(\"Hashlib SHA512 : 0x\"+sha512hash)"
   ]
  },
  {
   "cell_type": "markdown",
   "metadata": {},
   "source": [
    "### References\n",
    "\n",
    "[SHA1](https://www.ietf.org/rfc/rfc3174.txt)\n",
    "2. [Wikipedia](https://en.wikipedia.org/wiki/SHA1)\n",
    "3. [Rosetta Code](https://rosettacode.org/wiki/SHA1/Implementation#Python)\n",
    "4. [Merkle Damgård construction](https://en.wikipedia.org/wiki/Merkle%E2%80%93Damg%C3%A5rd_construction)"
   ]
  }
 ],
 "metadata": {
  "kernelspec": {
   "display_name": "Python [conda env:anaconda3]",
   "language": "python",
   "name": "conda-env-anaconda3-py"
  },
  "language_info": {
   "codemirror_mode": {
    "name": "ipython",
    "version": 3
   },
   "file_extension": ".py",
   "mimetype": "text/x-python",
   "name": "python",
   "nbconvert_exporter": "python",
   "pygments_lexer": "ipython3",
   "version": "3.6.5"
  },
  "varInspector": {
   "cols": {
    "lenName": 16,
    "lenType": 16,
    "lenVar": 40
   },
   "kernels_config": {
    "python": {
     "delete_cmd_postfix": "",
     "delete_cmd_prefix": "del ",
     "library": "var_list.py",
     "varRefreshCmd": "print(var_dic_list())"
    },
    "r": {
     "delete_cmd_postfix": ") ",
     "delete_cmd_prefix": "rm(",
     "library": "var_list.r",
     "varRefreshCmd": "cat(var_dic_list()) "
    }
   },
   "types_to_exclude": [
    "module",
    "function",
    "builtin_function_or_method",
    "instance",
    "_Feature"
   ],
   "window_display": false
  }
 },
 "nbformat": 4,
 "nbformat_minor": 2
}
