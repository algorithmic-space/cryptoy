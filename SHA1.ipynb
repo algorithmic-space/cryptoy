{
 "cells": [
  {
   "cell_type": "markdown",
   "metadata": {},
   "source": [
    "# SHA1\n",
    "** Implementation of the RFC-3174 US Secure Hash Algorithm 1 **\n",
    "\n",
    "*... in Python*\n",
    "\n",
    "[SHA1](https://www.ietf.org/rfc/rfc3174.txt)"
   ]
  },
  {
   "cell_type": "markdown",
   "metadata": {},
   "source": [
    "### Define and Select Test Cases"
   ]
  },
  {
   "cell_type": "code",
   "execution_count": 1,
   "metadata": {},
   "outputs": [],
   "source": [
    "test_case=[[\"\",\"da39a3ee5e6b4b0d3255bfef95601890afd80709\"],\\\n",
    "           [\"a\",\"34aa973cd4c4daa4f61eeb2bdbad27316534016f\"],\\\n",
    "           [\"abc\",\"a9993e364706816aba3e25717850c26c9cd0d89d\"],\\\n",
    "           [\"abcdbcdecdefdefgefghfghighijhijkijkljklmklmnlmnomnopnopq\",\"84983e441c3bd26ebaae4aa1f95129e5e54670f1\"],\\\n",
    "           [\"abcdefghbcdefghicdefghijdefghijkefghijklfghijklmghijklmnhijklmnoijklmnopjklmnopqklmnopqrlmnopqrsmnopqrstnopqrstu\",\\\n",
    "            \"a49b2446a02c645bf419f995b67091253a04a259\"]]\n",
    "use_test_case = 3\n",
    "##\n",
    "message = test_case[use_test_case][0]\n",
    "ref_hash = test_case[use_test_case][1]"
   ]
  },
  {
   "cell_type": "markdown",
   "metadata": {},
   "source": [
    "### Step 1 - Append Padding Bits\n",
    "\n",
    "The messsage to be hashed is padded to have a length equal to 8 bytes {64 bits} less than being a multiple of 64 bytes {512 bits}. The padding step is performed even if the message length is already of desired length. The padding bit string used is `1` followed by `0` - `100...000`\n",
    "\n",
    "The message length is eventually 56 bytes {448 bits}, 120 bytes {960 bits}, 184 bytes {1472 bits}, 248 bytes {1984 bits} and so on."
   ]
  },
  {
   "cell_type": "code",
   "execution_count": 2,
   "metadata": {},
   "outputs": [
    {
     "name": "stdout",
     "output_type": "stream",
     "text": [
      "Message Length : 56 bytes {448 bits}\n"
     ]
    }
   ],
   "source": [
    "message_len = len(message)\n",
    "message_len_bits = message_len * 8\n",
    "print(\"Message Length : \" + str(message_len) + \" bytes {\" + str(message_len_bits) + \" bits}\")"
   ]
  },
  {
   "cell_type": "code",
   "execution_count": 3,
   "metadata": {},
   "outputs": [],
   "source": [
    "# Encode string to bytes\n",
    "message_b = message.encode('utf-8')"
   ]
  },
  {
   "cell_type": "code",
   "execution_count": 4,
   "metadata": {},
   "outputs": [
    {
     "name": "stdout",
     "output_type": "stream",
     "text": [
      "Padding Length : 64 bytes {512 bits}\n"
     ]
    }
   ],
   "source": [
    "# Calculate padding length\n",
    "padding_len=56-message_len%64\n",
    "padding_len=64 if (padding_len==0) else padding_len\n",
    "print(\"Padding Length : \" + str(padding_len) + \" bytes {\" + str(padding_len * 8) + \" bits}\")"
   ]
  },
  {
   "cell_type": "code",
   "execution_count": 5,
   "metadata": {},
   "outputs": [
    {
     "name": "stdout",
     "output_type": "stream",
     "text": [
      "Padded Message :\n",
      "b'abcdbcdecdefdefgefghfghighijhijkijkljklmklmnlmnomnopnopq\\x80\\x00\\x00\\x00\\x00\\x00\\x00\\x00\\x00\\x00\\x00\\x00\\x00\\x00\\x00\\x00\\x00\\x00\\x00\\x00\\x00\\x00\\x00\\x00\\x00\\x00\\x00\\x00\\x00\\x00\\x00\\x00\\x00\\x00\\x00\\x00\\x00\\x00\\x00\\x00\\x00\\x00\\x00\\x00\\x00\\x00\\x00\\x00\\x00\\x00\\x00\\x00\\x00\\x00\\x00\\x00\\x00\\x00\\x00\\x00\\x00\\x00\\x00\\x00'\n",
      "\n",
      "length(paddedMessage)      : 120 bytes {960 bits}\n",
      "length(paddedMessage) % 64 : 56 bytes {448 bits}\n"
     ]
    }
   ],
   "source": [
    "# Display Padded Message, length and calculation.\n",
    "message_mod448 = message_b + b'\\x80' + b'\\x00' * (padding_len-1)\n",
    "print(\"Padded Message :\\n\"+str(message_mod448))\n",
    "print(\"\\nlength(paddedMessage)      : \"+str(len(message_mod448))+\" bytes {\"+str(len(message_mod448*8))+\" bits}\\nlength(paddedMessage) % 64 : \"+str(len(message_mod448)%64)+\" bytes {\"+str((len(message_mod448)%64) * 8)+\" bits}\" )"
   ]
  },
  {
   "cell_type": "markdown",
   "metadata": {},
   "source": [
    "### Step 2 - Append Length\n",
    "\n",
    "The bit length of the original message is appened to this _64 bits short of %512 bit_ message. This bit length is appeneded as an 8 byte {64 bits} little endian integer.\n",
    "\n",
    "So, a message of length 14 bytes (_try test case # 3_) would have a bit length of 112 bits and the appended 64 bit little endian bit length would be `0x7000000000000000` (as hex) or `b'p\\x00\\x00\\x00\\x00\\x00\\x00\\x00'` (as a byte string). If the message length is $> 2^{64}$ bits, only the lower 64 bits are used for padding."
   ]
  },
  {
   "cell_type": "code",
   "execution_count": 6,
   "metadata": {},
   "outputs": [
    {
     "name": "stdout",
     "output_type": "stream",
     "text": [
      "LSB64(len(unPaddedMessage)) : b'\\x00\\x00\\x00\\x00\\x00\\x00\\x01\\xc0'\n",
      "length( paddedMessage | LSB64(len(unPaddedMessage)) ) : 128 bytes {1024 bits}\n",
      "\n",
      "Padded Message | LSB64(len(unPaddedMessage)) :\n",
      "b'abcdbcdecdefdefgefghfghighijhijkijkljklmklmnlmnomnopnopq\\x80\\x00\\x00\\x00\\x00\\x00\\x00\\x00\\x00\\x00\\x00\\x00\\x00\\x00\\x00\\x00\\x00\\x00\\x00\\x00\\x00\\x00\\x00\\x00\\x00\\x00\\x00\\x00\\x00\\x00\\x00\\x00\\x00\\x00\\x00\\x00\\x00\\x00\\x00\\x00\\x00\\x00\\x00\\x00\\x00\\x00\\x00\\x00\\x00\\x00\\x00\\x00\\x00\\x00\\x00\\x00\\x00\\x00\\x00\\x00\\x00\\x00\\x00\\x00\\x00\\x00\\x00\\x00\\x00\\x00\\x01\\xc0'\n"
     ]
    }
   ],
   "source": [
    "# Append Length\n",
    "processed_message=message_mod448+(message_len_bits%2**64).to_bytes(8,byteorder='big')\n",
    "print(\"LSB64(len(unPaddedMessage)) : \"+str((message_len_bits%2**64).to_bytes(8,byteorder='big')))\n",
    "print(\"length( paddedMessage | LSB64(len(unPaddedMessage)) ) : \"+str(len(processed_message))+\" bytes {\"+str(len(processed_message)*8)+\" bits}\")\n",
    "print(\"\\nPadded Message | LSB64(len(unPaddedMessage)) :\\n\"+str(processed_message))"
   ]
  },
  {
   "cell_type": "markdown",
   "metadata": {},
   "source": [
    "### Step 3 - Initilize Context"
   ]
  },
  {
   "cell_type": "code",
   "execution_count": 7,
   "metadata": {},
   "outputs": [],
   "source": [
    "h0 = 0x67452301\n",
    "h1 = 0xEFCDAB89\n",
    "h2 = 0x98BADCFE\n",
    "h3 = 0x10325476\n",
    "h4 = 0xC3D2E1F0"
   ]
  },
  {
   "cell_type": "markdown",
   "metadata": {},
   "source": [
    "### Step 4 - Process Message in 16-Word Blocks"
   ]
  },
  {
   "cell_type": "code",
   "execution_count": 8,
   "metadata": {},
   "outputs": [],
   "source": [
    "# Auxulary functions that take in 3x 32bit words and an index integer and return 1x32bit word.\n",
    "\n",
    "def F(t, B, C, D):\n",
    "    calc = 0;\n",
    "    if (0<=t & t<=19):\n",
    "        calc = (B&C) | (D&~B)\n",
    "    elif (20<=t & t<=39):\n",
    "        calc = B^C^D\n",
    "    elif (40<=t & t<=59):\n",
    "        calc = (B&C) | (B&D) | (C&D)\n",
    "    elif (60<=t & t<=79):\n",
    "        calc = B^C^D\n",
    "    else:\n",
    "        raise ValueError('t is not in the range 0<=j<=79 !')\n",
    "    return calc"
   ]
  },
  {
   "cell_type": "code",
   "execution_count": 9,
   "metadata": {},
   "outputs": [],
   "source": [
    "# Constant Table\n",
    "K = [0x5A827999]*20 + [0x6ED9EBA1]*20 + [0x8F1BBCDC]*20 +[0xCA62C1D6]*20"
   ]
  },
  {
   "cell_type": "code",
   "execution_count": 10,
   "metadata": {},
   "outputs": [],
   "source": [
    "# Rotate Left\n",
    "def rotl(x,s):\n",
    "    return ( (x<<s) | x>>(32-s))& 0xFFFFFFFF\n",
    "\n",
    "def words(M):\n",
    "    word_list=[0]*80\n",
    "    for i in range (0,16):\n",
    "        word_list[i]=int.from_bytes(M[i*4:i*4+4],byteorder='big')\n",
    "    return word_list"
   ]
  },
  {
   "cell_type": "code",
   "execution_count": 11,
   "metadata": {},
   "outputs": [],
   "source": [
    "# Shift Table\n",
    "R1_s=[7,12,17,22]*4\n",
    "R2_s=[5, 9,14,20]*4\n",
    "R3_s=[4,11,16,23]*4\n",
    "R4_s=[6,10,15,21]*4\n",
    "\n",
    "# K table (to use a sub-string of the message)\n",
    "R1_k = [0, 1, 2, 3, 4, 5, 6, 7, 8, 9, 10, 11, 12, 13, 14, 15]\n",
    "R2_k = [1, 6, 11, 0, 5, 10, 15, 4, 9, 14, 3, 8, 13, 2, 7, 12]\n",
    "R3_k = [5, 8, 11, 14, 1, 4, 7, 10, 13, 0, 3, 6, 9, 12, 15, 2]\n",
    "R4_k = [0, 7, 14, 5, 12, 3, 10, 1, 8, 15, 6, 13, 4, 11, 2, 9]"
   ]
  },
  {
   "cell_type": "code",
   "execution_count": 12,
   "metadata": {},
   "outputs": [],
   "source": [
    "def bytereverse(num32):\n",
    "    rev_byte=0;\n",
    "    for i in range(0,20):\n",
    "        #print(hex(num32)+\" \"+hex(rev_byte))\n",
    "        rev_byte = rev_byte << 8\n",
    "        \n",
    "        low_order_byte = num32 & 0xFF\n",
    "        rev_byte = rev_byte | low_order_byte\n",
    "        \n",
    "        num32 = num32 >> 8\n",
    "    return rev_byte"
   ]
  },
  {
   "cell_type": "code",
   "execution_count": 13,
   "metadata": {
    "scrolled": true
   },
   "outputs": [
    {
     "name": "stdout",
     "output_type": "stream",
     "text": [
      "PROCESSING bytes 0...64\n",
      "\n",
      "Message chunk being processed :\n",
      "b'abcdbcdecdefdefgefghfghighijhijkijkljklmklmnlmnomnopnopq\\x80\\x00\\x00\\x00\\x00\\x00\\x00\\x00' \n",
      "\n",
      "168180286\n",
      "3638222047\n",
      "3671908032\n",
      "3369252030\n",
      "1869970267\n",
      "1971018087\n",
      "2376166768\n",
      "3673094842\n",
      "4210477750\n",
      "2801493850\n",
      "207637704\n",
      "1615642668\n",
      "1237378786\n",
      "787008444\n",
      "3486985924\n",
      "2548662542\n",
      "160025576\n",
      "4064822270\n",
      "1547751610\n",
      "2832845883\n",
      "2998494830\n",
      "3128652215\n",
      "548571762\n",
      "2995451136\n",
      "2328393794\n",
      "681238004\n",
      "1456807713\n",
      "3647700946\n",
      "946399096\n",
      "2875082824\n",
      "2131632408\n",
      "3733430545\n",
      "3904788144\n",
      "436921938\n",
      "3444969928\n",
      "1190078940\n",
      "1624496749\n",
      "3723737710\n",
      "657978857\n",
      "1216915216\n",
      "3533772667\n",
      "2576966459\n",
      "3603340547\n",
      "3438678651\n",
      "2086207085\n",
      "4258897000\n",
      "4175634548\n",
      "3770301565\n",
      "354523350\n",
      "2067732866\n",
      "938661303\n",
      "2241212990\n",
      "2164756694\n",
      "3198200130\n",
      "298312113\n",
      "1633210625\n",
      "1607301081\n",
      "2133791462\n",
      "4167618481\n",
      "3605633001\n",
      "4112955474\n",
      "3075968460\n",
      "1440325108\n",
      "536254808\n",
      "\n",
      "*** SHA Buffers after processing chunk ***\n",
      "[H0..H4] = [f4286818 c37b27ae  408f581 84677148 4a566572]\n",
      "\n",
      "\n",
      "PROCESSING bytes 64...128\n",
      "\n",
      "Message chunk being processed :\n",
      "b'\\x00\\x00\\x00\\x00\\x00\\x00\\x00\\x00\\x00\\x00\\x00\\x00\\x00\\x00\\x00\\x00\\x00\\x00\\x00\\x00\\x00\\x00\\x00\\x00\\x00\\x00\\x00\\x00\\x00\\x00\\x00\\x00\\x00\\x00\\x00\\x00\\x00\\x00\\x00\\x00\\x00\\x00\\x00\\x00\\x00\\x00\\x00\\x00\\x00\\x00\\x00\\x00\\x00\\x00\\x00\\x00\\x00\\x00\\x00\\x00\\x00\\x00\\x01\\xc0' \n",
      "\n",
      "0\n",
      "0\n",
      "896\n",
      "0\n",
      "0\n",
      "1792\n",
      "0\n",
      "896\n",
      "3584\n",
      "0\n",
      "0\n",
      "7168\n",
      "0\n",
      "3456\n",
      "14336\n",
      "1152\n",
      "0\n",
      "28672\n",
      "3584\n",
      "13824\n",
      "57344\n",
      "3584\n",
      "0\n",
      "118272\n",
      "0\n",
      "55296\n",
      "229376\n",
      "20224\n",
      "0\n",
      "462336\n",
      "60928\n",
      "226560\n",
      "917504\n",
      "57344\n",
      "13824\n",
      "1895936\n",
      "0\n",
      "913408\n",
      "3670016\n",
      "312832\n",
      "57344\n",
      "7400960\n",
      "974848\n",
      "3579392\n",
      "14680064\n",
      "972288\n",
      "57344\n",
      "30320128\n",
      "0\n",
      "14155776\n",
      "58777600\n",
      "5177344\n",
      "0\n",
      "118358016\n",
      "15597568\n",
      "58006528\n",
      "234881024\n",
      "14737408\n",
      "3553280\n",
      "485396480\n",
      "0\n",
      "233869312\n",
      "939581440\n",
      "80180224\n",
      "\n",
      "*** SHA Buffers after processing chunk ***\n",
      "[H0..H4] = [84983e44 1c3bd26e baae4aa1 f95129e5 e54670f1]\n",
      "\n",
      "\n"
     ]
    }
   ],
   "source": [
    "# Loop though the various 512 bit blocks of a long message.\n",
    "for i in range(0,len(processed_message),64):\n",
    "    M = processed_message[i:i+64]\n",
    "    W = words(M)\n",
    "    print(\"PROCESSING bytes \"+str(i)+\"...\"+str(i+64))\n",
    "    print(\"\\nMessage chunk being processed :\\n\"+str(M)+\" \\n\")\n",
    "    for t in range (16,80):\n",
    "        W[t]=rotl(W[t-3]^W[t-8]^W[t-14]^W[t-16],1)\n",
    "        print(W[t])\n",
    "    [A,B,C,D,E]=[h0,h1,h2,h3,h4]\n",
    "    for t in range(0,80):\n",
    "        T = (rotl(A,5) + F(t,B,C,D) + E + W[t] + K[t])& 0xFFFFFFFF\n",
    "        [E,D,C,B,A]=[D,C,rotl(B,30),A,T]\n",
    "    [h0,h1,h2,h3,h4]=[(h0+A)& 0xFFFFFFFF, (h1+B)& 0xFFFFFFFF, (h2+C)& 0xFFFFFFFF, (h3+D)& 0xFFFFFFFF, (h4+E)& 0xFFFFFFFF]\n",
    "\n",
    "    # Display Updated MD Buffers\n",
    "    print(\"\\n*** SHA Buffers after processing chunk ***\\n[H0..H4] = \"+\"[{:8x} {:8x} {:8x} {:8x} {:8x}]\".format(h0,h1,h2,h3,h4)+\"\\n\\n\")"
   ]
  },
  {
   "cell_type": "code",
   "execution_count": 14,
   "metadata": {},
   "outputs": [
    {
     "name": "stdout",
     "output_type": "stream",
     "text": [
      "OUTPUT      : 0x84983e441c3bd26ebaae4aa1f95129e5e54670f1\n",
      "REF. Hash   : 0x84983e441c3bd26ebaae4aa1f95129e5e54670f1\n"
     ]
    }
   ],
   "source": [
    "# Compute output hash from the MD buffers.\n",
    "output_int = h0<<128 | h1<<96 | h2 <<64 | h3 << 32 | h4\n",
    "\n",
    "# The MD5 hash starts with the lowest order byte of A ... highest order byte of D\n",
    "print(\"OUTPUT      : \"+hex(output_int))\n",
    "print(\"REF. Hash   : 0x\"+test_case[use_test_case][1])"
   ]
  },
  {
   "cell_type": "markdown",
   "metadata": {},
   "source": [
    "## Compare with Python's `hashlib`"
   ]
  },
  {
   "cell_type": "code",
   "execution_count": 15,
   "metadata": {},
   "outputs": [],
   "source": [
    "import hashlib"
   ]
  },
  {
   "cell_type": "code",
   "execution_count": 16,
   "metadata": {},
   "outputs": [
    {
     "name": "stdout",
     "output_type": "stream",
     "text": [
      "Hashlib SHA1 : 0x84983e441c3bd26ebaae4aa1f95129e5e54670f1\n"
     ]
    }
   ],
   "source": [
    "H = hashlib.new('SHA1')\n",
    "H.update(message_b)\n",
    "sha1hash=H.hexdigest()\n",
    "print(\"Hashlib SHA1 : 0x\"+sha1hash)"
   ]
  },
  {
   "cell_type": "markdown",
   "metadata": {},
   "source": [
    "### References\n",
    "\n",
    "[SHA1](https://www.ietf.org/rfc/rfc3174.txt)\n",
    "2. [Wikipedia](https://en.wikipedia.org/wiki/SHA1)\n",
    "3. [Rosetta Code](https://rosettacode.org/wiki/SHA1/Implementation#Python)\n",
    "4. [Merkle Damgård construction](https://en.wikipedia.org/wiki/Merkle%E2%80%93Damg%C3%A5rd_construction)"
   ]
  }
 ],
 "metadata": {
  "kernelspec": {
   "display_name": "Python [conda env:anaconda3]",
   "language": "python",
   "name": "conda-env-anaconda3-py"
  },
  "language_info": {
   "codemirror_mode": {
    "name": "ipython",
    "version": 3
   },
   "file_extension": ".py",
   "mimetype": "text/x-python",
   "name": "python",
   "nbconvert_exporter": "python",
   "pygments_lexer": "ipython3",
   "version": "3.6.5"
  }
 },
 "nbformat": 4,
 "nbformat_minor": 2
}
